{
 "cells": [
  {
   "cell_type": "markdown",
   "id": "435d0415-6a66-4128-b2ae-ab354b07102d",
   "metadata": {},
   "source": [
    "# JS in browser: forms"
   ]
  },
  {
   "cell_type": "markdown",
   "id": "775e6c83-0395-4d79-9d3c-2d3c38e668c7",
   "metadata": {},
   "source": [
    "## Initialization code"
   ]
  },
  {
   "cell_type": "code",
   "execution_count": 3,
   "id": "08dd859c-5052-4add-8ad4-a22fb093d94e",
   "metadata": {},
   "outputs": [],
   "source": [
    "import * as tslab from \"tslab\";\n",
    "\n",
    "var display = tslab.display;\n",
    "var html = display.html.bind(display);"
   ]
  },
  {
   "cell_type": "markdown",
   "id": "6b225ef2-e690-4bd5-8395-113ad249c52d",
   "metadata": {},
   "source": [
    "## How do you perform form validation using javascript"
   ]
  },
  {
   "cell_type": "code",
   "execution_count": 8,
   "id": "14de5f39-3fd2-4dec-89fc-d9c5d04cd4a6",
   "metadata": {},
   "outputs": [
    {
     "data": {
      "text/html": [
       "\n",
       "    <div id=\"example-form-validate-js\">\n",
       "        <form name=\"myForm\" onsubmit=\"return validateForm()\" method=\"post\">\n",
       "          User name: <input type=\"text\" name=\"userName\" />\n",
       "          <input type=\"submit\" value=\"Submit\" />\n",
       "        </form>\n",
       "\n",
       "        <script>\n",
       "            function validateForm() {\n",
       "              var myForm = document.forms[\"myForm\"];\n",
       "              var userName = myForm[\"userName\"].value;\n",
       "              if (userName == \"\") {\n",
       "                console.error(\"The username shouldn't be empty\");\n",
       "                return false;\n",
       "              }\n",
       "            }\n",
       "        </script>\n",
       "    </div>\n"
      ]
     },
     "metadata": {},
     "output_type": "display_data"
    }
   ],
   "source": [
    "html(`\n",
    "    <div id=\"example-form-validate-js\">\n",
    "        <form name=\"myForm\" onsubmit=\"return validateForm()\" method=\"post\">\n",
    "          User name: <input type=\"text\" name=\"userName\" />\n",
    "          <input type=\"submit\" value=\"Submit\" />\n",
    "        </form>\n",
    "\n",
    "        <script>\n",
    "            function validateForm() {\n",
    "              var myForm = document.forms[\"myForm\"];\n",
    "              var userName = myForm[\"userName\"].value;\n",
    "              if (userName == \"\") {\n",
    "                console.error(\"The username shouldn't be empty\");\n",
    "                return false;\n",
    "              }\n",
    "            }\n",
    "        </script>\n",
    "    </div>\n",
    "`);"
   ]
  },
  {
   "cell_type": "markdown",
   "id": "4d4b1d9c-56b1-43b5-a89e-cc99bf086ef5",
   "metadata": {},
   "source": [
    "## How do you perform form validation without javascript\n",
    "\n",
    "- [MDN: HTML5 built-in form validation](https://developer.mozilla.org/en-US/docs/Learn/Forms/Form_validation#using_built-in_form_validation)\n",
    "\n",
    "Note: String.raw needed for `\\` not to be escaped"
   ]
  },
  {
   "cell_type": "code",
   "execution_count": 24,
   "id": "5740360e-1266-4711-813e-ff7d62dba622",
   "metadata": {},
   "outputs": [
    {
     "data": {
      "text/html": [
       "\n",
       "    <form method=\"post\">\n",
       "      <div><input type=\"text\" name=\"uname\" placeholder=\"Name\" required /></div>\n",
       "      <div><textarea name=\"bio\" placeholder=\"Bio\" cols=\"50\" rows=\"4\" minlength=\"10\" maxlength=\"120\"></textarea></div>\n",
       "      <div><input name=\"year\" placeholder=\"Year\" pattern=\"(19|20)\\d{2,2}\" required></input></div>\n",
       "      <div><input type=\"email\" placeholder=\"E-mail\"></input></div>\n",
       "      <input type=\"submit\" value=\"Submit\" />\n",
       "    </form>\n"
      ]
     },
     "metadata": {},
     "output_type": "display_data"
    }
   ],
   "source": [
    "html(String.raw`\n",
    "    <form method=\"post\">\n",
    "      <div><input type=\"text\" name=\"uname\" placeholder=\"Name\" required /></div>\n",
    "      <div><textarea name=\"bio\" placeholder=\"Bio\" cols=\"50\" rows=\"4\" minlength=\"10\" maxlength=\"120\"></textarea></div>\n",
    "      <div><input name=\"year\" placeholder=\"Year\" pattern=\"(19|20)\\d{2,2}\" required></input></div>\n",
    "      <div><input type=\"email\" placeholder=\"E-mail\"></input></div>\n",
    "      <input type=\"submit\" value=\"Submit\" />\n",
    "    </form>\n",
    "`)"
   ]
  },
  {
   "cell_type": "code",
   "execution_count": null,
   "id": "f61038df-9112-4f0f-a3b4-10437d28baa0",
   "metadata": {},
   "outputs": [],
   "source": []
  }
 ],
 "metadata": {
  "kernelspec": {
   "display_name": "JavaScript",
   "language": "javascript",
   "name": "jslab"
  },
  "language_info": {
   "file_extension": ".js",
   "mimetype": "text/javascript",
   "name": "javascript",
   "version": ""
  }
 },
 "nbformat": 4,
 "nbformat_minor": 5
}
