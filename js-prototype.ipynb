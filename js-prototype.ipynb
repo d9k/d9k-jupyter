{
 "cells": [
  {
   "cell_type": "markdown",
   "id": "f9b1463c-c066-4084-9938-a3dce112eb90",
   "metadata": {},
   "source": [
    "# js-prototype\n",
    "\n"
   ]
  },
  {
   "cell_type": "markdown",
   "id": "3df623c8-8359-4c99-8cdb-ea129b17d083",
   "metadata": {},
   "source": [
    "## What is the difference between proto and prototype\n",
    "\n",
    "https://github.com/sudheerj/javascript-interview-questions#what-is-the-difference-between-proto-and-prototype"
   ]
  },
  {
   "cell_type": "code",
   "execution_count": 27,
   "id": "96c090dc-6196-4fc1-bdf7-70e84594b926",
   "metadata": {},
   "outputs": [
    {
     "name": "stdout",
     "output_type": "stream",
     "text": [
      "Employee { name: \u001b[32m'Bill'\u001b[39m, company: \u001b[32m'Microsoft'\u001b[39m }\n",
      "Employee.prototype: Person {}\n"
     ]
    },
    {
     "name": "stderr",
     "output_type": "stream",
     "text": [
      "Employee.__proto__: \u001b[36m[class Person]\u001b[39m\n"
     ]
    },
    {
     "name": "stdout",
     "output_type": "stream",
     "text": [
      "employeeBill.prototype: \u001b[90mundefined\u001b[39m\n"
     ]
    },
    {
     "name": "stderr",
     "output_type": "stream",
     "text": [
      "employeeBill.__proto__: Person {}\n"
     ]
    }
   ],
   "source": [
    "class Person {\n",
    "    constructor (name) {\n",
    "        this.name = name;\n",
    "    }\n",
    "}\n",
    "\n",
    "class Employee extends Person {\n",
    "    constructor (name, company) {\n",
    "        super(name)\n",
    "        this.company = company\n",
    "    }\n",
    "}\n",
    "\n",
    "const employeeBill = new Employee('Bill', 'Microsoft')\n",
    "\n",
    "console.log(employeeBill);\n",
    "\n",
    "console.log('Employee.prototype:', Employee.prototype);\n",
    "// @ts-ignore\n",
    "console.error('Employee.__proto__:', Employee.__proto__);\n",
    "\n",
    "// @ts-ignore\n",
    "console.log('employeeBill.prototype:', employeeBill.prototype);\n",
    "// @ts-ignore\n",
    "console.error('employeeBill.__proto__:', employeeBill.__proto__);\n",
    "\n"
   ]
  },
  {
   "cell_type": "markdown",
   "id": "7fbd62c9-6cfb-4533-90e4-e96de84dc2af",
   "metadata": {},
   "source": [
    "## Get the prototype of an object"
   ]
  },
  {
   "cell_type": "code",
   "execution_count": 2,
   "id": "26e79dff-059d-4b06-b37a-32bb5da48829",
   "metadata": {},
   "outputs": [
    {
     "name": "stdout",
     "output_type": "stream",
     "text": [
      "\u001b[33mtrue\u001b[39m\n"
     ]
    }
   ],
   "source": [
    "const newPrototype = {};\n",
    "const newObject = Object.create(newPrototype);\n",
    "\n",
    "Object.getPrototypeOf(newObject) === newPrototype;"
   ]
  },
  {
   "cell_type": "markdown",
   "id": "be479f23-6d4c-469a-998a-afe1861bb181",
   "metadata": {},
   "source": [
    "## Difference between static and prototype properties \n",
    "\n",
    "- https://developer.mozilla.org/en-US/docs/Web/JavaScript/Reference/Global_Objects/Object/setPrototypeOf"
   ]
  },
  {
   "cell_type": "code",
   "execution_count": 51,
   "id": "fceaa758-b804-48f8-884b-b356ba145053",
   "metadata": {},
   "outputs": [
    {
     "name": "stdout",
     "output_type": "stream",
     "text": [
      "Person { name: \u001b[32m'Bob'\u001b[39m }\n",
      "\u001b[90mundefined\u001b[39m\n"
     ]
    }
   ],
   "source": [
    "function Being(name) {\n",
    "  this.name = name;\n",
    "}\n",
    "\n",
    "Being.metaName = 'being';\n",
    "\n",
    "Being.prototype.material = true;\n",
    "\n",
    "function Person(name) {\n",
    "  Being.call(this, name);\n",
    "}\n",
    "\n",
    "Person.averageHeight = 185;\n",
    "\n",
    "Object.setPrototypeOf(Person.prototype, Being.prototype);\n",
    "\n",
    "var personBob = new Person('Bob');\n",
    "\n",
    "console.log(personBob);\n",
    "console.log(personBob.averageHeight);"
   ]
  },
  {
   "cell_type": "code",
   "execution_count": 52,
   "id": "2e7ff75e-58de-4352-861f-741228aeaa7e",
   "metadata": {},
   "outputs": [
    {
     "name": "stdout",
     "output_type": "stream",
     "text": [
      "\u001b[33m185\u001b[39m\n",
      "\u001b[90mundefined\u001b[39m\n",
      "\u001b[90mundefined\u001b[39m\n"
     ]
    }
   ],
   "source": [
    "console.log(Person.averageHeight);\n",
    "// @ts-ignore\n",
    "console.log(Person.material);\n",
    "// @ts-ignore\n",
    "console.log(Being.material);"
   ]
  },
  {
   "cell_type": "code",
   "execution_count": 53,
   "id": "57c4534c-1b23-4ffd-bb68-2863f5b30295",
   "metadata": {},
   "outputs": [
    {
     "name": "stdout",
     "output_type": "stream",
     "text": [
      "\u001b[33mtrue\u001b[39m\n",
      "\u001b[33mtrue\u001b[39m\n",
      "\u001b[33mtrue\u001b[39m\n"
     ]
    }
   ],
   "source": [
    "console.log(personBob.material);\n",
    "console.log(Being.prototype.material);\n",
    "console.log(Person.prototype.material);"
   ]
  },
  {
   "cell_type": "code",
   "execution_count": 54,
   "id": "84364617-dbbe-4f2f-b0a0-f22510c856d7",
   "metadata": {},
   "outputs": [
    {
     "name": "stdout",
     "output_type": "stream",
     "text": [
      "{ material: \u001b[33mtrue\u001b[39m }\n",
      "Being {}\n"
     ]
    }
   ],
   "source": [
    "console.log(Being.prototype)\n",
    "console.log(Person.prototype)"
   ]
  },
  {
   "cell_type": "code",
   "execution_count": 55,
   "id": "a70e9481-5f4d-426a-ba9d-600bf7d3d029",
   "metadata": {},
   "outputs": [
    {
     "name": "stdout",
     "output_type": "stream",
     "text": [
      "\u001b[90mundefined\u001b[39m\n",
      "being\n",
      "being\n"
     ]
    }
   ],
   "source": [
    "// @ts-ignore\n",
    "console.log(Person.metaName);\n",
    "// @ts-ignore\n",
    "console.log(Being.metaName);\n",
    "\n",
    "Object.setPrototypeOf(Person, Being);\n",
    "\n",
    "// @ts-ignore\n",
    "console.log(Person.metaName);"
   ]
  },
  {
   "cell_type": "markdown",
   "id": "cc616564-8e66-49ae-86c9-db8f3cd90a9a",
   "metadata": {},
   "source": [
    "## Execution context"
   ]
  },
  {
   "cell_type": "markdown",
   "id": "24f66ca7-d7a5-4c2b-ab8c-19c783d3ef9d",
   "metadata": {},
   "source": [
    "https://github.com/sudheerj/javascript-interview-questions#50-what-is-the-output-of-below-code"
   ]
  },
  {
   "cell_type": "code",
   "execution_count": 66,
   "id": "78ff6cea-120a-40c0-bec6-a5d17b004528",
   "metadata": {},
   "outputs": [
    {
     "name": "stdout",
     "output_type": "stream",
     "text": [
      "\u001b[33mtrue\u001b[39m\n",
      "\u001b[33mtrue\u001b[39m\n"
     ]
    }
   ],
   "source": [
    "function Person() {}\n",
    "\n",
    "Person.prototype.walk = function () {\n",
    "  return this;\n",
    "};\n",
    "\n",
    "Person.run = function () {\n",
    "  return this;\n",
    "};\n",
    "\n",
    "var user = new Person();\n",
    "var walk = user.walk;\n",
    "var run = Person.run;\n",
    "\n",
    "/** @ts-ignore */\n",
    "console.log(walk() === global);\n",
    "/** @ts-ignore */\n",
    "console.log(run() === global);"
   ]
  },
  {
   "cell_type": "code",
   "execution_count": 61,
   "id": "bf9799bd-79f4-4123-b0a4-2bca77d53591",
   "metadata": {},
   "outputs": [
    {
     "name": "stdout",
     "output_type": "stream",
     "text": [
      "Person {}\n",
      "[Function: Person] { run: \u001b[36m[Function (anonymous)]\u001b[39m }\n"
     ]
    }
   ],
   "source": [
    "console.log(user.walk());\n",
    "console.log(Person.run());"
   ]
  },
  {
   "cell_type": "code",
   "execution_count": 67,
   "id": "edff6a99-f7e3-48fa-85fa-bc6ed35b277f",
   "metadata": {},
   "outputs": [
    {
     "name": "stderr",
     "output_type": "stream",
     "text": [
      "4:13 - This comparison appears to be unintentional because the types 'Person' and 'typeof globalThis' have no overlap.\n",
      "5:13 - This comparison appears to be unintentional because the types 'typeof Person' and 'typeof globalThis' have no overlap.\n"
     ]
    }
   ],
   "source": [
    "var walkBound = walk.bind(user);\n",
    "var runBound = run.bind(Person);\n",
    "\n",
    "console.log(walk() === global);\n",
    "console.log(run() === global);\n",
    "console.log(walkBound());\n",
    "console.log(runBound());"
   ]
  }
 ],
 "metadata": {
  "kernelspec": {
   "display_name": "JavaScript",
   "language": "javascript",
   "name": "jslab"
  },
  "language_info": {
   "file_extension": ".js",
   "mimetype": "text/javascript",
   "name": "javascript",
   "version": ""
  }
 },
 "nbformat": 4,
 "nbformat_minor": 5
}
