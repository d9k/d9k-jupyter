{
 "cells": [
  {
   "cell_type": "markdown",
   "id": "f9b1463c-c066-4084-9938-a3dce112eb90",
   "metadata": {},
   "source": [
    "# js-prototype\n",
    "\n"
   ]
  },
  {
   "cell_type": "markdown",
   "id": "3df623c8-8359-4c99-8cdb-ea129b17d083",
   "metadata": {},
   "source": [
    "## What is the difference between proto and prototype\n",
    "\n",
    "https://github.com/sudheerj/javascript-interview-questions#what-is-the-difference-between-proto-and-prototype"
   ]
  },
  {
   "cell_type": "code",
   "execution_count": 27,
   "id": "96c090dc-6196-4fc1-bdf7-70e84594b926",
   "metadata": {},
   "outputs": [
    {
     "name": "stdout",
     "output_type": "stream",
     "text": [
      "Employee { name: \u001b[32m'Bill'\u001b[39m, company: \u001b[32m'Microsoft'\u001b[39m }\n",
      "Employee.prototype: Person {}\n"
     ]
    },
    {
     "name": "stderr",
     "output_type": "stream",
     "text": [
      "Employee.__proto__: \u001b[36m[class Person]\u001b[39m\n"
     ]
    },
    {
     "name": "stdout",
     "output_type": "stream",
     "text": [
      "employeeBill.prototype: \u001b[90mundefined\u001b[39m\n"
     ]
    },
    {
     "name": "stderr",
     "output_type": "stream",
     "text": [
      "employeeBill.__proto__: Person {}\n"
     ]
    }
   ],
   "source": [
    "class Person {\n",
    "    constructor (name) {\n",
    "        this.name = name;\n",
    "    }\n",
    "}\n",
    "\n",
    "class Employee extends Person {\n",
    "    constructor (name, company) {\n",
    "        super(name)\n",
    "        this.company = company\n",
    "    }\n",
    "}\n",
    "\n",
    "const employeeBill = new Employee('Bill', 'Microsoft')\n",
    "\n",
    "console.log(employeeBill);\n",
    "\n",
    "console.log('Employee.prototype:', Employee.prototype);\n",
    "// @ts-ignore\n",
    "console.error('Employee.__proto__:', Employee.__proto__);\n",
    "\n",
    "// @ts-ignore\n",
    "console.log('employeeBill.prototype:', employeeBill.prototype);\n",
    "// @ts-ignore\n",
    "console.error('employeeBill.__proto__:', employeeBill.__proto__);\n",
    "\n"
   ]
  },
  {
   "cell_type": "code",
   "execution_count": null,
   "id": "865340ec-8396-45c4-be12-e0b005a3cda2",
   "metadata": {},
   "outputs": [],
   "source": [
    "\n"
   ]
  }
 ],
 "metadata": {
  "kernelspec": {
   "display_name": "JavaScript",
   "language": "javascript",
   "name": "jslab"
  },
  "language_info": {
   "file_extension": ".js",
   "mimetype": "text/javascript",
   "name": "javascript",
   "version": ""
  }
 },
 "nbformat": 4,
 "nbformat_minor": 5
}
