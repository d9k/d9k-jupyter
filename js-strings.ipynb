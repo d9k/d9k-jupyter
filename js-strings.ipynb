{
 "cells": [
  {
   "cell_type": "markdown",
   "id": "83a94c8d-94c8-4846-9cee-3e0630a4440c",
   "metadata": {},
   "source": [
    "# JS strings\n",
    "\n",
    "## 3 ways to check for substring"
   ]
  },
  {
   "cell_type": "code",
   "execution_count": 1,
   "id": "9b655221-fb03-4b3e-9526-a13dd83dfad7",
   "metadata": {},
   "outputs": [
    {
     "data": {
      "text/plain": [
       "true"
      ]
     },
     "execution_count": 1,
     "metadata": {},
     "output_type": "execute_result"
    }
   ],
   "source": [
    "'javascript'.includes('script')"
   ]
  },
  {
   "cell_type": "code",
   "execution_count": 2,
   "id": "171d973d-59e5-446e-b5ef-e459df312c4f",
   "metadata": {},
   "outputs": [
    {
     "data": {
      "text/plain": [
       "false"
      ]
     },
     "execution_count": 2,
     "metadata": {},
     "output_type": "execute_result"
    }
   ],
   "source": [
    "'javascript'.includes('robustness')"
   ]
  },
  {
   "cell_type": "code",
   "execution_count": 4,
   "id": "32df9470-ab94-4167-9e7b-f8a33a838daf",
   "metadata": {},
   "outputs": [
    {
     "data": {
      "text/plain": [
       "true"
      ]
     },
     "execution_count": 4,
     "metadata": {},
     "output_type": "execute_result"
    }
   ],
   "source": [
    "'javascript'.indexOf('script') !== -1"
   ]
  },
  {
   "cell_type": "code",
   "execution_count": 8,
   "id": "eeb3dc8f-b7a5-4752-a6da-13dc0f9efc2e",
   "metadata": {},
   "outputs": [
    {
     "data": {
      "text/plain": [
       "false"
      ]
     },
     "execution_count": 8,
     "metadata": {},
     "output_type": "execute_result"
    }
   ],
   "source": [
    "'javascript'.indexOf('robustness') !== -1"
   ]
  },
  {
   "cell_type": "code",
   "execution_count": 6,
   "id": "3d47996b-48e6-406f-a093-43bc97112ae6",
   "metadata": {},
   "outputs": [
    {
     "data": {
      "text/plain": [
       "true"
      ]
     },
     "execution_count": 6,
     "metadata": {},
     "output_type": "execute_result"
    }
   ],
   "source": [
    "(/script/).test('javascript')"
   ]
  },
  {
   "cell_type": "code",
   "execution_count": 7,
   "id": "64d8fe5a-50b7-4135-9e4f-478fc8b197f2",
   "metadata": {},
   "outputs": [
    {
     "data": {
      "text/plain": [
       "false"
      ]
     },
     "execution_count": 7,
     "metadata": {},
     "output_type": "execute_result"
    }
   ],
   "source": [
    "(/robustness/).test('javascript')"
   ]
  },
  {
   "cell_type": "markdown",
   "id": "0c9906fd-2324-4985-84c2-86c33f9d8464",
   "metadata": {},
   "source": [
    "## Parse query string"
   ]
  },
  {
   "cell_type": "code",
   "execution_count": 26,
   "id": "0fc1aac6-9386-4ce6-ac8e-8b74ef11f813",
   "metadata": {},
   "outputs": [
    {
     "name": "stdout",
     "output_type": "stream",
     "text": [
      "[ 'whale', 'rabbit' ]\n",
      "5\n"
     ]
    }
   ],
   "source": [
    "var p = new URLSearchParams('animals=whale&animals=rabbit&age=5');\n",
    "console.log(p.getAll('animals'));\n",
    "console.log(p.get('age'));"
   ]
  },
  {
   "cell_type": "markdown",
   "id": "638333d8-13a3-4325-a42e-2870abc95189",
   "metadata": {},
   "source": [
    "## Concat query string"
   ]
  },
  {
   "cell_type": "code",
   "execution_count": 28,
   "id": "26d0eea9-66cd-4ae5-afb2-272215913909",
   "metadata": {},
   "outputs": [
    {
     "data": {
      "text/plain": [
       "'animals=whale&animals=rabbit&age=5'"
      ]
     },
     "execution_count": 28,
     "metadata": {},
     "output_type": "execute_result"
    }
   ],
   "source": [
    "var p = new URLSearchParams();\n",
    "p.append('animals', 'whale');\n",
    "p.append('animals', 'rabbit');\n",
    "p.append('age', 5);\n",
    "p.toString()"
   ]
  },
  {
   "cell_type": "markdown",
   "id": "d56e505e-3962-492e-87f0-0d0c5a8ebcd5",
   "metadata": {},
   "source": [
    "## Regular expressions: modifiers\n",
    "\n",
    "- `i` - case-insensitive matching\n",
    "- `g` - global match (all matches).\n",
    "- `m` - multiline matching. Only affects the behavior of `^` and end `$`."
   ]
  },
  {
   "cell_type": "code",
   "execution_count": 50,
   "id": "4a4f561d-eae3-4788-bea3-1b953b49556f",
   "metadata": {},
   "outputs": [
    {
     "name": "stdout",
     "output_type": "stream",
     "text": [
      "/one/: [\n",
      "  'one',\n",
      "  index: 13,\n",
      "  input: 'One earns JS one by one\\nand uncertainty will gone\\neventually',\n",
      "  groups: undefined\n",
      "]\n",
      "/one/g: [ 'one', 'one', 'one' ]\n",
      "/one/m: [\n",
      "  'one',\n",
      "  index: 13,\n",
      "  input: 'One earns JS one by one\\nand uncertainty will gone\\neventually',\n",
      "  groups: undefined\n",
      "]\n",
      "/one/i: [\n",
      "  'One',\n",
      "  index: 0,\n",
      "  input: 'One earns JS one by one\\nand uncertainty will gone\\neventually',\n",
      "  groups: undefined\n",
      "]\n",
      "/one/gmi: [ 'One', 'one', 'one', 'one' ]\n",
      "/gone$/: null\n",
      "/gone$/m: [\n",
      "  'gone',\n",
      "  index: 45,\n",
      "  input: 'One earns JS one by one\\nand uncertainty will gone\\neventually',\n",
      "  groups: undefined\n",
      "]\n"
     ]
    }
   ],
   "source": [
    "var text = `One earns JS one by one\n",
    "and uncertainty will gone\n",
    "eventually`;\n",
    "console.log('/one/:', text.match(/one/)); // one\n",
    "console.log('/one/g:', text.match(/one/g)); // one,one,one\n",
    "console.log('/one/m:', text.match(/one/m)); // one\n",
    "console.log('/one/i:', text.match(/one/i)); // One\n",
    "console.log('/one/gmi:', text.match(/one/gmi)); // One, one, one, one\n",
    "console.log('/gone$/:', text.match(/gone$/)); // <empty>\n",
    "console.log('/gone$/m:', text.match(/gone$/m)); // gone"
   ]
  },
  {
   "cell_type": "markdown",
   "id": "ab1abd56-88bb-4e6f-a381-559b9549a732",
   "metadata": {},
   "source": [
    "## Regex Greedy quantisers\n",
    "\n",
    "https://developer.mozilla.org/en-US/docs/Web/JavaScript/Guide/Regular_expressions/Quantifiers\n",
    "\n"
   ]
  },
  {
   "cell_type": "code",
   "execution_count": 53,
   "id": "a3cd645b-de21-4e91-8ca5-e874ea43ecaa",
   "metadata": {},
   "outputs": [
    {
     "name": "stdout",
     "output_type": "stream",
     "text": [
      "[ '[He]', '[s]', '[Alice in Wonderland]' ]\n",
      "[ '[He] ha[s] to go read this novel [Alice in Wonderland]' ]\n"
     ]
    }
   ],
   "source": [
    "var text = '[He] ha[s] to go read this novel [Alice in Wonderland].';\n",
    "\n",
    "console.log(text.match(/\\[.*?\\]/g));\n",
    "console.log(text.match(/\\[.*\\]/g));"
   ]
  }
 ],
 "metadata": {
  "kernelspec": {
   "display_name": "JavaScript (Node.js)",
   "language": "javascript",
   "name": "javascript"
  },
  "language_info": {
   "file_extension": ".js",
   "mimetype": "application/javascript",
   "name": "javascript",
   "version": "14.16.1"
  }
 },
 "nbformat": 4,
 "nbformat_minor": 5
}
