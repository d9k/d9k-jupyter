{
 "cells": [
  {
   "cell_type": "markdown",
   "id": "83a94c8d-94c8-4846-9cee-3e0630a4440c",
   "metadata": {},
   "source": [
    "# JS strings\n",
    "\n",
    "## 3 ways to check for substring"
   ]
  },
  {
   "cell_type": "code",
   "execution_count": 1,
   "id": "9b655221-fb03-4b3e-9526-a13dd83dfad7",
   "metadata": {},
   "outputs": [
    {
     "data": {
      "text/plain": [
       "true"
      ]
     },
     "execution_count": 1,
     "metadata": {},
     "output_type": "execute_result"
    }
   ],
   "source": [
    "'javascript'.includes('script')"
   ]
  },
  {
   "cell_type": "code",
   "execution_count": 2,
   "id": "171d973d-59e5-446e-b5ef-e459df312c4f",
   "metadata": {},
   "outputs": [
    {
     "data": {
      "text/plain": [
       "false"
      ]
     },
     "execution_count": 2,
     "metadata": {},
     "output_type": "execute_result"
    }
   ],
   "source": [
    "'javascript'.includes('robustness')"
   ]
  },
  {
   "cell_type": "code",
   "execution_count": 4,
   "id": "32df9470-ab94-4167-9e7b-f8a33a838daf",
   "metadata": {},
   "outputs": [
    {
     "data": {
      "text/plain": [
       "true"
      ]
     },
     "execution_count": 4,
     "metadata": {},
     "output_type": "execute_result"
    }
   ],
   "source": [
    "'javascript'.indexOf('script') !== -1"
   ]
  },
  {
   "cell_type": "code",
   "execution_count": 8,
   "id": "eeb3dc8f-b7a5-4752-a6da-13dc0f9efc2e",
   "metadata": {},
   "outputs": [
    {
     "data": {
      "text/plain": [
       "false"
      ]
     },
     "execution_count": 8,
     "metadata": {},
     "output_type": "execute_result"
    }
   ],
   "source": [
    "'javascript'.indexOf('robustness') !== -1"
   ]
  },
  {
   "cell_type": "code",
   "execution_count": 6,
   "id": "3d47996b-48e6-406f-a093-43bc97112ae6",
   "metadata": {},
   "outputs": [
    {
     "data": {
      "text/plain": [
       "true"
      ]
     },
     "execution_count": 6,
     "metadata": {},
     "output_type": "execute_result"
    }
   ],
   "source": [
    "(/script/).test('javascript')"
   ]
  },
  {
   "cell_type": "code",
   "execution_count": 7,
   "id": "64d8fe5a-50b7-4135-9e4f-478fc8b197f2",
   "metadata": {},
   "outputs": [
    {
     "data": {
      "text/plain": [
       "false"
      ]
     },
     "execution_count": 7,
     "metadata": {},
     "output_type": "execute_result"
    }
   ],
   "source": [
    "(/robustness/).test('javascript')"
   ]
  },
  {
   "cell_type": "markdown",
   "id": "0c9906fd-2324-4985-84c2-86c33f9d8464",
   "metadata": {},
   "source": [
    "## Parse query string"
   ]
  },
  {
   "cell_type": "code",
   "execution_count": 26,
   "id": "0fc1aac6-9386-4ce6-ac8e-8b74ef11f813",
   "metadata": {},
   "outputs": [
    {
     "name": "stdout",
     "output_type": "stream",
     "text": [
      "[ 'whale', 'rabbit' ]\n",
      "5\n"
     ]
    }
   ],
   "source": [
    "var p = new URLSearchParams('animals=whale&animals=rabbit&age=5');\n",
    "console.log(p.getAll('animals'));\n",
    "console.log(p.get('age'));"
   ]
  },
  {
   "cell_type": "markdown",
   "id": "638333d8-13a3-4325-a42e-2870abc95189",
   "metadata": {},
   "source": [
    "## Concat query string"
   ]
  },
  {
   "cell_type": "code",
   "execution_count": 28,
   "id": "26d0eea9-66cd-4ae5-afb2-272215913909",
   "metadata": {},
   "outputs": [
    {
     "data": {
      "text/plain": [
       "'animals=whale&animals=rabbit&age=5'"
      ]
     },
     "execution_count": 28,
     "metadata": {},
     "output_type": "execute_result"
    }
   ],
   "source": [
    "var p = new URLSearchParams();\n",
    "p.append('animals', 'whale');\n",
    "p.append('animals', 'rabbit');\n",
    "p.append('age', 5);\n",
    "p.toString()"
   ]
  },
  {
   "cell_type": "markdown",
   "id": "d56e505e-3962-492e-87f0-0d0c5a8ebcd5",
   "metadata": {},
   "source": [
    "## Regular expressions: modifiers\n",
    "\n",
    "- `i` - case-insensitive matching\n",
    "- `g` - global match (all matches).\n",
    "- `m` - multiline matching. Only affects the behavior of `^` and end `$`."
   ]
  },
  {
   "cell_type": "code",
   "execution_count": 50,
   "id": "4a4f561d-eae3-4788-bea3-1b953b49556f",
   "metadata": {},
   "outputs": [
    {
     "name": "stdout",
     "output_type": "stream",
     "text": [
      "/one/: [\n",
      "  'one',\n",
      "  index: 13,\n",
      "  input: 'One earns JS one by one\\nand uncertainty will gone\\neventually',\n",
      "  groups: undefined\n",
      "]\n",
      "/one/g: [ 'one', 'one', 'one' ]\n",
      "/one/m: [\n",
      "  'one',\n",
      "  index: 13,\n",
      "  input: 'One earns JS one by one\\nand uncertainty will gone\\neventually',\n",
      "  groups: undefined\n",
      "]\n",
      "/one/i: [\n",
      "  'One',\n",
      "  index: 0,\n",
      "  input: 'One earns JS one by one\\nand uncertainty will gone\\neventually',\n",
      "  groups: undefined\n",
      "]\n",
      "/one/gmi: [ 'One', 'one', 'one', 'one' ]\n",
      "/gone$/: null\n",
      "/gone$/m: [\n",
      "  'gone',\n",
      "  index: 45,\n",
      "  input: 'One earns JS one by one\\nand uncertainty will gone\\neventually',\n",
      "  groups: undefined\n",
      "]\n"
     ]
    }
   ],
   "source": [
    "var text = `One earns JS one by one\n",
    "and uncertainty will gone\n",
    "eventually`;\n",
    "console.log('/one/:', text.match(/one/)); // one\n",
    "console.log('/one/g:', text.match(/one/g)); // one,one,one\n",
    "console.log('/one/m:', text.match(/one/m)); // one\n",
    "console.log('/one/i:', text.match(/one/i)); // One\n",
    "console.log('/one/gmi:', text.match(/one/gmi)); // One, one, one, one\n",
    "console.log('/gone$/:', text.match(/gone$/)); // <empty>\n",
    "console.log('/gone$/m:', text.match(/gone$/m)); // gone"
   ]
  },
  {
   "cell_type": "markdown",
   "id": "ab1abd56-88bb-4e6f-a381-559b9549a732",
   "metadata": {},
   "source": [
    "## Regex Greedy quantisers\n",
    "\n",
    "https://developer.mozilla.org/en-US/docs/Web/JavaScript/Guide/Regular_expressions/Quantifiers\n",
    "\n"
   ]
  },
  {
   "cell_type": "code",
   "execution_count": 53,
   "id": "a3cd645b-de21-4e91-8ca5-e874ea43ecaa",
   "metadata": {},
   "outputs": [
    {
     "name": "stdout",
     "output_type": "stream",
     "text": [
      "[ '[He]', '[s]', '[Alice in Wonderland]' ]\n",
      "[ '[He] ha[s] to go read this novel [Alice in Wonderland]' ]\n"
     ]
    }
   ],
   "source": [
    "var text = '[He] ha[s] to go read this novel [Alice in Wonderland].';\n",
    "\n",
    "console.log(text.match(/\\[.*?\\]/g));\n",
    "console.log(text.match(/\\[.*\\]/g));"
   ]
  },
  {
   "cell_type": "markdown",
   "id": "6d424d77-bcc6-46a1-878b-b35594fdbb7a",
   "metadata": {},
   "source": [
    "## Format list with Intl"
   ]
  },
  {
   "cell_type": "code",
   "execution_count": 5,
   "id": "6bbf5835-fb17-4a68-8188-32349786f733",
   "metadata": {},
   "outputs": [
    {
     "data": {
      "text/plain": [
       "'вилка, тарелка и бутылка'"
      ]
     },
     "execution_count": 5,
     "metadata": {},
     "output_type": "execute_result"
    }
   ],
   "source": [
    "var ruFormatList = new Intl.ListFormat('ru');\n",
    "ruFormatList.format(['вилка', 'тарелка', 'бутылка']);"
   ]
  },
  {
   "cell_type": "code",
   "execution_count": 11,
   "id": "12553707-82c0-4b8a-9977-5db9501cdaa2",
   "metadata": {},
   "outputs": [
    {
     "data": {
      "text/plain": [
       "'big, small or middle'"
      ]
     },
     "execution_count": 11,
     "metadata": {},
     "output_type": "execute_result"
    }
   ],
   "source": [
    "new Intl.ListFormat('en-GB', {style: \"long\", type: \"disjunction\"}).format(['big', 'small', 'middle']);"
   ]
  },
  {
   "cell_type": "markdown",
   "id": "459de0cc-9439-4406-937f-cdb490f6b969",
   "metadata": {},
   "source": [
    "## What are tagged templates\n",
    "\n",
    "- https://github.com/sudheerj/javascript-interview-questions#what-are-tagged-templates"
   ]
  },
  {
   "cell_type": "code",
   "execution_count": 6,
   "id": "bd527ca8-526e-459a-a3f9-ff7e107a7e65",
   "metadata": {},
   "outputs": [
    {
     "name": "stdout",
     "output_type": "stream",
     "text": [
      "Mr/Ms. John is a/an expert developer in JavaScript\n",
      "Mr/Ms. Kane is a/an junior developer in JavaScript\n"
     ]
    }
   ],
   "source": [
    "var user1 = \"John\";\n",
    "var skill1 = \"JavaScript\";\n",
    "var experience1 = 15;\n",
    "\n",
    "var user2 = \"Kane\";\n",
    "var skill2 = \"JavaScript\";\n",
    "var experience2 = 5;\n",
    "\n",
    "// Transform second variable\n",
    "function myInfoTag(strings, userExp, experienceExp, skillExp) {\n",
    "  var str0 = strings[0]; // \"Mr/Ms. \"\n",
    "  var str1 = strings[1]; // \" is a/an \"\n",
    "  var str2 = strings[2]; // \"in\"\n",
    "\n",
    "  var expertiseStr;\n",
    "  if (experienceExp > 10) {\n",
    "    expertiseStr = \"expert developer\";\n",
    "  } else if (skillExp > 5 && skillExp <= 10) {\n",
    "    expertiseStr = \"senior developer\";\n",
    "  } else {\n",
    "    expertiseStr = \"junior developer\";\n",
    "  }\n",
    "\n",
    "  return `${str0}${userExp}${str1}${expertiseStr}${str2}${skillExp}`;\n",
    "}\n",
    "\n",
    "var output1 = myInfoTag`Mr/Ms. ${user1} is a/an ${experience1} in ${skill1}`;\n",
    "var output2 = myInfoTag`Mr/Ms. ${user2} is a/an ${experience2} in ${skill2}`;\n",
    "\n",
    "console.log(output1); // Mr/Ms. John is a/an expert developer in JavaScript\n",
    "console.log(output2); // Mr/Ms. Kane is a/an junior developer in JavaScript"
   ]
  },
  {
   "cell_type": "markdown",
   "id": "47f5cea5-ebf8-4348-889c-bc65354c4e16",
   "metadata": {},
   "source": [
    "## Raw strings\n",
    "\n",
    "This feature allows you to access the raw strings as they were entered, without processing escape sequences."
   ]
  },
  {
   "cell_type": "code",
   "execution_count": 9,
   "id": "8fb125a9-3f66-4093-9e80-4d8a51b2d472",
   "metadata": {},
   "outputs": [
    {
     "name": "stdout",
     "output_type": "stream",
     "text": [
      "The sum of numbers is \n",
      "10!\n",
      "The sum of numbers is \\n10!\n"
     ]
    }
   ],
   "source": [
    "console.log(\n",
    "    `The sum of numbers is \\n${\n",
    "        1 + 2 + 3 + 4\n",
    "    }!`\n",
    ");\n",
    "\n",
    "console.log(\n",
    "    String.raw`The sum of numbers is \\n${\n",
    "        1 + 2 + 3 + 4\n",
    "    }!`\n",
    ");"
   ]
  },
  {
   "cell_type": "markdown",
   "id": "a24206d9-3988-41b2-a038-e8d328372259",
   "metadata": {},
   "source": [
    "## Collation use case\n",
    "\n",
    "sorting"
   ]
  },
  {
   "cell_type": "code",
   "execution_count": 8,
   "id": "b946fd8a-0322-4d99-b1ac-ec5fc3203e73",
   "metadata": {},
   "outputs": [
    {
     "name": "stdout",
     "output_type": "stream",
     "text": [
      "[ 'a', 'ä', 'z' ]\n",
      "[ 'a', 'z', 'ä' ]\n"
     ]
    }
   ],
   "source": [
    "var list = [\"ä\", \"a\", \"z\"];\n",
    "var l10nDE = new Intl.Collator(\"de\");\n",
    "var l10nSV = new Intl.Collator(\"sv\");\n",
    "console.log(list.sort(l10nDE.compare));\n",
    "console.log(list.sort(l10nSV.compare)); "
   ]
  }
 ],
 "metadata": {
  "kernelspec": {
   "display_name": "JavaScript (Node.js)",
   "language": "javascript",
   "name": "javascript"
  },
  "language_info": {
   "file_extension": ".js",
   "mimetype": "application/javascript",
   "name": "javascript",
   "version": "14.16.1"
  }
 },
 "nbformat": 4,
 "nbformat_minor": 5
}
