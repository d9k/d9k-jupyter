{
 "cells": [
  {
   "cell_type": "markdown",
   "id": "83a94c8d-94c8-4846-9cee-3e0630a4440c",
   "metadata": {},
   "source": [
    "# JS strings\n",
    "\n",
    "## 3 ways to check for substring"
   ]
  },
  {
   "cell_type": "code",
   "execution_count": 1,
   "id": "9b655221-fb03-4b3e-9526-a13dd83dfad7",
   "metadata": {},
   "outputs": [
    {
     "data": {
      "text/plain": [
       "true"
      ]
     },
     "execution_count": 1,
     "metadata": {},
     "output_type": "execute_result"
    }
   ],
   "source": [
    "'javascript'.includes('script')"
   ]
  },
  {
   "cell_type": "code",
   "execution_count": 2,
   "id": "171d973d-59e5-446e-b5ef-e459df312c4f",
   "metadata": {},
   "outputs": [
    {
     "data": {
      "text/plain": [
       "false"
      ]
     },
     "execution_count": 2,
     "metadata": {},
     "output_type": "execute_result"
    }
   ],
   "source": [
    "'javascript'.includes('robustness')"
   ]
  },
  {
   "cell_type": "code",
   "execution_count": 4,
   "id": "32df9470-ab94-4167-9e7b-f8a33a838daf",
   "metadata": {},
   "outputs": [
    {
     "data": {
      "text/plain": [
       "true"
      ]
     },
     "execution_count": 4,
     "metadata": {},
     "output_type": "execute_result"
    }
   ],
   "source": [
    "'javascript'.indexOf('script') !== -1"
   ]
  },
  {
   "cell_type": "code",
   "execution_count": 8,
   "id": "eeb3dc8f-b7a5-4752-a6da-13dc0f9efc2e",
   "metadata": {},
   "outputs": [
    {
     "data": {
      "text/plain": [
       "false"
      ]
     },
     "execution_count": 8,
     "metadata": {},
     "output_type": "execute_result"
    }
   ],
   "source": [
    "'javascript'.indexOf('robustness') !== -1"
   ]
  },
  {
   "cell_type": "code",
   "execution_count": 6,
   "id": "3d47996b-48e6-406f-a093-43bc97112ae6",
   "metadata": {},
   "outputs": [
    {
     "data": {
      "text/plain": [
       "true"
      ]
     },
     "execution_count": 6,
     "metadata": {},
     "output_type": "execute_result"
    }
   ],
   "source": [
    "(/script/).test('javascript')"
   ]
  },
  {
   "cell_type": "code",
   "execution_count": 7,
   "id": "64d8fe5a-50b7-4135-9e4f-478fc8b197f2",
   "metadata": {},
   "outputs": [
    {
     "data": {
      "text/plain": [
       "false"
      ]
     },
     "execution_count": 7,
     "metadata": {},
     "output_type": "execute_result"
    }
   ],
   "source": [
    "(/robustness/).test('javascript')"
   ]
  }
 ],
 "metadata": {
  "kernelspec": {
   "display_name": "JavaScript (Node.js)",
   "language": "javascript",
   "name": "javascript"
  },
  "language_info": {
   "file_extension": ".js",
   "mimetype": "application/javascript",
   "name": "javascript",
   "version": "14.16.1"
  }
 },
 "nbformat": 4,
 "nbformat_minor": 5
}
