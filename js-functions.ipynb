{
 "cells": [
  {
   "cell_type": "markdown",
   "id": "c60222e2-895b-47da-9147-8675f59fc3fa",
   "metadata": {},
   "source": [
    "# JS Functions\n",
    "\n",
    "https://github.com/sudheerj/javascript-interview-questions#what-are-lambda-or-arrow-functions\n",
    "\n",
    "## What are lambda or arrow functions\n",
    "\n",
    "An arrow function is a shorter syntax for a function expression and does not have its own this, arguments, super, or new.target. These functions are best suited for non-method functions, and they cannot be used as constructors."
   ]
  },
  {
   "cell_type": "markdown",
   "id": "bf0680e4-bd9a-4009-80b1-6167a3b5adc4",
   "metadata": {},
   "source": [
    "### New.target\n",
    "\n",
    "`new.target` is metaproperty.\n",
    "\n",
    "https://developer.mozilla.org/en-US/docs/Web/JavaScript/Reference/Operators/new.target"
   ]
  },
  {
   "cell_type": "code",
   "execution_count": 5,
   "id": "c4ce22d7-d425-4a5f-b742-e063b600fda3",
   "metadata": {},
   "outputs": [
    {
     "name": "stderr",
     "output_type": "stream",
     "text": [
      "TypeError: calling Foo constructor without new is invalid\n",
      "    at Foo (evalmachine.<anonymous>:5:15)\n",
      "    at evalmachine.<anonymous>:10:5\n",
      "    at evalmachine.<anonymous>:17:3\n",
      "\u001b[90m    at sigintHandlersWrap (vm.js:273:12)\u001b[39m\n",
      "\u001b[90m    at Script.runInThisContext (vm.js:131:14)\u001b[39m\n",
      "\u001b[90m    at Object.runInThisContext (vm.js:310:38)\u001b[39m\n",
      "    at Object.execute (/home/d9k/.nvm/versions/node/v14.16.1/lib/node_modules/\u001b[4mtslab\u001b[24m/dist/executor.js:160:38)\n",
      "    at JupyterHandlerImpl.handleExecuteImpl (/home/d9k/.nvm/versions/node/v14.16.1/lib/node_modules/\u001b[4mtslab\u001b[24m/dist/jupyter.js:223:38)\n",
      "    at /home/d9k/.nvm/versions/node/v14.16.1/lib/node_modules/\u001b[4mtslab\u001b[24m/dist/jupyter.js:181:57\n",
      "    at async JupyterHandlerImpl.handleExecute (/home/d9k/.nvm/versions/node/v14.16.1/lib/node_modules/\u001b[4mtslab\u001b[24m/dist/jupyter.js:181:21)\n"
     ]
    }
   ],
   "source": [
    "function Foo() {\n",
    "  if (!new.target) {\n",
    "    throw new TypeError('calling Foo constructor without new is invalid');\n",
    "  }\n",
    "}\n",
    "\n",
    "try {\n",
    "  Foo();\n",
    "} catch (e) {\n",
    "  console.error(e);\n",
    "  // Expected output: TypeError: calling Foo constructor without new is invalid\n",
    "}\n"
   ]
  },
  {
   "cell_type": "code",
   "execution_count": 13,
   "id": "99a7291c-4459-476b-a940-8d067eeda500",
   "metadata": {},
   "outputs": [
    {
     "name": "stderr",
     "output_type": "stream",
     "text": [
      "evalmachine.<anonymous>:7\n",
      "const f = new Foo();\n",
      "          ^\n",
      "\n",
      "TypeError: Foo is not a constructor\n",
      "    at evalmachine.<anonymous>:7:11\n",
      "    at evalmachine.<anonymous>:10:3\n",
      "\u001b[90m    at sigintHandlersWrap (vm.js:273:12)\u001b[39m\n",
      "\u001b[90m    at Script.runInThisContext (vm.js:131:14)\u001b[39m\n",
      "\u001b[90m    at Object.runInThisContext (vm.js:310:38)\u001b[39m\n",
      "    at Object.execute (/home/d9k/.nvm/versions/node/v14.16.1/lib/node_modules/\u001b[4mtslab\u001b[24m/dist/executor.js:160:38)\n",
      "    at JupyterHandlerImpl.handleExecuteImpl (/home/d9k/.nvm/versions/node/v14.16.1/lib/node_modules/\u001b[4mtslab\u001b[24m/dist/jupyter.js:223:38)\n",
      "    at /home/d9k/.nvm/versions/node/v14.16.1/lib/node_modules/\u001b[4mtslab\u001b[24m/dist/jupyter.js:181:57\n",
      "    at async JupyterHandlerImpl.handleExecute (/home/d9k/.nvm/versions/node/v14.16.1/lib/node_modules/\u001b[4mtslab\u001b[24m/dist/jupyter.js:181:21)\n",
      "    at async ZmqServer.handleExecute (/home/d9k/.nvm/versions/node/v14.16.1/lib/node_modules/\u001b[4mtslab\u001b[24m/dist/jupyter.js:379:25)\n"
     ]
    }
   ],
   "source": [
    "const Foo = () => {\n",
    "   console.log('constructing');\n",
    "}\n",
    "\n",
    "\n",
    "const f = new Foo();"
   ]
  },
  {
   "cell_type": "code",
   "execution_count": 14,
   "id": "691a34dc-e86d-4a2b-94b1-9079f2c5e53d",
   "metadata": {},
   "outputs": [
    {
     "name": "stderr",
     "output_type": "stream",
     "text": [
      "2:8 - Meta-property 'new.target' is only allowed in the body of a function declaration, function expression, or constructor.\n"
     ]
    }
   ],
   "source": [
    "const Foo = () => {\n",
    "  if (!new.target) {\n",
    "    console.log('constructing');\n",
    "  }\n",
    "}"
   ]
  },
  {
   "cell_type": "markdown",
   "id": "93d2af1d-4606-4584-a5ab-bcb9e9ccf6f7",
   "metadata": {},
   "source": [
    "## Currying\n",
    "\n",
    "https://javascript.info/currying-partials"
   ]
  },
  {
   "cell_type": "code",
   "execution_count": 15,
   "id": "a1eba974-9ff5-4428-95f1-56a27c9b2ac7",
   "metadata": {},
   "outputs": [
    {
     "name": "stdout",
     "output_type": "stream",
     "text": [
      "Auth: [DEBUG] 2023-08-25T11:03:01.846Z: wrong password\n"
     ]
    }
   ],
   "source": [
    "var _ = require('lodash')\n",
    "\n",
    "var logFn = (systemPart, importance, message) => {\n",
    "  console.log(\n",
    "    `${systemPart}:`, \n",
    "    `[${importance}]`, \n",
    "    `${(new Date()).toISOString()}:`, \n",
    "    message\n",
    "  );\n",
    "};\n",
    "\n",
    "var log = _.curry(logFn);\n",
    "var logDebugAuth = log('Auth')('DEBUG')\n",
    "logDebugAuth('wrong password');"
   ]
  }
 ],
 "metadata": {
  "kernelspec": {
   "display_name": "JavaScript",
   "language": "javascript",
   "name": "jslab"
  },
  "language_info": {
   "file_extension": ".js",
   "mimetype": "text/javascript",
   "name": "javascript",
   "version": ""
  }
 },
 "nbformat": 4,
 "nbformat_minor": 5
}
