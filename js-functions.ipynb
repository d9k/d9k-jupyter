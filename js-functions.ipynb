{
 "cells": [
  {
   "cell_type": "markdown",
   "id": "c60222e2-895b-47da-9147-8675f59fc3fa",
   "metadata": {},
   "source": [
    "# JS Functions\n",
    "\n",
    "https://github.com/sudheerj/javascript-interview-questions#what-are-lambda-or-arrow-functions\n",
    "\n",
    "## What are lambda or arrow functions\n",
    "\n",
    "An arrow function is a shorter syntax for a function expression and does not have its own this, arguments, super, or new.target. These functions are best suited for non-method functions, and they cannot be used as constructors."
   ]
  },
  {
   "cell_type": "markdown",
   "id": "bf0680e4-bd9a-4009-80b1-6167a3b5adc4",
   "metadata": {},
   "source": [
    "### How to detect if a function is called as constructor\n",
    "\n",
    "`new.target` is metaproperty.\n",
    "\n",
    "https://developer.mozilla.org/en-US/docs/Web/JavaScript/Reference/Operators/new.target"
   ]
  },
  {
   "cell_type": "markdown",
   "id": "58459fdf-b7e4-49b0-a984-3ef60dd1d26b",
   "metadata": {},
   "source": [
    "Errors: arrow function can't be constructor"
   ]
  },
  {
   "cell_type": "code",
   "execution_count": 1,
   "id": "c4ce22d7-d425-4a5f-b742-e063b600fda3",
   "metadata": {},
   "outputs": [
    {
     "name": "stderr",
     "output_type": "stream",
     "text": [
      "TypeError: calling Foo constructor without new is invalid\n",
      "    at Foo (evalmachine.<anonymous>:5:15)\n",
      "    at evalmachine.<anonymous>:10:5\n",
      "    at evalmachine.<anonymous>:17:3\n",
      "\u001b[90m    at sigintHandlersWrap (vm.js:273:12)\u001b[39m\n",
      "\u001b[90m    at Script.runInThisContext (vm.js:131:14)\u001b[39m\n",
      "\u001b[90m    at Object.runInThisContext (vm.js:310:38)\u001b[39m\n",
      "    at Object.execute (/home/d9k/.nvm/versions/node/v14.16.1/lib/node_modules/\u001b[4mtslab\u001b[24m/dist/executor.js:160:38)\n",
      "    at JupyterHandlerImpl.handleExecuteImpl (/home/d9k/.nvm/versions/node/v14.16.1/lib/node_modules/\u001b[4mtslab\u001b[24m/dist/jupyter.js:223:38)\n",
      "    at /home/d9k/.nvm/versions/node/v14.16.1/lib/node_modules/\u001b[4mtslab\u001b[24m/dist/jupyter.js:181:57\n",
      "    at async JupyterHandlerImpl.handleExecute (/home/d9k/.nvm/versions/node/v14.16.1/lib/node_modules/\u001b[4mtslab\u001b[24m/dist/jupyter.js:181:21)\n"
     ]
    }
   ],
   "source": [
    "function Foo() {\n",
    "  if (!new.target) {\n",
    "    throw new TypeError('calling Foo constructor without new is invalid');\n",
    "  }\n",
    "}\n",
    "\n",
    "try {\n",
    "  Foo();\n",
    "} catch (e) {\n",
    "  console.error(e);\n",
    "  // Expected output: TypeError: calling Foo constructor without new is invalid\n",
    "}\n"
   ]
  },
  {
   "cell_type": "code",
   "execution_count": 2,
   "id": "99a7291c-4459-476b-a940-8d067eeda500",
   "metadata": {},
   "outputs": [
    {
     "name": "stderr",
     "output_type": "stream",
     "text": [
      "evalmachine.<anonymous>:7\n",
      "const f = new Foo();\n",
      "          ^\n",
      "\n",
      "TypeError: Foo is not a constructor\n",
      "    at evalmachine.<anonymous>:7:11\n",
      "    at evalmachine.<anonymous>:10:3\n",
      "\u001b[90m    at sigintHandlersWrap (vm.js:273:12)\u001b[39m\n",
      "\u001b[90m    at Script.runInThisContext (vm.js:131:14)\u001b[39m\n",
      "\u001b[90m    at Object.runInThisContext (vm.js:310:38)\u001b[39m\n",
      "    at Object.execute (/home/d9k/.nvm/versions/node/v14.16.1/lib/node_modules/\u001b[4mtslab\u001b[24m/dist/executor.js:160:38)\n",
      "    at JupyterHandlerImpl.handleExecuteImpl (/home/d9k/.nvm/versions/node/v14.16.1/lib/node_modules/\u001b[4mtslab\u001b[24m/dist/jupyter.js:223:38)\n",
      "    at /home/d9k/.nvm/versions/node/v14.16.1/lib/node_modules/\u001b[4mtslab\u001b[24m/dist/jupyter.js:181:57\n",
      "    at async JupyterHandlerImpl.handleExecute (/home/d9k/.nvm/versions/node/v14.16.1/lib/node_modules/\u001b[4mtslab\u001b[24m/dist/jupyter.js:181:21)\n",
      "    at async ZmqServer.handleExecute (/home/d9k/.nvm/versions/node/v14.16.1/lib/node_modules/\u001b[4mtslab\u001b[24m/dist/jupyter.js:379:25)\n"
     ]
    }
   ],
   "source": [
    "const Foo = () => {\n",
    "   console.log('constructing');\n",
    "}\n",
    "\n",
    "\n",
    "const f = new Foo();"
   ]
  },
  {
   "cell_type": "code",
   "execution_count": 14,
   "id": "691a34dc-e86d-4a2b-94b1-9079f2c5e53d",
   "metadata": {},
   "outputs": [
    {
     "name": "stderr",
     "output_type": "stream",
     "text": [
      "2:8 - Meta-property 'new.target' is only allowed in the body of a function declaration, function expression, or constructor.\n"
     ]
    }
   ],
   "source": [
    "const Foo = () => {\n",
    "  if (!new.target) {\n",
    "    console.log('constructing');\n",
    "  }\n",
    "}"
   ]
  },
  {
   "cell_type": "markdown",
   "id": "93d2af1d-4606-4584-a5ab-bcb9e9ccf6f7",
   "metadata": {},
   "source": [
    "## Currying\n",
    "\n",
    "https://javascript.info/currying-partials"
   ]
  },
  {
   "cell_type": "code",
   "execution_count": 15,
   "id": "a1eba974-9ff5-4428-95f1-56a27c9b2ac7",
   "metadata": {},
   "outputs": [
    {
     "name": "stdout",
     "output_type": "stream",
     "text": [
      "Auth: [DEBUG] 2023-08-25T11:03:01.846Z: wrong password\n"
     ]
    }
   ],
   "source": [
    "var _ = require('lodash')\n",
    "\n",
    "var logFn = (systemPart, importance, message) => {\n",
    "  console.log(\n",
    "    `${systemPart}:`, \n",
    "    `[${importance}]`, \n",
    "    `${(new Date()).toISOString()}:`, \n",
    "    message\n",
    "  );\n",
    "};\n",
    "\n",
    "var log = _.curry(logFn);\n",
    "var logDebugAuth = log('Auth')('DEBUG')\n",
    "logDebugAuth('wrong password');"
   ]
  },
  {
   "cell_type": "markdown",
   "id": "a20350f3-9e7e-45ac-beee-f3a1239bb1d7",
   "metadata": {},
   "source": [
    "## Can we define properties for functions?\n",
    "\n",
    "Yes, functions in js are objects (or object-functions)."
   ]
  },
  {
   "cell_type": "code",
   "execution_count": 3,
   "id": "d65bf536-a41f-482d-b8f8-0c23e369be6b",
   "metadata": {},
   "outputs": [
    {
     "name": "stdout",
     "output_type": "stream",
     "text": [
      "my name is myFunction\n"
     ]
    }
   ],
   "source": [
    "var myFunction = () => {\n",
    "  console.log('my name is ' + myFunction.metaName)\n",
    "}\n",
    "\n",
    "myFunction.metaName = 'myFunction';\n",
    "\n",
    "myFunction();"
   ]
  },
  {
   "cell_type": "markdown",
   "id": "f6814653-0d6a-4c1c-b16a-9277f0ad843e",
   "metadata": {},
   "source": [
    "https://stackoverflow.com/questions/36871299/how-to-extend-function-with-es6-classes"
   ]
  },
  {
   "cell_type": "code",
   "execution_count": 21,
   "id": "d2e26056-a282-4f76-87b9-a3f23f29f59a",
   "metadata": {},
   "outputs": [
    {
     "name": "stdout",
     "output_type": "stream",
     "text": [
      "Hello, John!\n",
      "Welcome, Marusia!\n",
      "Very welcome, spicy food!\n"
     ]
    }
   ],
   "source": [
    "class Greeter extends Function {\n",
    "  constructor(greeting) {\n",
    "     super();\n",
    "     this.greeting = greeting; \n",
    "\n",
    "     return new Proxy(this, {\n",
    "       apply: (target, that, args) => target.__call__(...args)\n",
    "     });\n",
    "  }\n",
    "\n",
    "  __call__(name) {\n",
    "    return this.greeting + ', ' + name + '!';\n",
    "  }\n",
    "}\n",
    "\n",
    "var hellower = new Greeter('Hello');\n",
    "var welcomer = new Greeter(\"Welcome\"); \n",
    "\n",
    "console.log(hellower('John'));\n",
    "console.log(welcomer('Marusia'));\n",
    "welcomer.greeting = 'Very welcome'\n",
    "console.log(welcomer('spicy food'));"
   ]
  },
  {
   "cell_type": "markdown",
   "id": "487ee476-b9d4-43e9-98b3-0a3b83da4957",
   "metadata": {},
   "source": [
    "## Can you define rest parameter in the middle of function parameters"
   ]
  },
  {
   "cell_type": "code",
   "execution_count": 3,
   "id": "6cd5a9e2-2aa7-4f4d-bd75-2586c312d5c2",
   "metadata": {},
   "outputs": [
    {
     "name": "stderr",
     "output_type": "stream",
     "text": [
      "2:30 - A rest parameter must be last in a parameter list.\n"
     ]
    }
   ],
   "source": [
    "// error:  A rest parameter must be last in a parameter list.\n",
    "function restErrorFun(first, ...rest, last) {}"
   ]
  },
  {
   "cell_type": "markdown",
   "id": "2400ed52-f2a1-4162-9081-b6de2b696295",
   "metadata": {},
   "source": [
    "## Find min in array"
   ]
  },
  {
   "cell_type": "code",
   "execution_count": 24,
   "id": "1eeb88dc-cf36-4df6-82fc-0f336994b8df",
   "metadata": {},
   "outputs": [
    {
     "name": "stdout",
     "output_type": "stream",
     "text": [
      "\u001b[33m20\u001b[39m\n"
     ]
    }
   ],
   "source": [
    "var marks = [50, 20, 70, 60, 45, 30];\n",
    "Math.min.apply(null, marks);"
   ]
  },
  {
   "cell_type": "markdown",
   "id": "1789b59d-1d2e-422d-b532-23715e5146e2",
   "metadata": {},
   "source": [
    "## Is that possible to use expressions in switch cases?"
   ]
  },
  {
   "cell_type": "code",
   "execution_count": 9,
   "id": "fdebb7b3-7de5-49bb-b76e-66360142d57e",
   "metadata": {},
   "outputs": [
    {
     "name": "stdout",
     "output_type": "stream",
     "text": [
      "cool\n",
      "freezing\n",
      "warm\n",
      "hot\n"
     ]
    }
   ],
   "source": [
    "function getWeather(temp) {\n",
    "  switch (true) {\n",
    "    case temp < 0:\n",
    "      return \"freezing\";\n",
    "    case temp < 10:\n",
    "      return \"cold\";\n",
    "    case temp < 20:\n",
    "      return \"cool\";\n",
    "    case temp < 25:\n",
    "      return \"warm\";\n",
    "    default:\n",
    "      return \"hot\";\n",
    "  }\n",
    "}\n",
    "\n",
    "console.log(getWeather(10));\n",
    "console.log(getWeather(-5));\n",
    "console.log(getWeather(24));\n",
    "console.log(getWeather(40));"
   ]
  }
 ],
 "metadata": {
  "kernelspec": {
   "display_name": "JavaScript",
   "language": "javascript",
   "name": "jslab"
  },
  "language_info": {
   "file_extension": ".js",
   "mimetype": "text/javascript",
   "name": "javascript",
   "version": ""
  }
 },
 "nbformat": 4,
 "nbformat_minor": 5
}
