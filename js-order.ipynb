{
 "cells": [
  {
   "cell_type": "markdown",
   "id": "23fc48d3-a1b1-40f8-a95e-9246bdf9fdc9",
   "metadata": {},
   "source": [
    "# JS: order\n",
    "\n",
    "- https://github.com/sudheerj/javascript-interview-questions#what-is-the-difference-between-settimeout-setimmediate-and-processnexttick\n",
    "- https://www.geeksforgeeks.org/difference-between-process-nexttick-and-setimmediate-methods/"
   ]
  },
  {
   "cell_type": "markdown",
   "id": "dd1aa54e-d716-4cfb-9a81-ee1cd1ee08c9",
   "metadata": {},
   "source": [
    "## What is minimum setTimeout() throttling\n",
    "\n",
    "Timeout: wait for next event loop turn."
   ]
  },
  {
   "cell_type": "markdown",
   "id": "8607ba40-9e4a-4438-9b3e-70ffea597c6f",
   "metadata": {},
   "source": [
    "### Parallel run try:"
   ]
  },
  {
   "cell_type": "code",
   "execution_count": 2,
   "id": "611f8e12-2ec2-4d04-99bf-00fdbb72a450",
   "metadata": {},
   "outputs": [
    {
     "name": "stdout",
     "output_type": "stream",
     "text": [
      "min. timeout time 1: 0.57ms\n",
      "min. timeout time 2: 1.978ms\n",
      "min. timeout time 3: 2.176ms\n",
      "min. timeout time 4: 2.325ms\n",
      "min. timeout time 5: 2.485ms\n",
      "min. timeout time 6: 2.619ms\n",
      "min. timeout time 7: 2.738ms\n",
      "min. timeout time 8: 2.857ms\n",
      "min. timeout time 9: 4.624ms\n",
      "min. timeout time 10: 4.8ms\n"
     ]
    }
   ],
   "source": [
    "for (let i = 1; i <= 10; i++) {\n",
    "  console.time('min. timeout time ' + i);\n",
    "  setTimeout(() => {\n",
    "    console.timeEnd('min. timeout time ' + i);\n",
    "  }, 0);\n",
    "}"
   ]
  },
  {
   "cell_type": "markdown",
   "id": "fb43840d-fc36-4f5b-8d85-da5099423ceb",
   "metadata": {},
   "source": [
    "### Sequential run:"
   ]
  },
  {
   "cell_type": "code",
   "execution_count": 4,
   "id": "f6932f8d-22c0-43fb-9cc7-758b6821e90d",
   "metadata": {},
   "outputs": [
    {
     "name": "stdout",
     "output_type": "stream",
     "text": [
      "min. timeout time 1: 1.438ms\n",
      "min. timeout time 2: 1.115ms\n",
      "min. timeout time 3: 1.117ms\n",
      "min. timeout time 4: 1.103ms\n",
      "min. timeout time 5: 1.098ms\n",
      "min. timeout time 6: 1.102ms\n",
      "min. timeout time 7: 1.101ms\n",
      "min. timeout time 8: 1.107ms\n",
      "min. timeout time 9: 1.106ms\n",
      "min. timeout time 10: 1.099ms\n"
     ]
    }
   ],
   "source": [
    "function runTest(i = 1, totalTries = 10) {\n",
    "  console.time('min. timeout time ' + i);\n",
    "  setTimeout(() => {\n",
    "    console.timeEnd('min. timeout time ' + i);\n",
    "\n",
    "    i++;\n",
    "    if (i <= totalTries) {\n",
    "      runTest(i, totalTries);\n",
    "    }\n",
    "  }, 0);\n",
    "}\n",
    "\n",
    "runTest();"
   ]
  },
  {
   "cell_type": "markdown",
   "id": "6086f776-b740-4e7c-90f0-0147ba46e562",
   "metadata": {},
   "source": [
    "## SetImmediate() time measurement\n",
    "\n",
    "`setImmediate()` function is used to execute a function right after the current event loop finishes."
   ]
  },
  {
   "cell_type": "code",
   "execution_count": 9,
   "id": "cea9c6e9-0fc6-416e-a55b-1749b4e815cc",
   "metadata": {},
   "outputs": [
    {
     "name": "stdout",
     "output_type": "stream",
     "text": [
      "setImmediate time 1: 0.33ms\n",
      "setImmediate time 2: 1.073ms\n",
      "setImmediate time 3: 0.207ms\n",
      "setImmediate time 4: 0.167ms\n",
      "setImmediate time 5: 0.153ms\n",
      "setImmediate time 6: 0.124ms\n",
      "setImmediate time 7: 0.189ms\n",
      "setImmediate time 8: 0.14ms\n",
      "setImmediate time 9: 0.167ms\n",
      "setImmediate time 10: 0.089ms\n"
     ]
    }
   ],
   "source": [
    "function runTest(i = 1, totalTries = 10) {\n",
    "  console.time('setImmediate time ' + i);\n",
    "  setImmediate(() => {\n",
    "    console.timeEnd('setImmediate time ' + i);\n",
    "\n",
    "    i++;\n",
    "    if (i <= totalTries) {\n",
    "      runTest(i, totalTries);\n",
    "    }\n",
    "  });\n",
    "}\n",
    "\n",
    "runTest();"
   ]
  },
  {
   "cell_type": "markdown",
   "id": "d8adc356-99fb-4afb-a4bb-974ebf7f0a29",
   "metadata": {},
   "source": [
    "## Process.nextTick() time measurement\n",
    "\n",
    "Whenever a new queue of operations is initialized we can think of it as a new tick. The process.nextTick() method adds the callback function to the start of the next event queue.\n",
    "\n",
    "If process.nextTick() is called in a given phase, all the callbacks passed to process.nextTick() will be resolved before the event loop continues. This will block the event loop and create I/O Starvation if process.nextTick() is called recursively."
   ]
  },
  {
   "cell_type": "code",
   "execution_count": 10,
   "id": "d459111b-34bf-4b62-93c9-cd0b05d6cc86",
   "metadata": {},
   "outputs": [
    {
     "name": "stdout",
     "output_type": "stream",
     "text": [
      "process.nextTick time 1: 0.309ms\n",
      "process.nextTick time 2: 0.02ms\n",
      "process.nextTick time 3: 0.016ms\n",
      "process.nextTick time 4: 0.018ms\n",
      "process.nextTick time 5: 0.015ms\n",
      "process.nextTick time 6: 0.015ms\n",
      "process.nextTick time 7: 0.016ms\n",
      "process.nextTick time 8: 0.021ms\n",
      "process.nextTick time 9: 0.017ms\n",
      "process.nextTick time 10: 0.014ms\n"
     ]
    }
   ],
   "source": [
    "function runTest(i = 1, totalTries = 10) {\n",
    "  console.time('process.nextTick time ' + i);\n",
    "  process.nextTick(() => {\n",
    "    console.timeEnd('process.nextTick time ' + i);\n",
    "\n",
    "    i++;\n",
    "    if (i <= totalTries) {\n",
    "      runTest(i, totalTries);\n",
    "    }\n",
    "  });\n",
    "}\n",
    "\n",
    "runTest();"
   ]
  },
  {
   "cell_type": "markdown",
   "id": "c129f6e7-5a4f-47c8-a273-ebd6176c1662",
   "metadata": {},
   "source": [
    "## Racing setTimeout(), setImmediate(), process.nextTick()"
   ]
  },
  {
   "cell_type": "code",
   "execution_count": 12,
   "id": "b6f14177-b3e9-43cc-a1da-6bd5f0239359",
   "metadata": {},
   "outputs": [
    {
     "name": "stdout",
     "output_type": "stream",
     "text": [
      "process.nextTick time: 0.347ms\n",
      "setImmediate time: 0.543ms\n",
      "min. setTimeout time: 0.728ms\n"
     ]
    }
   ],
   "source": [
    "console.time('min. setTimeout time');\n",
    "setTimeout(() => {\n",
    "  console.timeEnd('min. setTimeout time');\n",
    "}, 0);\n",
    "\n",
    "console.time('setImmediate time');\n",
    "setImmediate(() => {\n",
    "  console.timeEnd('setImmediate time');\n",
    "});\n",
    "\n",
    "console.time('process.nextTick time');\n",
    "process.nextTick(() => {\n",
    "  console.timeEnd('process.nextTick time');\n",
    "});\n"
   ]
  }
 ],
 "metadata": {
  "kernelspec": {
   "display_name": "JavaScript",
   "language": "javascript",
   "name": "jslab"
  },
  "language_info": {
   "file_extension": ".js",
   "mimetype": "text/javascript",
   "name": "javascript",
   "version": ""
  }
 },
 "nbformat": 4,
 "nbformat_minor": 5
}
