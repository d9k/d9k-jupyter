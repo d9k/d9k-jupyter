{
 "cells": [
  {
   "cell_type": "markdown",
   "id": "ae1c88b2-32e0-4004-950f-662b5d88036c",
   "metadata": {},
   "source": [
    "# JS binary arithmetic"
   ]
  },
  {
   "cell_type": "markdown",
   "id": "0571651f-42b3-4d84-a63e-6510d3fa4648",
   "metadata": {},
   "source": [
    "## Bitwise operators"
   ]
  },
  {
   "cell_type": "markdown",
   "id": "15fefb3e-266b-4b99-a04f-75cb1f1f71c2",
   "metadata": {},
   "source": [
    "### Left / right shift"
   ]
  },
  {
   "cell_type": "code",
   "execution_count": 2,
   "id": "53cb192e-d3f6-40cb-a1b5-27261ce89ede",
   "metadata": {},
   "outputs": [
    {
     "data": {
      "text/plain": [
       "5"
      ]
     },
     "execution_count": 2,
     "metadata": {},
     "output_type": "execute_result"
    }
   ],
   "source": [
    "0b101"
   ]
  },
  {
   "cell_type": "code",
   "execution_count": 3,
   "id": "d8ad44a0-e9a5-4680-ae8a-c1e67ef9bf3d",
   "metadata": {},
   "outputs": [
    {
     "data": {
      "text/plain": [
       "20"
      ]
     },
     "execution_count": 3,
     "metadata": {},
     "output_type": "execute_result"
    }
   ],
   "source": [
    "5 << 2"
   ]
  },
  {
   "cell_type": "code",
   "execution_count": 4,
   "id": "30fd7e5d-1a6d-4235-9ff5-e8bb717c2b04",
   "metadata": {},
   "outputs": [
    {
     "data": {
      "text/plain": [
       "20"
      ]
     },
     "execution_count": 4,
     "metadata": {},
     "output_type": "execute_result"
    }
   ],
   "source": [
    "0b10100"
   ]
  },
  {
   "cell_type": "code",
   "execution_count": 5,
   "id": "904b1216-e878-42b7-93f2-01b937a9f34b",
   "metadata": {},
   "outputs": [
    {
     "data": {
      "text/plain": [
       "2"
      ]
     },
     "execution_count": 5,
     "metadata": {},
     "output_type": "execute_result"
    }
   ],
   "source": [
    "5 >> 1"
   ]
  },
  {
   "cell_type": "code",
   "execution_count": 6,
   "id": "7163ac98-896b-4e29-83c9-9032154d3004",
   "metadata": {},
   "outputs": [
    {
     "data": {
      "text/plain": [
       "2"
      ]
     },
     "execution_count": 6,
     "metadata": {},
     "output_type": "execute_result"
    }
   ],
   "source": [
    "0b10"
   ]
  },
  {
   "cell_type": "markdown",
   "id": "094be26d-c52c-41c4-9005-603afba8c10c",
   "metadata": {},
   "source": [
    "### XOR\n",
    "\n",
    "https://developer.mozilla.org/en-US/docs/Web/JavaScript/Reference/Operators/Bitwise_XOR"
   ]
  },
  {
   "cell_type": "code",
   "execution_count": 10,
   "id": "bdc6262d-1320-4856-8558-59e93d338144",
   "metadata": {},
   "outputs": [
    {
     "data": {
      "text/plain": [
       "4"
      ]
     },
     "execution_count": 10,
     "metadata": {},
     "output_type": "execute_result"
    }
   ],
   "source": [
    "0b100 ^ 0b000"
   ]
  },
  {
   "cell_type": "code",
   "execution_count": 11,
   "id": "692f0694-0e60-469f-9bc4-571de3a2d7cb",
   "metadata": {},
   "outputs": [
    {
     "data": {
      "text/plain": [
       "4"
      ]
     },
     "execution_count": 11,
     "metadata": {},
     "output_type": "execute_result"
    }
   ],
   "source": [
    "0b100"
   ]
  },
  {
   "cell_type": "code",
   "execution_count": 12,
   "id": "62594252-841e-4797-a3b7-fb1f9d2d4b64",
   "metadata": {},
   "outputs": [
    {
     "data": {
      "text/plain": [
       "6"
      ]
     },
     "execution_count": 12,
     "metadata": {},
     "output_type": "execute_result"
    }
   ],
   "source": [
    "0b100 ^ 0b010"
   ]
  },
  {
   "cell_type": "code",
   "execution_count": 13,
   "id": "63fd1f2b-cc1b-43b9-b296-938ee13e730c",
   "metadata": {},
   "outputs": [
    {
     "data": {
      "text/plain": [
       "6"
      ]
     },
     "execution_count": 13,
     "metadata": {},
     "output_type": "execute_result"
    }
   ],
   "source": [
    "0b110"
   ]
  },
  {
   "cell_type": "code",
   "execution_count": 14,
   "id": "f321dfe8-3455-4e47-b6cc-4c91532ed310",
   "metadata": {},
   "outputs": [
    {
     "data": {
      "text/plain": [
       "3"
      ]
     },
     "execution_count": 14,
     "metadata": {},
     "output_type": "execute_result"
    }
   ],
   "source": [
    "0b100 ^ 0b111"
   ]
  },
  {
   "cell_type": "code",
   "execution_count": 15,
   "id": "6310b15c-4961-4c62-b82b-956257e56fab",
   "metadata": {},
   "outputs": [
    {
     "data": {
      "text/plain": [
       "3"
      ]
     },
     "execution_count": 15,
     "metadata": {},
     "output_type": "execute_result"
    }
   ],
   "source": [
    "0b011"
   ]
  }
 ],
 "metadata": {
  "kernelspec": {
   "display_name": "JavaScript (Node.js)",
   "language": "javascript",
   "name": "javascript"
  },
  "language_info": {
   "file_extension": ".js",
   "mimetype": "application/javascript",
   "name": "javascript",
   "version": "14.16.1"
  }
 },
 "nbformat": 4,
 "nbformat_minor": 5
}
