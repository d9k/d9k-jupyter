{
 "cells": [
  {
   "cell_type": "markdown",
   "id": "ae1c88b2-32e0-4004-950f-662b5d88036c",
   "metadata": {},
   "source": [
    "# JS binary arithmetic"
   ]
  },
  {
   "cell_type": "markdown",
   "id": "15fefb3e-266b-4b99-a04f-75cb1f1f71c2",
   "metadata": {},
   "source": [
    "## Left / right shift (<< / >>)"
   ]
  },
  {
   "cell_type": "code",
   "execution_count": 2,
   "id": "53cb192e-d3f6-40cb-a1b5-27261ce89ede",
   "metadata": {},
   "outputs": [
    {
     "data": {
      "text/plain": [
       "5"
      ]
     },
     "execution_count": 2,
     "metadata": {},
     "output_type": "execute_result"
    }
   ],
   "source": [
    "0b101"
   ]
  },
  {
   "cell_type": "code",
   "execution_count": 3,
   "id": "d8ad44a0-e9a5-4680-ae8a-c1e67ef9bf3d",
   "metadata": {},
   "outputs": [
    {
     "data": {
      "text/plain": [
       "20"
      ]
     },
     "execution_count": 3,
     "metadata": {},
     "output_type": "execute_result"
    }
   ],
   "source": [
    "5 << 2"
   ]
  },
  {
   "cell_type": "code",
   "execution_count": 4,
   "id": "30fd7e5d-1a6d-4235-9ff5-e8bb717c2b04",
   "metadata": {},
   "outputs": [
    {
     "data": {
      "text/plain": [
       "20"
      ]
     },
     "execution_count": 4,
     "metadata": {},
     "output_type": "execute_result"
    }
   ],
   "source": [
    "0b10100"
   ]
  },
  {
   "cell_type": "code",
   "execution_count": 26,
   "id": "904b1216-e878-42b7-93f2-01b937a9f34b",
   "metadata": {},
   "outputs": [
    {
     "data": {
      "text/plain": [
       "2"
      ]
     },
     "execution_count": 26,
     "metadata": {},
     "output_type": "execute_result"
    }
   ],
   "source": [
    "5 >> 1"
   ]
  },
  {
   "cell_type": "code",
   "execution_count": 6,
   "id": "7163ac98-896b-4e29-83c9-9032154d3004",
   "metadata": {},
   "outputs": [
    {
     "data": {
      "text/plain": [
       "2"
      ]
     },
     "execution_count": 6,
     "metadata": {},
     "output_type": "execute_result"
    }
   ],
   "source": [
    "0b10"
   ]
  },
  {
   "cell_type": "markdown",
   "id": "4aa45737-6022-4401-9c1b-9e8756e8d6c4",
   "metadata": {},
   "source": [
    "## Bitwise NOT (~)\n",
    "\n",
    "(Первый бит - минус, поэтому происходит изменение знака. А `0b111...111` - это `-1`, поэтому из результата \"вычитается\" `1`)\n",
    "\n",
    "https://developer.mozilla.org/en-US/docs/Web/JavaScript/Reference/Operators/Bitwise_NOT"
   ]
  },
  {
   "cell_type": "code",
   "execution_count": 32,
   "id": "5dda5a30-adac-4e07-b78e-5cdacc21f29d",
   "metadata": {},
   "outputs": [
    {
     "data": {
      "text/plain": [
       "10"
      ]
     },
     "execution_count": 32,
     "metadata": {},
     "output_type": "execute_result"
    }
   ],
   "source": [
    "0b1010"
   ]
  },
  {
   "cell_type": "code",
   "execution_count": 46,
   "id": "eb5a18f5-61b8-432e-8632-026e8f3f7547",
   "metadata": {},
   "outputs": [
    {
     "data": {
      "text/plain": [
       "-11"
      ]
     },
     "execution_count": 46,
     "metadata": {},
     "output_type": "execute_result"
    }
   ],
   "source": [
    "~ 0b1010"
   ]
  },
  {
   "cell_type": "markdown",
   "id": "cc98da77-64ae-4662-a560-df34a72210f2",
   "metadata": {},
   "source": [
    "(`0b111...111` - это `-1`):"
   ]
  },
  {
   "cell_type": "code",
   "execution_count": 15,
   "id": "a88bc4bd-8033-4f02-912e-7ba3fc4a10d0",
   "metadata": {},
   "outputs": [
    {
     "data": {
      "text/plain": [
       "true"
      ]
     },
     "execution_count": 15,
     "metadata": {},
     "output_type": "execute_result"
    }
   ],
   "source": [
    "-0b1010 === ~0b1010 + 1"
   ]
  },
  {
   "cell_type": "code",
   "execution_count": 16,
   "id": "ad48eac6-efba-4247-ae58-3ee423a5159a",
   "metadata": {},
   "outputs": [
    {
     "data": {
      "text/plain": [
       "-7"
      ]
     },
     "execution_count": 16,
     "metadata": {},
     "output_type": "execute_result"
    }
   ],
   "source": [
    "~ 6"
   ]
  },
  {
   "cell_type": "code",
   "execution_count": 8,
   "id": "7ff082ea-fbed-49a2-b45f-f7c31e027aa0",
   "metadata": {},
   "outputs": [
    {
     "data": {
      "text/plain": [
       "-7"
      ]
     },
     "execution_count": 8,
     "metadata": {},
     "output_type": "execute_result"
    }
   ],
   "source": [
    "~ 6.15"
   ]
  },
  {
   "cell_type": "code",
   "execution_count": 13,
   "id": "30f4ea22-5996-44c3-bbc1-83802076b7a1",
   "metadata": {},
   "outputs": [
    {
     "data": {
      "text/plain": [
       "-7"
      ]
     },
     "execution_count": 13,
     "metadata": {},
     "output_type": "execute_result"
    }
   ],
   "source": [
    "~ 6.89"
   ]
  },
  {
   "cell_type": "code",
   "execution_count": 14,
   "id": "ec3a1e39-4697-47f3-b77a-c73126cef595",
   "metadata": {},
   "outputs": [
    {
     "data": {
      "text/plain": [
       "5"
      ]
     },
     "execution_count": 14,
     "metadata": {},
     "output_type": "execute_result"
    }
   ],
   "source": [
    "~ -6.20"
   ]
  },
  {
   "cell_type": "markdown",
   "id": "035561ca-c020-4983-b9be-fbb3eef4f70c",
   "metadata": {},
   "source": [
    "## Bitwise double NOT (~~)\n",
    "\n",
    "- The same as `Math.floor()`\n",
    "- https://codepen.io/supernova_at/post/javascript-s-double-bitwise-not-operator"
   ]
  },
  {
   "cell_type": "code",
   "execution_count": 10,
   "id": "0ded0b7c-7aff-47cc-a62e-255c7b11f3d2",
   "metadata": {},
   "outputs": [
    {
     "data": {
      "text/plain": [
       "6"
      ]
     },
     "execution_count": 10,
     "metadata": {},
     "output_type": "execute_result"
    }
   ],
   "source": [
    "~~ 6.15"
   ]
  },
  {
   "cell_type": "code",
   "execution_count": 12,
   "id": "890091b9-79b5-48b0-bd91-186858700363",
   "metadata": {},
   "outputs": [
    {
     "data": {
      "text/plain": [
       "6"
      ]
     },
     "execution_count": 12,
     "metadata": {},
     "output_type": "execute_result"
    }
   ],
   "source": [
    "~~ 6.89"
   ]
  },
  {
   "cell_type": "markdown",
   "id": "ca0dda89-24f8-472e-8765-7b2e90777c7f",
   "metadata": {},
   "source": [
    "## Bitwise OR (|)"
   ]
  },
  {
   "cell_type": "code",
   "execution_count": 51,
   "id": "55272eb9-f76f-4d4e-b64d-f32850ec5999",
   "metadata": {},
   "outputs": [
    {
     "data": {
      "text/plain": [
       "true"
      ]
     },
     "execution_count": 51,
     "metadata": {},
     "output_type": "execute_result"
    }
   ],
   "source": [
    "(0b101010 | 0b001100) === 0b101110"
   ]
  },
  {
   "cell_type": "markdown",
   "id": "ac32b2e6-8a64-4c4c-8e31-7fb43e1565ea",
   "metadata": {},
   "source": [
    "## Bitwise AND (&)"
   ]
  },
  {
   "cell_type": "code",
   "execution_count": 52,
   "id": "6e3d35c9-8228-4332-bc80-d4a301422c70",
   "metadata": {},
   "outputs": [
    {
     "data": {
      "text/plain": [
       "true"
      ]
     },
     "execution_count": 52,
     "metadata": {},
     "output_type": "execute_result"
    }
   ],
   "source": [
    "(0b101010 & 0b001111) === 0b001010"
   ]
  },
  {
   "cell_type": "markdown",
   "id": "094be26d-c52c-41c4-9005-603afba8c10c",
   "metadata": {},
   "source": [
    "## XOR (^)\n",
    "\n",
    "https://developer.mozilla.org/en-US/docs/Web/JavaScript/Reference/Operators/Bitwise_XOR"
   ]
  },
  {
   "cell_type": "code",
   "execution_count": 23,
   "id": "bdc6262d-1320-4856-8558-59e93d338144",
   "metadata": {},
   "outputs": [
    {
     "data": {
      "text/plain": [
       "true"
      ]
     },
     "execution_count": 23,
     "metadata": {},
     "output_type": "execute_result"
    }
   ],
   "source": [
    "(0b100 ^ 0b000) === 0b100"
   ]
  },
  {
   "cell_type": "code",
   "execution_count": 24,
   "id": "62594252-841e-4797-a3b7-fb1f9d2d4b64",
   "metadata": {},
   "outputs": [
    {
     "data": {
      "text/plain": [
       "true"
      ]
     },
     "execution_count": 24,
     "metadata": {},
     "output_type": "execute_result"
    }
   ],
   "source": [
    "(0b100 ^ 0b010) === 0b110"
   ]
  },
  {
   "cell_type": "code",
   "execution_count": 25,
   "id": "f321dfe8-3455-4e47-b6cc-4c91532ed310",
   "metadata": {},
   "outputs": [
    {
     "data": {
      "text/plain": [
       "true"
      ]
     },
     "execution_count": 25,
     "metadata": {},
     "output_type": "execute_result"
    }
   ],
   "source": [
    "(0b100 ^ 0b111) === 0b011"
   ]
  }
 ],
 "metadata": {
  "kernelspec": {
   "display_name": "JavaScript (Node.js)",
   "language": "javascript",
   "name": "javascript"
  },
  "language_info": {
   "file_extension": ".js",
   "mimetype": "application/javascript",
   "name": "javascript",
   "version": "14.16.1"
  }
 },
 "nbformat": 4,
 "nbformat_minor": 5
}
