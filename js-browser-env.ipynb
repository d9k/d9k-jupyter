{
 "cells": [
  {
   "cell_type": "markdown",
   "id": "0fa56c99-328a-4dc6-9406-a12de4aa5650",
   "metadata": {},
   "source": [
    "# js browser env"
   ]
  },
  {
   "cell_type": "markdown",
   "id": "ef419a87-d747-4c9b-becd-17dba8a9408e",
   "metadata": {},
   "source": [
    "## Detect browser language"
   ]
  },
  {
   "cell_type": "code",
   "execution_count": 6,
   "id": "ac01c4cf-cec0-4292-b267-49abfb30d0b3",
   "metadata": {},
   "outputs": [],
   "source": [
    "import * as tslab from \"tslab\";\n",
    "\n",
    "var display = tslab.display;\n",
    "var html = display.html.bind(display);"
   ]
  },
  {
   "cell_type": "code",
   "execution_count": 10,
   "id": "e6533378-16a5-4ab0-baf9-ceab29b382c8",
   "metadata": {},
   "outputs": [
    {
     "data": {
      "text/html": [
       "\n",
       "    <p>Detect language:</p>\n",
       "    <pre id=\"example-languages-result\" />\n",
       "    <script>\n",
       "        var resultEl = document.getElementById(\"example-languages-result\");\n",
       "        var result = {};\n",
       "        result['navigator.languages'] = navigator.languages;\n",
       "        result['navigator.language'] = navigator.language;\n",
       "        result['navigator.userLanguage'] = navigator.userLanguage;\n",
       "        resultEl.innerHTML = JSON.stringify(result);\n",
       "    </script>\n"
      ]
     },
     "metadata": {},
     "output_type": "display_data"
    }
   ],
   "source": [
    "html(`\n",
    "    <p>Detect language:</p>\n",
    "    <pre id=\"example-languages-result\" />\n",
    "    <script>\n",
    "        var resultEl = document.getElementById(\"example-languages-result\");\n",
    "        var result = {};\n",
    "        result['navigator.languages'] = navigator.languages;\n",
    "        result['navigator.language'] = navigator.language;\n",
    "        result['navigator.userLanguage'] = navigator.userLanguage;\n",
    "        resultEl.innerHTML = JSON.stringify(result);\n",
    "    </script>\n",
    "`);"
   ]
  }
 ],
 "metadata": {
  "kernelspec": {
   "display_name": "JavaScript",
   "language": "javascript",
   "name": "jslab"
  },
  "language_info": {
   "file_extension": ".js",
   "mimetype": "text/javascript",
   "name": "javascript",
   "version": ""
  }
 },
 "nbformat": 4,
 "nbformat_minor": 5
}
