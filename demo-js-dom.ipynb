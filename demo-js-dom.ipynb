{
 "cells": [
  {
   "cell_type": "code",
   "execution_count": 4,
   "id": "fff297e8-82e0-4a10-ace8-42c814777e7e",
   "metadata": {},
   "outputs": [
    {
     "data": {
      "text/html": [
       "Hello <b>tslab!</b>"
      ]
     },
     "metadata": {},
     "output_type": "display_data"
    }
   ],
   "source": [
    "import * as tslab from \"tslab\";\n",
    "tslab.display.html(\"Hello <b>tslab!</b>\");"
   ]
  },
  {
   "cell_type": "code",
   "execution_count": 2,
   "id": "dec7568c-da6f-4563-845d-6dd741b0f1d0",
   "metadata": {},
   "outputs": [
    {
     "name": "stderr",
     "output_type": "stream",
     "text": [
      "3:21 - Cannot find module 'jsdom' or its corresponding type declarations.\n"
     ]
    }
   ],
   "source": [
    "import * as tslab from \"tslab\";\n",
    "var d3 = require(\"d3\");\n",
    "var jsdom = require(\"jsdom\");\n",
    "\n",
    "var dom0 = new jsdom.JSDOM(\"<svg></svg>\",{QuerySelector:true});\n",
    "\n",
    "var selectSvg = dom0.window.document.querySelector(\"svg\");\n",
    "\n",
    "d3.select(selectSvg)\n",
    "    .append(\"rect\")\n",
    "    .attr(\"width\", 80)\n",
    "    .attr(\"height\", 80)\n",
    "    .style(\"fill\", \"blue\");\n",
    "\n",
    "tslab.display.html(dom0.serialize());"
   ]
  },
  {
   "cell_type": "code",
   "execution_count": 8,
   "id": "2380842a-51fd-4680-8511-e73acb1fede2",
   "metadata": {},
   "outputs": [
    {
     "data": {
      "text/html": [
       "\n",
       "    <button id=\"buttonAlert\" type=\"button\">alert</button>\n",
       "    <script>\n",
       "        document.getElementById('buttonAlert').onclick = (e) => {\n",
       "          alert('example');\n",
       "        };\n",
       "    </script>\n"
      ]
     },
     "metadata": {},
     "output_type": "display_data"
    }
   ],
   "source": [
    "tslab.display.html(`\n",
    "    <button id=\"buttonAlert\" type=\"button\">alert</button>\n",
    "    <script>\n",
    "        document.getElementById('buttonAlert').onclick = (e) => {\n",
    "          alert('example');\n",
    "        };\n",
    "    </script>\n",
    "`);"
   ]
  },
  {
   "cell_type": "code",
   "execution_count": 6,
   "id": "b3147109-028d-418d-a84e-adc3d83e4a4b",
   "metadata": {},
   "outputs": [
    {
     "name": "stdout",
     "output_type": "stream",
     "text": [
      "[ \u001b[32m'versions'\u001b[39m, \u001b[32m'newDisplay'\u001b[39m, \u001b[32m'display'\u001b[39m ]\n"
     ]
    }
   ],
   "source": [
    "import * as tslab from \"tslab\";\n",
    "\n",
    "Object.keys(tslab);"
   ]
  },
  {
   "cell_type": "raw",
   "id": "76acf3a1-701d-415f-8922-eadec5d28ca6",
   "metadata": {},
   "source": [
    "import * as tslab from \"tslab\";\n",
    "\n",
    "Object.keys(tslab.display)"
   ]
  }
 ],
 "metadata": {
  "kernelspec": {
   "display_name": "JavaScript",
   "language": "javascript",
   "name": "jslab"
  },
  "language_info": {
   "file_extension": ".js",
   "mimetype": "text/javascript",
   "name": "javascript",
   "version": ""
  }
 },
 "nbformat": 4,
 "nbformat_minor": 5
}
