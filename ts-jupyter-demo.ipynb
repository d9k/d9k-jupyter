{
 "cells": [
  {
   "cell_type": "code",
   "execution_count": 3,
   "id": "d7cbc5d3-eedc-444a-b48c-a72ff08638e8",
   "metadata": {},
   "outputs": [
    {
     "name": "stdout",
     "output_type": "stream",
     "text": [
      "\u001b[33m6\u001b[39m\n"
     ]
    }
   ],
   "source": [
    "let a = 6\n",
    "a"
   ]
  },
  {
   "cell_type": "code",
   "execution_count": 3,
   "id": "e092daeb-6e4b-465b-9986-51e6506ad35c",
   "metadata": {},
   "outputs": [
    {
     "name": "stdout",
     "output_type": "stream",
     "text": [
      "\u001b[33m5\u001b[39m\n"
     ]
    }
   ],
   "source": [
    "let a = 5\n",
    "a"
   ]
  },
  {
   "cell_type": "markdown",
   "id": "f4d4e9f1-bfef-4863-b4cb-b03d6d93a35e",
   "metadata": {},
   "source": [
    "_Markdown_ **cell**"
   ]
  }
 ],
 "metadata": {
  "kernelspec": {
   "display_name": "TypeScript",
   "language": "typescript",
   "name": "tslab"
  },
  "language_info": {
   "codemirror_mode": {
    "mode": "typescript",
    "name": "javascript",
    "typescript": true
   },
   "file_extension": ".ts",
   "mimetype": "text/typescript",
   "name": "typescript",
   "version": "3.7.2"
  }
 },
 "nbformat": 4,
 "nbformat_minor": 5
}
