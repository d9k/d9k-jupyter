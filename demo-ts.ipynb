{
 "cells": [
  {
   "cell_type": "code",
   "execution_count": 3,
   "id": "d7cbc5d3-eedc-444a-b48c-a72ff08638e8",
   "metadata": {},
   "outputs": [
    {
     "name": "stdout",
     "output_type": "stream",
     "text": [
      "\u001b[33m6\u001b[39m\n"
     ]
    }
   ],
   "source": [
    "let a = 6\n",
    "a"
   ]
  },
  {
   "cell_type": "code",
   "execution_count": 3,
   "id": "e092daeb-6e4b-465b-9986-51e6506ad35c",
   "metadata": {},
   "outputs": [
    {
     "name": "stdout",
     "output_type": "stream",
     "text": [
      "\u001b[33m5\u001b[39m\n"
     ]
    }
   ],
   "source": [
    "let a = 5\n",
    "a"
   ]
  },
  {
   "cell_type": "markdown",
   "id": "f4d4e9f1-bfef-4863-b4cb-b03d6d93a35e",
   "metadata": {},
   "source": [
    "_Markdown_ **cell**"
   ]
  },
  {
   "cell_type": "code",
   "execution_count": 2,
   "id": "a54cd3c5-5bc7-4c3a-91b3-8edf20c24093",
   "metadata": {},
   "outputs": [
    {
     "name": "stderr",
     "output_type": "stream",
     "text": [
      "1:5 - Type 'number' is not assignable to type 'string'.\n"
     ]
    }
   ],
   "source": [
    "let a: string = 6;"
   ]
  },
  {
   "cell_type": "code",
   "execution_count": 1,
   "id": "643c43e2-0ea0-400c-a413-2749dd8978d2",
   "metadata": {},
   "outputs": [
    {
     "name": "stdout",
     "output_type": "stream",
     "text": [
      "[ \u001b[32m'versions'\u001b[39m, \u001b[32m'newDisplay'\u001b[39m, \u001b[32m'display'\u001b[39m ]\n"
     ]
    }
   ],
   "source": [
    "import * as tslab from \"tslab\";\n",
    "\n",
    "Object.keys(tslab);"
   ]
  },
  {
   "cell_type": "code",
   "execution_count": 2,
   "id": "cc5d1d8d-bd02-4ce2-af10-4390b00b207d",
   "metadata": {},
   "outputs": [
    {
     "name": "stdout",
     "output_type": "stream",
     "text": [
      "[ \u001b[32m'id'\u001b[39m ]\n"
     ]
    }
   ],
   "source": [
    "import * as tslab from \"tslab\";\n",
    "\n",
    "Object.keys(tslab.display)"
   ]
  },
  {
   "cell_type": "code",
   "execution_count": 12,
   "id": "d1762076-39c3-493d-b72c-1828e710d103",
   "metadata": {},
   "outputs": [
    {
     "name": "stdout",
     "output_type": "stream",
     "text": [
      "\u001b[36m[Function: html]\u001b[39m\n"
     ]
    }
   ],
   "source": [
    "import * as tslab from \"tslab\";\n",
    "\n",
    "var getKeys = function(obj){\n",
    "   var keys = [];\n",
    "   for(var key in obj){\n",
    "      keys.push(key);\n",
    "   }\n",
    "   return keys;\n",
    "}\n",
    "\n",
    "//getKeys(tslab.display)\n",
    "//Object.getOwnPropertyNames(tslab.display)\n",
    "\n",
    "//console.dir(tslab.display)\n",
    "//JSON.stringify(tslab.display)\n",
    "\n",
    "// TODO Why not shown in Object.keys(tslab.display)?!\n",
    "console.log(tslab.display.html)\n"
   ]
  }
 ],
 "metadata": {
  "kernelspec": {
   "display_name": "TypeScript",
   "language": "typescript",
   "name": "tslab"
  },
  "language_info": {
   "codemirror_mode": {
    "mode": "typescript",
    "name": "javascript",
    "typescript": true
   },
   "file_extension": ".ts",
   "mimetype": "text/typescript",
   "name": "typescript",
   "version": "3.7.2"
  }
 },
 "nbformat": 4,
 "nbformat_minor": 5
}
