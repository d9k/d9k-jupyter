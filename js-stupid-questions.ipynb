{
 "cells": [
  {
   "cell_type": "markdown",
   "id": "241613fe-c7ea-47c5-9bb6-f8e754246334",
   "metadata": {},
   "source": [
    "# Difference between undefined, null & void"
   ]
  },
  {
   "cell_type": "code",
   "execution_count": 5,
   "id": "e1c7a3e7-991c-48ce-9d5a-3217dce15639",
   "metadata": {},
   "outputs": [
    {
     "name": "stdout",
     "output_type": "stream",
     "text": [
      "undefined\n"
     ]
    }
   ],
   "source": [
    "console.log(void(1+1))"
   ]
  },
  {
   "cell_type": "code",
   "execution_count": 6,
   "id": "35aa6eac-a3bc-4bdc-9a6b-b1635f15a3a4",
   "metadata": {},
   "outputs": [
    {
     "data": {
      "text/plain": [
       "0"
      ]
     },
     "execution_count": 6,
     "metadata": {},
     "output_type": "execute_result"
    }
   ],
   "source": [
    "null * 5"
   ]
  },
  {
   "cell_type": "code",
   "execution_count": 7,
   "id": "cfcccc6d-4a7c-4884-a448-f7e9c007bc40",
   "metadata": {},
   "outputs": [
    {
     "data": {
      "text/plain": [
       "Infinity"
      ]
     },
     "execution_count": 7,
     "metadata": {},
     "output_type": "execute_result"
    }
   ],
   "source": [
    "5 / null"
   ]
  },
  {
   "cell_type": "code",
   "execution_count": 10,
   "id": "ed508669-e5c3-461a-8932-71075413fbac",
   "metadata": {},
   "outputs": [
    {
     "data": {
      "text/plain": [
       "NaN"
      ]
     },
     "execution_count": 10,
     "metadata": {},
     "output_type": "execute_result"
    }
   ],
   "source": [
    "undefined * 5"
   ]
  },
  {
   "cell_type": "code",
   "execution_count": 11,
   "id": "a68e4a4b-69b5-4fac-98fd-5f3ff42105c1",
   "metadata": {},
   "outputs": [
    {
     "data": {
      "text/plain": [
       "NaN"
      ]
     },
     "execution_count": 11,
     "metadata": {},
     "output_type": "execute_result"
    }
   ],
   "source": [
    "5 / undefined"
   ]
  },
  {
   "cell_type": "markdown",
   "id": "0f4e9b59-8c54-4e9f-8b4b-a47a2ae9180b",
   "metadata": {},
   "source": [
    "## Object is empty\n",
    "\n",
    "https://github.com/sudheerj/javascript-interview-questions#how-do-you-test-for-an-empty-object"
   ]
  },
  {
   "cell_type": "code",
   "execution_count": 23,
   "id": "9d91505e-ae78-48c0-bbe7-437d124ca6b5",
   "metadata": {},
   "outputs": [
    {
     "name": "stdout",
     "output_type": "stream",
     "text": [
      "{}: true\n",
      "{a: 1}: false\n",
      "{b: null}: false\n",
      "{c: undefined}: false\n",
      "new MyBox(): false\n",
      "new MyBox('tv'): false\n",
      "new Date(): false\n",
      "lodash: new MyBox(): true\n",
      "lodash: new MyBox('tv'): false\n",
      "lodash: new Date(): false\n"
     ]
    }
   ],
   "source": [
    "// Since date object length is 0, you need to check constructor as well\n",
    "var isEmpty = (obj) => Object.keys(obj).length === 0 && obj.constructor === Object;\n",
    "\n",
    "console.log('{}:', isEmpty({}));\n",
    "console.log('{a: 1}:', isEmpty({a: 1}));\n",
    "console.log('{b: null}:', isEmpty({b: null}));\n",
    "console.log('{c: undefined}:', isEmpty({c: undefined}));\n",
    "\n",
    "function MyBox(value) {\n",
    "  if (typeof(value) !== 'undefined') {\n",
    "    this.value = value;\n",
    "  }\n",
    "}\n",
    "\n",
    "function MyClassFilled() {this.a = 1}\n",
    "\n",
    "// TODO false: is it correct? \n",
    "// See https://github.com/sudheerj/javascript-interview-questions/issues/212\n",
    "console.log('new MyBox():', isEmpty(new MyBox()));\n",
    "\n",
    "console.log(\"new MyBox('tv'):\", isEmpty(new MyBox('tv')));\n",
    "\n",
    "console.log('new Date():', isEmpty(new Date()));\n",
    "\n",
    "_ = require('lodash')\n",
    "console.log('lodash: new MyBox():', _.isEmpty(new MyBox()));\n",
    "console.log(\"lodash: new MyBox('tv'):\", _.isEmpty(new MyBox('tv')));\n",
    "console.log('lodash: new Date():', isEmpty(new Date()));"
   ]
  },
  {
   "cell_type": "markdown",
   "id": "353735b0-bc4e-4bff-b021-8caa19e0fa0f",
   "metadata": {},
   "source": [
    "## How do you assign default values to variables"
   ]
  },
  {
   "cell_type": "code",
   "execution_count": 38,
   "id": "56a6c708-7ab4-4342-80ad-3457c133caf4",
   "metadata": {},
   "outputs": [
    {
     "data": {
      "text/plain": [
       "123"
      ]
     },
     "execution_count": 38,
     "metadata": {},
     "output_type": "execute_result"
    }
   ],
   "source": [
    "'' || 123"
   ]
  },
  {
   "cell_type": "code",
   "execution_count": 37,
   "id": "1d03cbc7-0e98-4a20-8dfe-863d90c46e8e",
   "metadata": {},
   "outputs": [
    {
     "data": {
      "text/plain": [
       "123"
      ]
     },
     "execution_count": 37,
     "metadata": {},
     "output_type": "execute_result"
    }
   ],
   "source": [
    "null || 123"
   ]
  },
  {
   "cell_type": "code",
   "execution_count": 39,
   "id": "2a02f860-ca75-4193-b13d-8437adf51427",
   "metadata": {},
   "outputs": [
    {
     "data": {
      "text/plain": [
       "123"
      ]
     },
     "execution_count": 39,
     "metadata": {},
     "output_type": "execute_result"
    }
   ],
   "source": [
    "0 || 123"
   ]
  },
  {
   "cell_type": "code",
   "execution_count": 43,
   "id": "b641aea0-b1ba-48ea-91ac-79ad11a5900e",
   "metadata": {},
   "outputs": [
    {
     "data": {
      "text/plain": [
       "123"
      ]
     },
     "execution_count": 43,
     "metadata": {},
     "output_type": "execute_result"
    }
   ],
   "source": [
    "false || 123"
   ]
  },
  {
   "cell_type": "code",
   "execution_count": 40,
   "id": "c126f2f9-515a-4670-a4bb-9cc93651494b",
   "metadata": {},
   "outputs": [
    {
     "data": {
      "text/plain": [
       "''"
      ]
     },
     "execution_count": 40,
     "metadata": {},
     "output_type": "execute_result"
    }
   ],
   "source": [
    "'' ?? 123"
   ]
  },
  {
   "cell_type": "code",
   "execution_count": 41,
   "id": "8cfa3309-15d4-480c-a1c5-46a2dcba5dd8",
   "metadata": {},
   "outputs": [
    {
     "data": {
      "text/plain": [
       "0"
      ]
     },
     "execution_count": 41,
     "metadata": {},
     "output_type": "execute_result"
    }
   ],
   "source": [
    "0 ?? 123"
   ]
  },
  {
   "cell_type": "code",
   "execution_count": 42,
   "id": "320d4d6d-2e49-4cc0-8946-e915a70e8d62",
   "metadata": {},
   "outputs": [
    {
     "data": {
      "text/plain": [
       "123"
      ]
     },
     "execution_count": 42,
     "metadata": {},
     "output_type": "execute_result"
    }
   ],
   "source": [
    "null ?? 123"
   ]
  },
  {
   "cell_type": "code",
   "execution_count": 45,
   "id": "fc8d2678-91bf-4016-bcfe-38ec629ef4ac",
   "metadata": {},
   "outputs": [
    {
     "data": {
      "text/plain": [
       "false"
      ]
     },
     "execution_count": 45,
     "metadata": {},
     "output_type": "execute_result"
    }
   ],
   "source": [
    "false ?? 123"
   ]
  },
  {
   "cell_type": "markdown",
   "id": "fd727f8c-937d-4a7c-a251-190ccb01fe35",
   "metadata": {},
   "source": [
    "## How do you define multiline strings"
   ]
  },
  {
   "cell_type": "code",
   "execution_count": 46,
   "id": "ebc0e471-9623-4b97-8502-a9039f696a5d",
   "metadata": {},
   "outputs": [
    {
     "data": {
      "text/plain": [
       "'This is a very lengthy sentence'"
      ]
     },
     "execution_count": 46,
     "metadata": {},
     "output_type": "execute_result"
    }
   ],
   "source": [
    "\"This is \\\n",
    "a very lengthy \\\n",
    "sentence\""
   ]
  },
  {
   "cell_type": "code",
   "execution_count": 48,
   "id": "05c342de-3cd9-4314-9714-8f3b85b88a1e",
   "metadata": {},
   "outputs": [
    {
     "data": {
      "text/plain": [
       "'This is\\na very lengthy\\nmultiline sentence'"
      ]
     },
     "execution_count": 48,
     "metadata": {},
     "output_type": "execute_result"
    }
   ],
   "source": [
    "`This is\n",
    "a very lengthy\n",
    "multiline sentence`"
   ]
  },
  {
   "cell_type": "code",
   "execution_count": 51,
   "id": "4530ba8a-abd6-4d8a-826c-4a880ffa7b2f",
   "metadata": {},
   "outputs": [
    {
     "data": {
      "text/plain": [
       "'This is \\na very lengthy \\nmultiline sentence'"
      ]
     },
     "execution_count": 51,
     "metadata": {},
     "output_type": "execute_result"
    }
   ],
   "source": [
    "\"This is \\n\\\n",
    "a very lengthy \\n\\\n",
    "multiline sentence\""
   ]
  },
  {
   "cell_type": "markdown",
   "id": "774f1986-a351-4ef8-831b-0dc6d49c1903",
   "metadata": {},
   "source": [
    "## JS labels\n",
    "\n",
    "The label statement allows us to name loops and blocks in JavaScript. "
   ]
  },
  {
   "cell_type": "code",
   "execution_count": 60,
   "id": "28500dfa-c129-4448-aba5-34f310c360fa",
   "metadata": {},
   "outputs": [
    {
     "name": "stdout",
     "output_type": "stream",
     "text": [
      "outer = 0, inner = 0\n",
      "outer = 1, inner = 0\n",
      "outer = 1, inner = 1\n",
      "outer = 2, inner = 0\n",
      "outer = 2, inner = 1\n",
      "outer = 2, inner = 2\n"
     ]
    }
   ],
   "source": [
    "labelOuterLoop: for (var outer = 0; outer < 3; outer++) {\n",
    "  labelInnerLoop: for (var inner = 0; inner < 3; inner++) {\n",
    "    if (inner > outer) {\n",
    "      continue labelOuterLoop;\n",
    "    }\n",
    "    console.log(\"outer = \" + outer + \", inner = \" + inner);\n",
    "  }\n",
    "}"
   ]
  },
  {
   "cell_type": "markdown",
   "id": "84d5092b-8a10-4020-9ed5-607c40548ab4",
   "metadata": {},
   "source": [
    "## Give an example where do you really need semicolon\n",
    "\n",
    "https://www.freecodecamp.org/news/lets-talk-about-semicolons-in-javascript-f1fe08ab4e53/"
   ]
  },
  {
   "cell_type": "code",
   "execution_count": 2,
   "id": "c34c767c-5caf-4bc9-885d-722ae9e93755",
   "metadata": {},
   "outputs": [
    {
     "ename": "TypeError",
     "evalue": "b is not a function",
     "execution_count": 2,
     "output_type": "error",
     "traceback": [
      "evalmachine.<anonymous>:5",
      "var c = a + b",
      "            ^",
      "",
      "TypeError: b is not a function",
      "    at evalmachine.<anonymous>:5:13",
      "    at Script.runInThisContext (vm.js:133:18)",
      "    at Object.runInThisContext (vm.js:310:38)",
      "    at run ([eval]:1020:15)",
      "    at onRunRequest ([eval]:864:18)",
      "    at onMessage ([eval]:828:13)",
      "    at process.emit (events.js:315:20)",
      "    at emit (internal/child_process.js:903:12)",
      "    at processTicksAndRejections (internal/process/task_queues.js:81:21)"
     ]
    }
   ],
   "source": [
    "var a = 1, b = 2\n",
    "\n",
    "// These 2 lines concat to `const c = a + b(a + b).toString()`\n",
    "// with an error \"b is not a function\"\n",
    "var c = a + b\n",
    "(a + b).toString()"
   ]
  },
  {
   "cell_type": "code",
   "execution_count": 77,
   "id": "54ace983-aced-41e8-86f9-504ec6e71f02",
   "metadata": {},
   "outputs": [
    {
     "name": "stdout",
     "output_type": "stream",
     "text": [
      "undefined\n"
     ]
    }
   ],
   "source": [
    "console.log(\n",
    "    (() => {\n",
    "      // return will end with `;`, function returns undefined\n",
    "      return\n",
    "      {\n",
    "        color: 'white'\n",
    "      }\n",
    "    })()\n",
    ")"
   ]
  },
  {
   "cell_type": "markdown",
   "id": "eb7df1bd-76da-4a68-bcdd-111b21b0aaf7",
   "metadata": {},
   "source": [
    "# Why use comma operator\n",
    "\n",
    "Comma operator `,`: lowest precedence, return latest expression result.\n",
    "\n",
    "https://developer.mozilla.org/en-US/docs/Web/JavaScript/Reference/Operators/Comma_operator"
   ]
  },
  {
   "cell_type": "code",
   "execution_count": 1,
   "id": "63c4b60f-7dea-4bf8-8fd9-d21178f6f81a",
   "metadata": {},
   "outputs": [
    {
     "name": "stdout",
     "output_type": "stream",
     "text": [
      "15 [ 1, 4, 9, 16, 25 ]\n"
     ]
    }
   ],
   "source": [
    "var sum = 0;\n",
    "var squares = [1, 2, 3, 4, 5].map((x) => ((sum += x), x * x));\n",
    "console.log(sum, squares)"
   ]
  },
  {
   "cell_type": "markdown",
   "id": "d8360f25-9f44-4a98-ad48-2fc6aa9bf583",
   "metadata": {},
   "source": [
    "## Can I redeclare let and const variables\n",
    "\n",
    "In the same block, no.\n",
    "But can be redeclared inside nested block."
   ]
  },
  {
   "cell_type": "code",
   "execution_count": 17,
   "id": "a55aa02a-4a44-42de-8a3e-95a18f57f91e",
   "metadata": {},
   "outputs": [
    {
     "name": "stdout",
     "output_type": "stream",
     "text": [
      "5\n",
      "6\n",
      "7\n",
      "7\n"
     ]
    }
   ],
   "source": [
    "function testLetAllowed() { \n",
    "  let a = 5;\n",
    "  console.log(a);\n",
    "\n",
    "  (() => { \n",
    "    let a = 6;\n",
    "    console.log(a);\n",
    "  })();\n",
    "\n",
    "  for (let i=0; i<2; i++) {\n",
    "    let a = 7;\n",
    "    console.log(a);\n",
    "  }\n",
    "}\n",
    "\n",
    "testLetAllowed();"
   ]
  },
  {
   "cell_type": "code",
   "execution_count": 23,
   "id": "685a0b20-0856-4b3c-83b0-67f51bf91b90",
   "metadata": {},
   "outputs": [
    {
     "ename": "SyntaxError",
     "evalue": "Identifier 'a' has already been declared",
     "execution_count": 23,
     "output_type": "error",
     "traceback": [
      "evalmachine.<anonymous>:5",
      "  let a = 9;",
      "      ^",
      "",
      "SyntaxError: Identifier 'a' has already been declared",
      "    at new Script (vm.js:101:7)",
      "    at createScript (vm.js:262:10)",
      "    at Object.runInThisContext (vm.js:310:10)",
      "    at run ([eval]:1020:15)",
      "    at onRunRequest ([eval]:864:18)",
      "    at onMessage ([eval]:828:13)",
      "    at process.emit (events.js:315:20)",
      "    at emit (internal/child_process.js:903:12)",
      "    at processTicksAndRejections (internal/process/task_queues.js:81:21)"
     ]
    }
   ],
   "source": [
    "function testLetRestricted() {\n",
    "  let a = 8;\n",
    "  console.log(a);\n",
    "\n",
    "  let a = 9;\n",
    "  console.log(a);\n",
    "}\n",
    "\n",
    "testLetRestricted();"
   ]
  },
  {
   "cell_type": "code",
   "execution_count": 22,
   "id": "0ed2f20e-9d5e-46e3-95c3-f381531fed9c",
   "metadata": {},
   "outputs": [
    {
     "name": "stdout",
     "output_type": "stream",
     "text": [
      "5\n",
      "6\n"
     ]
    }
   ],
   "source": [
    "function testVar() { \n",
    "  var b = 5;\n",
    "  console.log(b);\n",
    "\n",
    "  var b = 6;\n",
    "  console.log(b);\n",
    "}\n",
    "\n",
    "testVar();"
   ]
  },
  {
   "cell_type": "markdown",
   "id": "51c15036-cf7c-4faa-9465-2df8dac04936",
   "metadata": {},
   "source": [
    "## Var + setTimeout\n",
    "\n",
    "- https://github.com/sudheerj/javascript-interview-questions#what-is-the-output-of-below-for-loops\n",
    "\n",
    "The `setTimeout()` callback function is called after the loop has been executed.\n",
    "\n",
    "In the second loop, the `let`-variable `i` becomes a block scoped variable and holds a new value(0, 1, 2, 3) for each iteration.\n",
    "\n",
    "In the second loop variable `i` was declared with the `var` keyword and became a global variable."
   ]
  },
  {
   "cell_type": "code",
   "execution_count": 25,
   "id": "c6e4ca23-2bce-463c-9138-f99ab78a3c96",
   "metadata": {},
   "outputs": [
    {
     "data": {
      "text/plain": [
       "Timeout {\n",
       "  _idleTimeout: 1,\n",
       "  _idlePrev: [TimersList],\n",
       "  _idleNext: [Timeout],\n",
       "  _idleStart: 5325786,\n",
       "  _onTimeout: [Function (anonymous)],\n",
       "  _timerArgs: undefined,\n",
       "  _repeat: null,\n",
       "  _destroyed: false,\n",
       "  [Symbol(refed)]: true,\n",
       "  [Symbol(kHasPrimitive)]: false,\n",
       "  [Symbol(asyncId)]: 115,\n",
       "  [Symbol(triggerId)]: 105\n",
       "}"
      ]
     },
     "execution_count": 25,
     "metadata": {},
     "output_type": "execute_result"
    },
    {
     "name": "stdout",
     "output_type": "stream",
     "text": [
      "4\n",
      "4\n",
      "4\n",
      "4\n",
      "0\n",
      "1\n",
      "2\n",
      "3\n"
     ]
    }
   ],
   "source": [
    "for (var i = 0; i < 4; i++) {\n",
    "  // global scope\n",
    "  setTimeout(() => console.log(i));\n",
    "}\n",
    "\n",
    "for (let i = 0; i < 4; i++) {\n",
    "  // block scope\n",
    "  setTimeout(() => console.log(i));\n",
    "}"
   ]
  },
  {
   "cell_type": "markdown",
   "id": "5febfca0-d6e2-4e49-9bd9-b1735c4f6d9d",
   "metadata": {},
   "source": [
    "## String with unary operator"
   ]
  },
  {
   "cell_type": "code",
   "execution_count": 14,
   "id": "3a46d5f0-9eed-4476-b2ee-ad61db0274b4",
   "metadata": {},
   "outputs": [
    {
     "name": "stdout",
     "output_type": "stream",
     "text": [
      "NaN\n",
      "0\n",
      "1\n",
      "2\n",
      "77\n",
      "NaN\n",
      "NaN\n",
      "6\n",
      "NaN\n",
      "-8\n",
      "9.01\n",
      "0.45\n",
      "10\n",
      "28\n"
     ]
    }
   ],
   "source": [
    "console.log(+\"Hello\");\n",
    "console.log(+\"\");\n",
    "console.log(+\"1\");\n",
    "console.log(+\" 2\");\n",
    "console.log(+\"\\t\\n77\");\n",
    "console.log(+\"99problems\");\n",
    "console.log(+\"34-5\");\n",
    "console.log(+\"+6\");\n",
    "console.log(+\"++7\");\n",
    "console.log(+\"-8\");\n",
    "console.log(+\"9.01\");\n",
    "console.log(+\".45\");\n",
    "console.log(+\"0b1010\");\n",
    "console.log(+\"0x1C\");"
   ]
  },
  {
   "cell_type": "markdown",
   "id": "934f2636-fed5-476d-b915-cfed6cb1f4d8",
   "metadata": {},
   "source": [
    "## What is the output of below methods calls"
   ]
  },
  {
   "cell_type": "code",
   "execution_count": 42,
   "id": "dde4a6b2-92e0-4e48-a961-b17517031c20",
   "metadata": {},
   "outputs": [
    {
     "name": "stdout",
     "output_type": "stream",
     "text": [
      "40\n",
      "NaN\n"
     ]
    }
   ],
   "source": [
    "var circle = {\n",
    "  radius: 20,\n",
    "  diameter() {\n",
    "    return this.radius * 2;\n",
    "  },\n",
    "  perimeter: () => 2 * Math.PI * this.radius,\n",
    "};\n",
    "\n",
    "console.log(circle.diameter());\n",
    "console.log(circle.perimeter());"
   ]
  },
  {
   "cell_type": "markdown",
   "id": "b0e4173d-9d82-4927-89de-f25b87d9779f",
   "metadata": {},
   "source": [
    "- `diameter()`: regular function, `this` keyword refers to the surrounding scope which is an `circle` object.\n",
    "- `perimeter()`: arrow function, `this` refers to the surrounding scope which is a `window` object."
   ]
  },
  {
   "cell_type": "markdown",
   "id": "0fe3e843-4270-4dd8-9dde-0066b3e13318",
   "metadata": {},
   "source": [
    "## What happens if we add two arrays, if whe negate array\n",
    "\n",
    "If you add two arrays together, it will convert them both to strings and concatenate them"
   ]
  },
  {
   "cell_type": "code",
   "execution_count": 18,
   "id": "d72653c1-3c5a-419a-88ff-e2cfd35cb260",
   "metadata": {},
   "outputs": [
    {
     "data": {
      "text/plain": [
       "'a,bc'"
      ]
     },
     "execution_count": 18,
     "metadata": {},
     "output_type": "execute_result"
    }
   ],
   "source": [
    "['a', 'b'] + ['c']"
   ]
  },
  {
   "cell_type": "code",
   "execution_count": 26,
   "id": "611fb614-739d-408d-8698-c567a5dbfec6",
   "metadata": {},
   "outputs": [
    {
     "data": {
      "text/plain": [
       "''"
      ]
     },
     "execution_count": 26,
     "metadata": {},
     "output_type": "execute_result"
    }
   ],
   "source": [
    "[] + []"
   ]
  },
  {
   "cell_type": "code",
   "execution_count": 20,
   "id": "09c5e8d9-e567-4314-b74b-9a2efb55d82c",
   "metadata": {},
   "outputs": [
    {
     "data": {
      "text/plain": [
       "false"
      ]
     },
     "execution_count": 20,
     "metadata": {},
     "output_type": "execute_result"
    }
   ],
   "source": [
    "! []"
   ]
  },
  {
   "cell_type": "code",
   "execution_count": 21,
   "id": "4649c86f-392e-4690-986f-fa38a8dbdd13",
   "metadata": {},
   "outputs": [
    {
     "data": {
      "text/plain": [
       "'false'"
      ]
     },
     "execution_count": 21,
     "metadata": {},
     "output_type": "execute_result"
    }
   ],
   "source": [
    "[] + ![]"
   ]
  },
  {
   "cell_type": "code",
   "execution_count": 25,
   "id": "5d943487-b8b0-4024-8102-3c269fe94367",
   "metadata": {},
   "outputs": [
    {
     "data": {
      "text/plain": [
       "'true'"
      ]
     },
     "execution_count": 25,
     "metadata": {},
     "output_type": "execute_result"
    }
   ],
   "source": [
    "[] + !![]"
   ]
  },
  {
   "cell_type": "markdown",
   "id": "bc0249bf-1291-49ba-8d4f-351c37821290",
   "metadata": {},
   "source": [
    "## How do you empty array"
   ]
  },
  {
   "cell_type": "code",
   "execution_count": 34,
   "id": "8338f4b0-fdde-4611-8fa7-c1ca259447f4",
   "metadata": {},
   "outputs": [
    {
     "name": "stdout",
     "output_type": "stream",
     "text": [
      "[ 'Singapore', 'Delhi', 'London' ]\n",
      "The same array object: true\n",
      "[]\n",
      "The same array object: true\n",
      "[]\n",
      "The same array object: true\n",
      "[]\n",
      "The same array object: false\n"
     ]
    }
   ],
   "source": [
    "var cities = [];\n",
    "var citiesRefCopy = cities;\n",
    "\n",
    "function resetCities() {\n",
    "    cities.push(\"Singapore\");\n",
    "    cities.push(\"Delhi\");\n",
    "    cities.push(\"London\");\n",
    "}\n",
    "\n",
    "function checkEmpty() {\n",
    "    console.log(cities);\n",
    "    console.log('The same array object:', cities === citiesRefCopy)\n",
    "}\n",
    "\n",
    "resetCities();\n",
    "checkEmpty();\n",
    "cities.length = 0;\n",
    "checkEmpty();\n",
    "\n",
    "resetCities();\n",
    "cities.splice(0, cities.length)\n",
    "checkEmpty();\n",
    "\n",
    "cities = [];\n",
    "checkEmpty();"
   ]
  },
  {
   "cell_type": "code",
   "execution_count": null,
   "id": "126e4b06-29e8-44d5-b3d0-0968f4e2ab74",
   "metadata": {},
   "outputs": [],
   "source": []
  }
 ],
 "metadata": {
  "kernelspec": {
   "display_name": "JavaScript (Node.js)",
   "language": "javascript",
   "name": "javascript"
  },
  "language_info": {
   "file_extension": ".js",
   "mimetype": "application/javascript",
   "name": "javascript",
   "version": "14.16.1"
  }
 },
 "nbformat": 4,
 "nbformat_minor": 5
}
