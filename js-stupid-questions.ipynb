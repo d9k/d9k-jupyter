{
 "cells": [
  {
   "cell_type": "markdown",
   "id": "241613fe-c7ea-47c5-9bb6-f8e754246334",
   "metadata": {},
   "source": [
    "# Difference between undefined, null & void"
   ]
  },
  {
   "cell_type": "code",
   "execution_count": 5,
   "id": "e1c7a3e7-991c-48ce-9d5a-3217dce15639",
   "metadata": {},
   "outputs": [
    {
     "name": "stdout",
     "output_type": "stream",
     "text": [
      "undefined\n"
     ]
    }
   ],
   "source": [
    "console.log(void(1+1))"
   ]
  },
  {
   "cell_type": "code",
   "execution_count": 6,
   "id": "35aa6eac-a3bc-4bdc-9a6b-b1635f15a3a4",
   "metadata": {},
   "outputs": [
    {
     "data": {
      "text/plain": [
       "0"
      ]
     },
     "execution_count": 6,
     "metadata": {},
     "output_type": "execute_result"
    }
   ],
   "source": [
    "null * 5"
   ]
  },
  {
   "cell_type": "code",
   "execution_count": 7,
   "id": "cfcccc6d-4a7c-4884-a448-f7e9c007bc40",
   "metadata": {},
   "outputs": [
    {
     "data": {
      "text/plain": [
       "Infinity"
      ]
     },
     "execution_count": 7,
     "metadata": {},
     "output_type": "execute_result"
    }
   ],
   "source": [
    "5 / null"
   ]
  },
  {
   "cell_type": "code",
   "execution_count": 10,
   "id": "ed508669-e5c3-461a-8932-71075413fbac",
   "metadata": {},
   "outputs": [
    {
     "data": {
      "text/plain": [
       "NaN"
      ]
     },
     "execution_count": 10,
     "metadata": {},
     "output_type": "execute_result"
    }
   ],
   "source": [
    "undefined * 5"
   ]
  },
  {
   "cell_type": "code",
   "execution_count": 11,
   "id": "a68e4a4b-69b5-4fac-98fd-5f3ff42105c1",
   "metadata": {},
   "outputs": [
    {
     "data": {
      "text/plain": [
       "NaN"
      ]
     },
     "execution_count": 11,
     "metadata": {},
     "output_type": "execute_result"
    }
   ],
   "source": [
    "5 / undefined"
   ]
  },
  {
   "cell_type": "markdown",
   "id": "0f4e9b59-8c54-4e9f-8b4b-a47a2ae9180b",
   "metadata": {},
   "source": [
    "## Object is empty\n",
    "\n",
    "https://github.com/sudheerj/javascript-interview-questions#how-do-you-test-for-an-empty-object"
   ]
  },
  {
   "cell_type": "code",
   "execution_count": 23,
   "id": "9d91505e-ae78-48c0-bbe7-437d124ca6b5",
   "metadata": {},
   "outputs": [
    {
     "name": "stdout",
     "output_type": "stream",
     "text": [
      "{}: true\n",
      "{a: 1}: false\n",
      "{b: null}: false\n",
      "{c: undefined}: false\n",
      "new MyBox(): false\n",
      "new MyBox('tv'): false\n",
      "new Date(): false\n",
      "lodash: new MyBox(): true\n",
      "lodash: new MyBox('tv'): false\n",
      "lodash: new Date(): false\n"
     ]
    }
   ],
   "source": [
    "// Since date object length is 0, you need to check constructor as well\n",
    "var isEmpty = (obj) => Object.keys(obj).length === 0 && obj.constructor === Object;\n",
    "\n",
    "console.log('{}:', isEmpty({}));\n",
    "console.log('{a: 1}:', isEmpty({a: 1}));\n",
    "console.log('{b: null}:', isEmpty({b: null}));\n",
    "console.log('{c: undefined}:', isEmpty({c: undefined}));\n",
    "\n",
    "function MyBox(value) {\n",
    "  if (typeof(value) !== 'undefined') {\n",
    "    this.value = value;\n",
    "  }\n",
    "}\n",
    "\n",
    "function MyClassFilled() {this.a = 1}\n",
    "\n",
    "// TODO false: is it correct? \n",
    "// See https://github.com/sudheerj/javascript-interview-questions/issues/212\n",
    "console.log('new MyBox():', isEmpty(new MyBox()));\n",
    "\n",
    "console.log(\"new MyBox('tv'):\", isEmpty(new MyBox('tv')));\n",
    "\n",
    "console.log('new Date():', isEmpty(new Date()));\n",
    "\n",
    "_ = require('lodash')\n",
    "console.log('lodash: new MyBox():', _.isEmpty(new MyBox()));\n",
    "console.log(\"lodash: new MyBox('tv'):\", _.isEmpty(new MyBox('tv')));\n",
    "console.log('lodash: new Date():', isEmpty(new Date()));"
   ]
  },
  {
   "cell_type": "markdown",
   "id": "353735b0-bc4e-4bff-b021-8caa19e0fa0f",
   "metadata": {},
   "source": [
    "## How do you assign default values to variables"
   ]
  },
  {
   "cell_type": "code",
   "execution_count": 38,
   "id": "56a6c708-7ab4-4342-80ad-3457c133caf4",
   "metadata": {},
   "outputs": [
    {
     "data": {
      "text/plain": [
       "123"
      ]
     },
     "execution_count": 38,
     "metadata": {},
     "output_type": "execute_result"
    }
   ],
   "source": [
    "'' || 123"
   ]
  },
  {
   "cell_type": "code",
   "execution_count": 37,
   "id": "1d03cbc7-0e98-4a20-8dfe-863d90c46e8e",
   "metadata": {},
   "outputs": [
    {
     "data": {
      "text/plain": [
       "123"
      ]
     },
     "execution_count": 37,
     "metadata": {},
     "output_type": "execute_result"
    }
   ],
   "source": [
    "null || 123"
   ]
  },
  {
   "cell_type": "code",
   "execution_count": 39,
   "id": "2a02f860-ca75-4193-b13d-8437adf51427",
   "metadata": {},
   "outputs": [
    {
     "data": {
      "text/plain": [
       "123"
      ]
     },
     "execution_count": 39,
     "metadata": {},
     "output_type": "execute_result"
    }
   ],
   "source": [
    "0 || 123"
   ]
  },
  {
   "cell_type": "code",
   "execution_count": 43,
   "id": "b641aea0-b1ba-48ea-91ac-79ad11a5900e",
   "metadata": {},
   "outputs": [
    {
     "data": {
      "text/plain": [
       "123"
      ]
     },
     "execution_count": 43,
     "metadata": {},
     "output_type": "execute_result"
    }
   ],
   "source": [
    "false || 123"
   ]
  },
  {
   "cell_type": "code",
   "execution_count": 40,
   "id": "c126f2f9-515a-4670-a4bb-9cc93651494b",
   "metadata": {},
   "outputs": [
    {
     "data": {
      "text/plain": [
       "''"
      ]
     },
     "execution_count": 40,
     "metadata": {},
     "output_type": "execute_result"
    }
   ],
   "source": [
    "'' ?? 123"
   ]
  },
  {
   "cell_type": "code",
   "execution_count": 41,
   "id": "8cfa3309-15d4-480c-a1c5-46a2dcba5dd8",
   "metadata": {},
   "outputs": [
    {
     "data": {
      "text/plain": [
       "0"
      ]
     },
     "execution_count": 41,
     "metadata": {},
     "output_type": "execute_result"
    }
   ],
   "source": [
    "0 ?? 123"
   ]
  },
  {
   "cell_type": "code",
   "execution_count": 42,
   "id": "320d4d6d-2e49-4cc0-8946-e915a70e8d62",
   "metadata": {},
   "outputs": [
    {
     "data": {
      "text/plain": [
       "123"
      ]
     },
     "execution_count": 42,
     "metadata": {},
     "output_type": "execute_result"
    }
   ],
   "source": [
    "null ?? 123"
   ]
  },
  {
   "cell_type": "code",
   "execution_count": 45,
   "id": "fc8d2678-91bf-4016-bcfe-38ec629ef4ac",
   "metadata": {},
   "outputs": [
    {
     "data": {
      "text/plain": [
       "false"
      ]
     },
     "execution_count": 45,
     "metadata": {},
     "output_type": "execute_result"
    }
   ],
   "source": [
    "false ?? 123"
   ]
  },
  {
   "cell_type": "markdown",
   "id": "fd727f8c-937d-4a7c-a251-190ccb01fe35",
   "metadata": {},
   "source": [
    "## How do you define multiline strings"
   ]
  },
  {
   "cell_type": "code",
   "execution_count": 46,
   "id": "ebc0e471-9623-4b97-8502-a9039f696a5d",
   "metadata": {},
   "outputs": [
    {
     "data": {
      "text/plain": [
       "'This is a very lengthy sentence'"
      ]
     },
     "execution_count": 46,
     "metadata": {},
     "output_type": "execute_result"
    }
   ],
   "source": [
    "\"This is \\\n",
    "a very lengthy \\\n",
    "sentence\""
   ]
  },
  {
   "cell_type": "code",
   "execution_count": 48,
   "id": "05c342de-3cd9-4314-9714-8f3b85b88a1e",
   "metadata": {},
   "outputs": [
    {
     "data": {
      "text/plain": [
       "'This is\\na very lengthy\\nmultiline sentence'"
      ]
     },
     "execution_count": 48,
     "metadata": {},
     "output_type": "execute_result"
    }
   ],
   "source": [
    "`This is\n",
    "a very lengthy\n",
    "multiline sentence`"
   ]
  },
  {
   "cell_type": "code",
   "execution_count": 51,
   "id": "4530ba8a-abd6-4d8a-826c-4a880ffa7b2f",
   "metadata": {},
   "outputs": [
    {
     "data": {
      "text/plain": [
       "'This is \\na very lengthy \\nmultiline sentence'"
      ]
     },
     "execution_count": 51,
     "metadata": {},
     "output_type": "execute_result"
    }
   ],
   "source": [
    "\"This is \\n\\\n",
    "a very lengthy \\n\\\n",
    "multiline sentence\""
   ]
  },
  {
   "cell_type": "markdown",
   "id": "774f1986-a351-4ef8-831b-0dc6d49c1903",
   "metadata": {},
   "source": [
    "## JS labels\n",
    "\n",
    "The label statement allows us to name loops and blocks in JavaScript. "
   ]
  },
  {
   "cell_type": "code",
   "execution_count": 60,
   "id": "28500dfa-c129-4448-aba5-34f310c360fa",
   "metadata": {},
   "outputs": [
    {
     "name": "stdout",
     "output_type": "stream",
     "text": [
      "outer = 0, inner = 0\n",
      "outer = 1, inner = 0\n",
      "outer = 1, inner = 1\n",
      "outer = 2, inner = 0\n",
      "outer = 2, inner = 1\n",
      "outer = 2, inner = 2\n"
     ]
    }
   ],
   "source": [
    "labelOuterLoop: for (var outer = 0; outer < 3; outer++) {\n",
    "  labelInnerLoop: for (var inner = 0; inner < 3; inner++) {\n",
    "    if (inner > outer) {\n",
    "      continue labelOuterLoop;\n",
    "    }\n",
    "    console.log(\"outer = \" + outer + \", inner = \" + inner);\n",
    "  }\n",
    "}"
   ]
  },
  {
   "cell_type": "markdown",
   "id": "84d5092b-8a10-4020-9ed5-607c40548ab4",
   "metadata": {},
   "source": [
    "## Give an example where do you really need semicolon\n",
    "\n",
    "https://www.freecodecamp.org/news/lets-talk-about-semicolons-in-javascript-f1fe08ab4e53/"
   ]
  },
  {
   "cell_type": "code",
   "execution_count": 2,
   "id": "c34c767c-5caf-4bc9-885d-722ae9e93755",
   "metadata": {},
   "outputs": [
    {
     "ename": "TypeError",
     "evalue": "b is not a function",
     "output_type": "error",
     "traceback": [
      "evalmachine.<anonymous>:5",
      "var c = a + b",
      "            ^",
      "",
      "TypeError: b is not a function",
      "    at evalmachine.<anonymous>:5:13",
      "    at Script.runInThisContext (vm.js:133:18)",
      "    at Object.runInThisContext (vm.js:310:38)",
      "    at run ([eval]:1020:15)",
      "    at onRunRequest ([eval]:864:18)",
      "    at onMessage ([eval]:828:13)",
      "    at process.emit (events.js:315:20)",
      "    at emit (internal/child_process.js:903:12)",
      "    at processTicksAndRejections (internal/process/task_queues.js:81:21)"
     ]
    }
   ],
   "source": [
    "var a = 1, b = 2\n",
    "\n",
    "// These 2 lines concat to `const c = a + b(a + b).toString()`\n",
    "// with an error \"b is not a function\"\n",
    "var c = a + b\n",
    "(a + b).toString()"
   ]
  },
  {
   "cell_type": "code",
   "execution_count": 77,
   "id": "54ace983-aced-41e8-86f9-504ec6e71f02",
   "metadata": {},
   "outputs": [
    {
     "name": "stdout",
     "output_type": "stream",
     "text": [
      "undefined\n"
     ]
    }
   ],
   "source": [
    "console.log(\n",
    "    (() => {\n",
    "      // return will end with `;`, function returns undefined\n",
    "      return\n",
    "      {\n",
    "        color: 'white'\n",
    "      }\n",
    "    })()\n",
    ")"
   ]
  },
  {
   "cell_type": "markdown",
   "id": "eb7df1bd-76da-4a68-bcdd-111b21b0aaf7",
   "metadata": {},
   "source": [
    "# Why use comma operator\n",
    "\n",
    "Comma operator `,`: lowest precedence, return latest expression result.\n",
    "\n",
    "https://developer.mozilla.org/en-US/docs/Web/JavaScript/Reference/Operators/Comma_operator"
   ]
  },
  {
   "cell_type": "code",
   "execution_count": 1,
   "id": "63c4b60f-7dea-4bf8-8fd9-d21178f6f81a",
   "metadata": {},
   "outputs": [
    {
     "name": "stdout",
     "output_type": "stream",
     "text": [
      "15 [ 1, 4, 9, 16, 25 ]\n"
     ]
    }
   ],
   "source": [
    "var sum = 0;\n",
    "var squares = [1, 2, 3, 4, 5].map((x) => ((sum += x), x * x));\n",
    "console.log(sum, squares)"
   ]
  },
  {
   "cell_type": "markdown",
   "id": "d8360f25-9f44-4a98-ad48-2fc6aa9bf583",
   "metadata": {},
   "source": [
    "## Can I redeclare let and const variables\n",
    "\n",
    "In the same block, no.\n",
    "But can be redeclared inside nested block."
   ]
  },
  {
   "cell_type": "code",
   "execution_count": 17,
   "id": "a55aa02a-4a44-42de-8a3e-95a18f57f91e",
   "metadata": {},
   "outputs": [
    {
     "name": "stdout",
     "output_type": "stream",
     "text": [
      "5\n",
      "6\n",
      "7\n",
      "7\n"
     ]
    }
   ],
   "source": [
    "function testLetAllowed() { \n",
    "  let a = 5;\n",
    "  console.log(a);\n",
    "\n",
    "  (() => { \n",
    "    let a = 6;\n",
    "    console.log(a);\n",
    "  })();\n",
    "\n",
    "  for (let i=0; i<2; i++) {\n",
    "    let a = 7;\n",
    "    console.log(a);\n",
    "  }\n",
    "}\n",
    "\n",
    "testLetAllowed();"
   ]
  },
  {
   "cell_type": "code",
   "execution_count": 23,
   "id": "685a0b20-0856-4b3c-83b0-67f51bf91b90",
   "metadata": {},
   "outputs": [
    {
     "ename": "SyntaxError",
     "evalue": "Identifier 'a' has already been declared",
     "output_type": "error",
     "traceback": [
      "evalmachine.<anonymous>:5",
      "  let a = 9;",
      "      ^",
      "",
      "SyntaxError: Identifier 'a' has already been declared",
      "    at new Script (vm.js:101:7)",
      "    at createScript (vm.js:262:10)",
      "    at Object.runInThisContext (vm.js:310:10)",
      "    at run ([eval]:1020:15)",
      "    at onRunRequest ([eval]:864:18)",
      "    at onMessage ([eval]:828:13)",
      "    at process.emit (events.js:315:20)",
      "    at emit (internal/child_process.js:903:12)",
      "    at processTicksAndRejections (internal/process/task_queues.js:81:21)"
     ]
    }
   ],
   "source": [
    "function testLetRestricted() {\n",
    "  let a = 8;\n",
    "  console.log(a);\n",
    "\n",
    "  let a = 9;\n",
    "  console.log(a);\n",
    "}\n",
    "\n",
    "testLetRestricted();"
   ]
  },
  {
   "cell_type": "code",
   "execution_count": 22,
   "id": "0ed2f20e-9d5e-46e3-95c3-f381531fed9c",
   "metadata": {},
   "outputs": [
    {
     "name": "stdout",
     "output_type": "stream",
     "text": [
      "5\n",
      "6\n"
     ]
    }
   ],
   "source": [
    "function testVar() { \n",
    "  var b = 5;\n",
    "  console.log(b);\n",
    "\n",
    "  var b = 6;\n",
    "  console.log(b);\n",
    "}\n",
    "\n",
    "testVar();"
   ]
  },
  {
   "cell_type": "markdown",
   "id": "51c15036-cf7c-4faa-9465-2df8dac04936",
   "metadata": {},
   "source": [
    "## Var + setTimeout\n",
    "\n",
    "- https://github.com/sudheerj/javascript-interview-questions#what-is-the-output-of-below-for-loops\n",
    "\n",
    "The `setTimeout()` callback function is called after the loop has been executed.\n",
    "\n",
    "In the second loop, the `let`-variable `i` becomes a block scoped variable and holds a new value(0, 1, 2, 3) for each iteration.\n",
    "\n",
    "In the second loop variable `i` was declared with the `var` keyword and became a global variable."
   ]
  },
  {
   "cell_type": "code",
   "execution_count": 25,
   "id": "c6e4ca23-2bce-463c-9138-f99ab78a3c96",
   "metadata": {},
   "outputs": [
    {
     "data": {
      "text/plain": [
       "Timeout {\n",
       "  _idleTimeout: 1,\n",
       "  _idlePrev: [TimersList],\n",
       "  _idleNext: [Timeout],\n",
       "  _idleStart: 5325786,\n",
       "  _onTimeout: [Function (anonymous)],\n",
       "  _timerArgs: undefined,\n",
       "  _repeat: null,\n",
       "  _destroyed: false,\n",
       "  [Symbol(refed)]: true,\n",
       "  [Symbol(kHasPrimitive)]: false,\n",
       "  [Symbol(asyncId)]: 115,\n",
       "  [Symbol(triggerId)]: 105\n",
       "}"
      ]
     },
     "execution_count": 25,
     "metadata": {},
     "output_type": "execute_result"
    },
    {
     "name": "stdout",
     "output_type": "stream",
     "text": [
      "4\n",
      "4\n",
      "4\n",
      "4\n",
      "0\n",
      "1\n",
      "2\n",
      "3\n"
     ]
    }
   ],
   "source": [
    "for (var i = 0; i < 4; i++) {\n",
    "  // global scope\n",
    "  setTimeout(() => console.log(i));\n",
    "}\n",
    "\n",
    "for (let i = 0; i < 4; i++) {\n",
    "  // block scope\n",
    "  setTimeout(() => console.log(i));\n",
    "}"
   ]
  },
  {
   "cell_type": "markdown",
   "id": "5febfca0-d6e2-4e49-9bd9-b1735c4f6d9d",
   "metadata": {},
   "source": [
    "## String with unary operator"
   ]
  },
  {
   "cell_type": "code",
   "execution_count": 14,
   "id": "3a46d5f0-9eed-4476-b2ee-ad61db0274b4",
   "metadata": {},
   "outputs": [
    {
     "name": "stdout",
     "output_type": "stream",
     "text": [
      "NaN\n",
      "0\n",
      "1\n",
      "2\n",
      "77\n",
      "NaN\n",
      "NaN\n",
      "6\n",
      "NaN\n",
      "-8\n",
      "9.01\n",
      "0.45\n",
      "10\n",
      "28\n"
     ]
    }
   ],
   "source": [
    "console.log(+\"Hello\");\n",
    "console.log(+\"\");\n",
    "console.log(+\"1\");\n",
    "console.log(+\" 2\");\n",
    "console.log(+\"\\t\\n77\");\n",
    "console.log(+\"99problems\");\n",
    "console.log(+\"34-5\");\n",
    "console.log(+\"+6\");\n",
    "console.log(+\"++7\");\n",
    "console.log(+\"-8\");\n",
    "console.log(+\"9.01\");\n",
    "console.log(+\".45\");\n",
    "console.log(+\"0b1010\");\n",
    "console.log(+\"0x1C\");"
   ]
  },
  {
   "cell_type": "markdown",
   "id": "934f2636-fed5-476d-b915-cfed6cb1f4d8",
   "metadata": {},
   "source": [
    "## What is the output of below methods calls"
   ]
  },
  {
   "cell_type": "code",
   "execution_count": 42,
   "id": "dde4a6b2-92e0-4e48-a961-b17517031c20",
   "metadata": {},
   "outputs": [
    {
     "name": "stdout",
     "output_type": "stream",
     "text": [
      "40\n",
      "NaN\n"
     ]
    }
   ],
   "source": [
    "var circle = {\n",
    "  radius: 20,\n",
    "  diameter() {\n",
    "    return this.radius * 2;\n",
    "  },\n",
    "  perimeter: () => 2 * Math.PI * this.radius,\n",
    "};\n",
    "\n",
    "console.log(circle.diameter());\n",
    "console.log(circle.perimeter());"
   ]
  },
  {
   "cell_type": "markdown",
   "id": "b0e4173d-9d82-4927-89de-f25b87d9779f",
   "metadata": {},
   "source": [
    "- `diameter()`: regular function, `this` keyword refers to the surrounding scope which is an `circle` object.\n",
    "- `perimeter()`: arrow function, `this` refers to the surrounding scope which is a `window` object."
   ]
  },
  {
   "cell_type": "markdown",
   "id": "0fe3e843-4270-4dd8-9dde-0066b3e13318",
   "metadata": {},
   "source": [
    "## What happens if we add two arrays, if whe negate array\n",
    "\n",
    "If you add two arrays together, it will convert them both to strings and concatenate them"
   ]
  },
  {
   "cell_type": "code",
   "execution_count": 18,
   "id": "d72653c1-3c5a-419a-88ff-e2cfd35cb260",
   "metadata": {},
   "outputs": [
    {
     "data": {
      "text/plain": [
       "'a,bc'"
      ]
     },
     "execution_count": 18,
     "metadata": {},
     "output_type": "execute_result"
    }
   ],
   "source": [
    "['a', 'b'] + ['c']"
   ]
  },
  {
   "cell_type": "code",
   "execution_count": 26,
   "id": "611fb614-739d-408d-8698-c567a5dbfec6",
   "metadata": {},
   "outputs": [
    {
     "data": {
      "text/plain": [
       "''"
      ]
     },
     "execution_count": 26,
     "metadata": {},
     "output_type": "execute_result"
    }
   ],
   "source": [
    "[] + []"
   ]
  },
  {
   "cell_type": "code",
   "execution_count": 20,
   "id": "09c5e8d9-e567-4314-b74b-9a2efb55d82c",
   "metadata": {},
   "outputs": [
    {
     "data": {
      "text/plain": [
       "false"
      ]
     },
     "execution_count": 20,
     "metadata": {},
     "output_type": "execute_result"
    }
   ],
   "source": [
    "! []"
   ]
  },
  {
   "cell_type": "code",
   "execution_count": 21,
   "id": "4649c86f-392e-4690-986f-fa38a8dbdd13",
   "metadata": {},
   "outputs": [
    {
     "data": {
      "text/plain": [
       "'false'"
      ]
     },
     "execution_count": 21,
     "metadata": {},
     "output_type": "execute_result"
    }
   ],
   "source": [
    "[] + ![]"
   ]
  },
  {
   "cell_type": "code",
   "execution_count": 25,
   "id": "5d943487-b8b0-4024-8102-3c269fe94367",
   "metadata": {},
   "outputs": [
    {
     "data": {
      "text/plain": [
       "'true'"
      ]
     },
     "execution_count": 25,
     "metadata": {},
     "output_type": "execute_result"
    }
   ],
   "source": [
    "[] + !![]"
   ]
  },
  {
   "cell_type": "markdown",
   "id": "147ef9b3-1ae4-4e34-8906-68c307fe8d23",
   "metadata": {},
   "source": [
    "# Special number states\n",
    "\n",
    "see [js-math](./js-math.ipynb)"
   ]
  },
  {
   "cell_type": "markdown",
   "id": "6a42350d-97a1-46c8-8ec7-1615171f0879",
   "metadata": {},
   "source": [
    "## How to get `\"real\"` using special characters `[]()!+`?"
   ]
  },
  {
   "cell_type": "code",
   "execution_count": 2,
   "id": "1d99c2ff-11ab-462a-9fbf-f201a58fdf96",
   "metadata": {},
   "outputs": [
    {
     "data": {
      "text/plain": [
       "''"
      ]
     },
     "execution_count": 2,
     "metadata": {},
     "output_type": "execute_result"
    }
   ],
   "source": [
    "[] + []"
   ]
  },
  {
   "cell_type": "code",
   "execution_count": 3,
   "id": "08d9507f-6263-427b-95db-ccd381b8da24",
   "metadata": {},
   "outputs": [
    {
     "data": {
      "text/plain": [
       "'false'"
      ]
     },
     "execution_count": 3,
     "metadata": {},
     "output_type": "execute_result"
    }
   ],
   "source": [
    "[] + ![]"
   ]
  },
  {
   "cell_type": "code",
   "execution_count": 5,
   "id": "5a23a1dd-01cb-49ea-8d17-5d590a55bfc3",
   "metadata": {},
   "outputs": [
    {
     "data": {
      "text/plain": [
       "true"
      ]
     },
     "execution_count": 5,
     "metadata": {},
     "output_type": "execute_result"
    }
   ],
   "source": [
    "!![]"
   ]
  },
  {
   "cell_type": "code",
   "execution_count": 6,
   "id": "d26b755c-cec5-46d6-92e7-65c13374bd80",
   "metadata": {},
   "outputs": [
    {
     "data": {
      "text/plain": [
       "'true'"
      ]
     },
     "execution_count": 6,
     "metadata": {},
     "output_type": "execute_result"
    }
   ],
   "source": [
    "[] + !![]"
   ]
  },
  {
   "cell_type": "code",
   "execution_count": 13,
   "id": "752422b5-fcb8-4a4f-975f-8daf9abcc37c",
   "metadata": {},
   "outputs": [
    {
     "data": {
      "text/plain": [
       "0"
      ]
     },
     "execution_count": 13,
     "metadata": {},
     "output_type": "execute_result"
    }
   ],
   "source": [
    "+[]"
   ]
  },
  {
   "cell_type": "code",
   "execution_count": 15,
   "id": "46ee8605-22f1-47b1-822d-318d0250edf7",
   "metadata": {},
   "outputs": [
    {
     "data": {
      "text/plain": [
       "0"
      ]
     },
     "execution_count": 15,
     "metadata": {},
     "output_type": "execute_result"
    }
   ],
   "source": [
    "+![]"
   ]
  },
  {
   "cell_type": "code",
   "execution_count": 14,
   "id": "66be9da3-0059-4edd-a411-b1e67fc5771f",
   "metadata": {},
   "outputs": [
    {
     "data": {
      "text/plain": [
       "1"
      ]
     },
     "execution_count": 14,
     "metadata": {},
     "output_type": "execute_result"
    }
   ],
   "source": [
    "+!![]"
   ]
  },
  {
   "cell_type": "code",
   "execution_count": 17,
   "id": "4706f372-4fff-4aa0-abf2-d2d7eb4ef152",
   "metadata": {},
   "outputs": [
    {
     "data": {
      "text/plain": [
       "1"
      ]
     },
     "execution_count": 17,
     "metadata": {},
     "output_type": "execute_result"
    }
   ],
   "source": [
    "+!+[]"
   ]
  },
  {
   "cell_type": "code",
   "execution_count": 19,
   "id": "e128b63c-ebb4-4b54-8c10-2ab67a572469",
   "metadata": {},
   "outputs": [
    {
     "data": {
      "text/plain": [
       "'r'"
      ]
     },
     "execution_count": 19,
     "metadata": {},
     "output_type": "execute_result"
    }
   ],
   "source": [
    "([] + !![])[+!![]]"
   ]
  },
  {
   "cell_type": "code",
   "execution_count": 29,
   "id": "2557998c-bf23-4a0b-91aa-5932949487b2",
   "metadata": {},
   "outputs": [
    {
     "data": {
      "text/plain": [
       "'real'"
      ]
     },
     "execution_count": 29,
     "metadata": {},
     "output_type": "execute_result"
    }
   ],
   "source": [
    "([] + !![]) // 'true'\n",
    "    [ +!![] ] + // 'true'[1] == 'r'\n",
    "\n",
    "([] + !![]) // 'true'\n",
    "    [ +!![] +!![] +!![] ] + // 'true'[3] == 'e'\n",
    "\n",
    "([] + ![]) // 'false'\n",
    "    [ +!![] ] + // 'false'[1] == 'a'\n",
    "\n",
    "([] + ![]) // 'false'\n",
    "    [ +!![] +!![] ] // 'false'[2] == 'l'"
   ]
  },
  {
   "cell_type": "markdown",
   "id": "bc0249bf-1291-49ba-8d4f-351c37821291",
   "metadata": {},
   "source": [
    "## How do you empty array\n",
    "\n",
    "see [js-data](./js-data.ipynb)"
   ]
  },
  {
   "cell_type": "markdown",
   "id": "c1c53930-2309-4147-ac30-d1ecfa0c96e2",
   "metadata": {},
   "source": [
    "## What is the difference between isNaN and Number.isNaN?\n",
    "\n",
    "- global function `isNaN()` converts the argument to a Number, whereas `Number.isNaN()` doesn't."
   ]
  },
  {
   "cell_type": "code",
   "execution_count": 17,
   "id": "1da50ee4-c960-4948-bf4f-46bd4488757f",
   "metadata": {},
   "outputs": [
    {
     "data": {
      "text/plain": [
       "[\n",
       "  {\n",
       "    'isNaN(\"hello\")': true,\n",
       "    'Number.isNaN(\"hello\")': false,\n",
       "    '+\"hello\"': NaN\n",
       "  },\n",
       "  { 'isNaN(\"\")': false, 'Number.isNaN(\"\")': false, '+\"\"': 0 },\n",
       "  { 'isNaN(123)': false, 'Number.isNaN(123)': false, '+123': 123 },\n",
       "  { 'isNaN(NaN)': true, 'Number.isNaN(NaN)': true, '+NaN': NaN },\n",
       "  { 'isNaN(null)': false, 'Number.isNaN(null)': false, '+null': 0 }\n",
       "]"
      ]
     },
     "execution_count": 17,
     "metadata": {},
     "output_type": "execute_result"
    }
   ],
   "source": [
    "[\n",
    "  'hello',\n",
    "  '',\n",
    "  123,\n",
    "  NaN,\n",
    "  null\n",
    "].map((val) => {\n",
    "    const valStr = typeof val === 'string' ? JSON.stringify(val) : `${val}`;\n",
    "    return {\n",
    "      [`isNaN(${valStr})`]: isNaN(val),\n",
    "      ['Number.isNaN(' + valStr + ')']: Number.isNaN(val),\n",
    "      [`+${valStr}`]: +val,\n",
    "    }\n",
    "})"
   ]
  },
  {
   "cell_type": "markdown",
   "id": "041192f6-2baf-4333-a1d4-457e2c5c12ea",
   "metadata": {},
   "source": [
    "## var, let и const - difference\n",
    "\n",
    "- [Var, let и const в JavaScript: в чём разница между переменными в JS / Skillbox Media](https://skillbox.ru/media/code/chem_razlichayutsya_var_let_i_const_v_javascript/)"
   ]
  },
  {
   "cell_type": "code",
   "execution_count": 24,
   "id": "d92dd19d-dd94-46af-84f5-3e081276916a",
   "metadata": {},
   "outputs": [
    {
     "name": "stdout",
     "output_type": "stream",
     "text": [
      "10\n",
      "50\n"
     ]
    }
   ],
   "source": [
    "var x = 50;\n",
    "\n",
    "function func() {\n",
    "  var x = 10;\n",
    "  console.log(x);\n",
    "  console.log(global.x);\n",
    "}\n",
    "\n",
    "func()"
   ]
  },
  {
   "cell_type": "code",
   "execution_count": 34,
   "id": "f1cd2b58-7cb4-4b35-bd24-2ffa7d172b1c",
   "metadata": {},
   "outputs": [
    {
     "name": "stdout",
     "output_type": "stream",
     "text": [
      "people and code\n"
     ]
    }
   ],
   "source": [
    "best_podcast = 'people and code';\n",
    "\n",
    "function showPodcast() {\t\n",
    "\tconsole.log(best_podcast);\n",
    "}\n",
    "\n",
    "showPodcast();"
   ]
  },
  {
   "cell_type": "code",
   "execution_count": 38,
   "id": "857e5e6b-6026-4be5-8a59-0c94c324554f",
   "metadata": {},
   "outputs": [
    {
     "name": "stdout",
     "output_type": "stream",
     "text": [
      "undefined\n"
     ]
    }
   ],
   "source": [
    "best_podcast = 'people and code';\n",
    "\n",
    "function showPodcast() {\t\n",
    "\tconsole.log(best_podcast);\n",
    "\n",
    "\tif (false) {\n",
    "        // unreachable, but hoisting: declaration code moved to the top of function!\n",
    "\t\tvar best_podcast;\n",
    "\t}\n",
    "}\n",
    "\n",
    "showPodcast(); //Ошибки не будет, браузер выведет undefined"
   ]
  },
  {
   "cell_type": "markdown",
   "id": "9fd5945a-3cd6-40ed-8b72-e4bae00d50c0",
   "metadata": {},
   "source": [
    "- https://github.com/sudheerj/javascript-interview-questions#2-what-is-the-output-of-below-code"
   ]
  },
  {
   "cell_type": "code",
   "execution_count": 44,
   "id": "8151ad73-fa0e-4842-988a-089198a7707a",
   "metadata": {},
   "outputs": [
    {
     "name": "stdout",
     "output_type": "stream",
     "text": [
      "1 undefined number\n"
     ]
    }
   ],
   "source": [
    "function foo() {\n",
    "  let xx = (yy = 0);\n",
    "  xx++;\n",
    "  yy++;\n",
    "  return xx;\n",
    "}\n",
    "\n",
    "console.log(foo(), typeof xx, typeof yy);"
   ]
  },
  {
   "cell_type": "markdown",
   "id": "81dfcba5-ed9c-4fc9-9955-18b9400c4ae3",
   "metadata": {},
   "source": [
    "## Declaration inside if condition\n",
    "\n",
    "- https://github.com/sudheerj/javascript-interview-questions#answer-4-2"
   ]
  },
  {
   "cell_type": "code",
   "execution_count": 46,
   "id": "399de413-ff76-4315-ad32-28995db00afd",
   "metadata": {},
   "outputs": [
    {
     "name": "stdout",
     "output_type": "stream",
     "text": [
      "1undefined\n"
     ]
    }
   ],
   "source": [
    "var y = 1;\n",
    "if (function f() {}) {\n",
    "  y += typeof f;\n",
    "}\n",
    "console.log(y);"
   ]
  },
  {
   "cell_type": "code",
   "execution_count": 48,
   "id": "352f0122-4015-43f3-baf6-d2c7cf3a0f9a",
   "metadata": {},
   "outputs": [
    {
     "name": "stdout",
     "output_type": "stream",
     "text": [
      "1function\n"
     ]
    }
   ],
   "source": [
    "var y = 1;\n",
    "\n",
    "function f2() {}\n",
    "\n",
    "if (f2) {\n",
    "  y += typeof f2;\n",
    "}\n",
    "console.log(y);"
   ]
  },
  {
   "cell_type": "code",
   "execution_count": 51,
   "id": "23daac1c-3ee5-4ef5-8c7a-dd52dced01ca",
   "metadata": {},
   "outputs": [
    {
     "ename": "SyntaxError",
     "evalue": "Unexpected token 'const'",
     "execution_count": 51,
     "output_type": "error",
     "traceback": [
      "evalmachine.<anonymous>:3",
      "if (const f3 = (){}) {",
      "    ^^^^^",
      "",
      "SyntaxError: Unexpected token 'const'",
      "    at new Script (vm.js:101:7)",
      "    at createScript (vm.js:262:10)",
      "    at Object.runInThisContext (vm.js:310:10)",
      "    at run ([eval]:1020:15)",
      "    at onRunRequest ([eval]:864:18)",
      "    at onMessage ([eval]:828:13)",
      "    at process.emit (events.js:315:20)",
      "    at emit (internal/child_process.js:903:12)",
      "    at processTicksAndRejections (internal/process/task_queues.js:81:21)"
     ]
    }
   ],
   "source": [
    "var y = 1;\n",
    "\n",
    "if (const f3 = (){}) {\n",
    "  y += typeof f2;\n",
    "}\n",
    "\n",
    "console.log(y);"
   ]
  },
  {
   "cell_type": "code",
   "execution_count": 49,
   "id": "0f3aa13e-582a-48f6-9177-c64395364cfc",
   "metadata": {},
   "outputs": [
    {
     "name": "stdout",
     "output_type": "stream",
     "text": [
      "[Function: f]\n"
     ]
    }
   ],
   "source": [
    "console.log(function f() {})"
   ]
  },
  {
   "cell_type": "markdown",
   "id": "17ed8006-e18f-4b35-aa29-d52e947d8d08",
   "metadata": {},
   "source": [
    "## Inequality expression with a catch\n",
    "\n",
    "- https://github.com/sudheerj/javascript-interview-questions#10-what-is-the-output-of-below-code"
   ]
  },
  {
   "cell_type": "code",
   "execution_count": 53,
   "id": "429f3988-9f1c-4a3c-921c-02c8a8c78f50",
   "metadata": {},
   "outputs": [
    {
     "name": "stdout",
     "output_type": "stream",
     "text": [
      "true\n"
     ]
    }
   ],
   "source": [
    "console.log(1 < 2 < 3);"
   ]
  },
  {
   "cell_type": "code",
   "execution_count": 54,
   "id": "e58797cd-44ed-4ca7-9021-174e406354ce",
   "metadata": {},
   "outputs": [
    {
     "name": "stdout",
     "output_type": "stream",
     "text": [
      "true\n"
     ]
    }
   ],
   "source": [
    "console.log(1 < 2);"
   ]
  },
  {
   "cell_type": "code",
   "execution_count": 63,
   "id": "9d6b5f5d-e863-4493-a5ab-9ef11af114b7",
   "metadata": {},
   "outputs": [
    {
     "name": "stdout",
     "output_type": "stream",
     "text": [
      "true\n"
     ]
    }
   ],
   "source": [
    "console.log(true < 3); // 1 < 3"
   ]
  },
  {
   "cell_type": "code",
   "execution_count": 61,
   "id": "0e4feece-f2d8-4861-8a1b-5e9b46b12285",
   "metadata": {},
   "outputs": [
    {
     "name": "stdout",
     "output_type": "stream",
     "text": [
      "false\n"
     ]
    }
   ],
   "source": [
    "console.log(3 > 2 > 1);"
   ]
  },
  {
   "cell_type": "code",
   "execution_count": 66,
   "id": "3ec9d748-d0cb-4b43-9019-ea42b3dbc4cb",
   "metadata": {},
   "outputs": [
    {
     "name": "stdout",
     "output_type": "stream",
     "text": [
      "false\n"
     ]
    }
   ],
   "source": [
    "console.log(true > 1); // 1 > 1"
   ]
  },
  {
   "cell_type": "markdown",
   "id": "631c28be-17ef-4937-9266-5dc0fbf467a2",
   "metadata": {},
   "source": [
    "## Duplicate paremeters names\n",
    "\n",
    "- https://github.com/sudheerj/javascript-interview-questions#11-what-is-the-output-of-below-code-in-non-strict-mode"
   ]
  },
  {
   "cell_type": "code",
   "execution_count": 67,
   "id": "44db335a-63d2-4cde-bf59-9ef16761bb8c",
   "metadata": {},
   "outputs": [
    {
     "name": "stdout",
     "output_type": "stream",
     "text": [
      "3 2 3\n"
     ]
    }
   ],
   "source": [
    "function printNumbers(first, second, first) {\n",
    "  console.log(first, second, first);\n",
    "}\n",
    "printNumbers(1, 2, 3);"
   ]
  },
  {
   "cell_type": "code",
   "execution_count": 68,
   "id": "96103bd6-5ece-482d-8247-f4351ea20a50",
   "metadata": {},
   "outputs": [
    {
     "ename": "SyntaxError",
     "evalue": "Duplicate parameter name not allowed in this context",
     "execution_count": 68,
     "output_type": "error",
     "traceback": [
      "evalmachine.<anonymous>:1",
      "function printNumbers(first, second, first) {",
      "                                     ^^^^^",
      "",
      "SyntaxError: Duplicate parameter name not allowed in this context",
      "    at new Script (vm.js:101:7)",
      "    at createScript (vm.js:262:10)",
      "    at Object.runInThisContext (vm.js:310:10)",
      "    at run ([eval]:1020:15)",
      "    at onRunRequest ([eval]:864:18)",
      "    at onMessage ([eval]:828:13)",
      "    at process.emit (events.js:315:20)",
      "    at emit (internal/child_process.js:903:12)",
      "    at processTicksAndRejections (internal/process/task_queues.js:81:21)"
     ]
    }
   ],
   "source": [
    "function printNumbers(first, second, first) {\n",
    "  \"use strict\"\n",
    "  console.log(first, second, first);\n",
    "}\n",
    "printNumbers(1, 2, 3);"
   ]
  },
  {
   "cell_type": "markdown",
   "id": "95ce6797-1b76-4bfb-bf1b-a2cedfcef7e4",
   "metadata": {},
   "source": [
    "Unlike regular functions, the arrow functions doesn't not allow duplicate parameters in either strict or non-strict mode:"
   ]
  },
  {
   "cell_type": "code",
   "execution_count": 71,
   "id": "ab7ce183-36c4-43ff-b34e-462f755f97f4",
   "metadata": {},
   "outputs": [
    {
     "ename": "SyntaxError",
     "evalue": "Duplicate parameter name not allowed in this context",
     "execution_count": 71,
     "output_type": "error",
     "traceback": [
      "evalmachine.<anonymous>:1",
      "var printNumbersArrow = (first, second, first) => {",
      "                                        ^^^^^",
      "",
      "SyntaxError: Duplicate parameter name not allowed in this context",
      "    at new Script (vm.js:101:7)",
      "    at createScript (vm.js:262:10)",
      "    at Object.runInThisContext (vm.js:310:10)",
      "    at run ([eval]:1020:15)",
      "    at onRunRequest ([eval]:864:18)",
      "    at onMessage ([eval]:828:13)",
      "    at process.emit (events.js:315:20)",
      "    at emit (internal/child_process.js:903:12)",
      "    at processTicksAndRejections (internal/process/task_queues.js:81:21)"
     ]
    }
   ],
   "source": [
    "var printNumbersArrow = (first, second, first) => {\n",
    "  console.log(first, second, first);\n",
    "};\n",
    "printNumbersArrow(1, 2, 3);"
   ]
  },
  {
   "cell_type": "markdown",
   "id": "7d441475-a22a-4b63-ba6c-9f9c0227f8ae",
   "metadata": {},
   "source": [
    "## String and number\n",
    "\n",
    "The concatenation operator(+) is applicable for both number and string types. Whereas subtract(-) operator tries to convert the operands as number type.\n",
    "\n",
    "https://github.com/sudheerj/javascript-interview-questions#17-what-is-the-output-of-below-code"
   ]
  },
  {
   "cell_type": "code",
   "execution_count": 76,
   "id": "7232ac9b-b986-4380-a022-ab16c6081615",
   "metadata": {},
   "outputs": [
    {
     "name": "stdout",
     "output_type": "stream",
     "text": [
      "1010\n",
      "0\n"
     ]
    }
   ],
   "source": [
    "console.log(10 + \"10\");\n",
    "console.log(10 - \"10\");"
   ]
  },
  {
   "cell_type": "markdown",
   "id": "b6e6d873-484d-4127-affc-9d9c4e2bccb8",
   "metadata": {},
   "source": [
    "## Array conversion"
   ]
  },
  {
   "cell_type": "markdown",
   "id": "2bbcaff6-4ffb-4907-91c8-a98e755c4c18",
   "metadata": {},
   "source": [
    "https://github.com/sudheerj/javascript-interview-questions#16-what-is-the-output-of-below-code"
   ]
  },
  {
   "cell_type": "code",
   "execution_count": 74,
   "id": "c0b7d050-98f7-4a2a-b965-526fe3a3c17a",
   "metadata": {},
   "outputs": [
    {
     "name": "stdout",
     "output_type": "stream",
     "text": [
      "true\n",
      "true\n"
     ]
    }
   ],
   "source": [
    "console.log(10 == [10]);\n",
    "console.log(10 == [[[[[[[10]]]]]]]);"
   ]
  },
  {
   "cell_type": "markdown",
   "id": "ff831596-b0f1-4da8-bf0b-d2f9a1e1a917",
   "metadata": {},
   "source": [
    "https://github.com/sudheerj/javascript-interview-questions#18-what-is-the-output-of-below-code"
   ]
  },
  {
   "cell_type": "code",
   "execution_count": 78,
   "id": "188b3ede-d05c-4bb1-a683-939faeebbc5c",
   "metadata": {},
   "outputs": [
    {
     "name": "stdout",
     "output_type": "stream",
     "text": [
      "true\n",
      "I'm True\n"
     ]
    }
   ],
   "source": [
    "console.log([0] == false);\n",
    "if ([0]) {\n",
    "  console.log(\"I'm True\");\n",
    "} else {\n",
    "  console.log(\"I'm False\");\n",
    "}"
   ]
  }
 ],
 "metadata": {
  "kernelspec": {
   "display_name": "JavaScript (Node.js)",
   "language": "javascript",
   "name": "javascript"
  },
  "language_info": {
   "file_extension": ".js",
   "mimetype": "application/javascript",
   "name": "javascript",
   "version": "14.16.1"
  }
 },
 "nbformat": 4,
 "nbformat_minor": 5
}
