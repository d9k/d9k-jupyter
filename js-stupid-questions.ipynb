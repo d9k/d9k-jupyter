{
 "cells": [
  {
   "cell_type": "markdown",
   "id": "241613fe-c7ea-47c5-9bb6-f8e754246334",
   "metadata": {},
   "source": [
    "# Difference between undefined, null & void"
   ]
  },
  {
   "cell_type": "code",
   "execution_count": 5,
   "id": "e1c7a3e7-991c-48ce-9d5a-3217dce15639",
   "metadata": {},
   "outputs": [
    {
     "name": "stdout",
     "output_type": "stream",
     "text": [
      "undefined\n"
     ]
    }
   ],
   "source": [
    "console.log(void(1+1))"
   ]
  },
  {
   "cell_type": "code",
   "execution_count": 6,
   "id": "35aa6eac-a3bc-4bdc-9a6b-b1635f15a3a4",
   "metadata": {},
   "outputs": [
    {
     "data": {
      "text/plain": [
       "0"
      ]
     },
     "execution_count": 6,
     "metadata": {},
     "output_type": "execute_result"
    }
   ],
   "source": [
    "null * 5"
   ]
  },
  {
   "cell_type": "code",
   "execution_count": 7,
   "id": "cfcccc6d-4a7c-4884-a448-f7e9c007bc40",
   "metadata": {},
   "outputs": [
    {
     "data": {
      "text/plain": [
       "Infinity"
      ]
     },
     "execution_count": 7,
     "metadata": {},
     "output_type": "execute_result"
    }
   ],
   "source": [
    "5 / null"
   ]
  },
  {
   "cell_type": "code",
   "execution_count": 10,
   "id": "ed508669-e5c3-461a-8932-71075413fbac",
   "metadata": {},
   "outputs": [
    {
     "data": {
      "text/plain": [
       "NaN"
      ]
     },
     "execution_count": 10,
     "metadata": {},
     "output_type": "execute_result"
    }
   ],
   "source": [
    "undefined * 5"
   ]
  },
  {
   "cell_type": "code",
   "execution_count": 11,
   "id": "a68e4a4b-69b5-4fac-98fd-5f3ff42105c1",
   "metadata": {},
   "outputs": [
    {
     "data": {
      "text/plain": [
       "NaN"
      ]
     },
     "execution_count": 11,
     "metadata": {},
     "output_type": "execute_result"
    }
   ],
   "source": [
    "5 / undefined"
   ]
  },
  {
   "cell_type": "markdown",
   "id": "20c03361-b346-4228-927c-93b05911efb8",
   "metadata": {},
   "source": [
    "# Special number states"
   ]
  },
  {
   "cell_type": "code",
   "execution_count": 1,
   "id": "157a474b-5532-46fc-8a48-b64e958fbdcc",
   "metadata": {},
   "outputs": [
    {
     "data": {
      "text/plain": [
       "'number'"
      ]
     },
     "execution_count": 1,
     "metadata": {},
     "output_type": "execute_result"
    }
   ],
   "source": [
    "typeof(NaN)"
   ]
  },
  {
   "cell_type": "code",
   "execution_count": 2,
   "id": "b85af23f-45c1-4dfa-a7e4-0ddb9ecf854c",
   "metadata": {},
   "outputs": [
    {
     "data": {
      "text/plain": [
       "'number'"
      ]
     },
     "execution_count": 2,
     "metadata": {},
     "output_type": "execute_result"
    }
   ],
   "source": [
    "typeof(Infinity)"
   ]
  },
  {
   "cell_type": "code",
   "execution_count": 3,
   "id": "7bade57a-8c27-47ec-9eb7-6666396e89a8",
   "metadata": {},
   "outputs": [
    {
     "data": {
      "text/plain": [
       "Infinity"
      ]
     },
     "execution_count": 3,
     "metadata": {},
     "output_type": "execute_result"
    }
   ],
   "source": [
    "5 / 0"
   ]
  },
  {
   "cell_type": "code",
   "execution_count": 4,
   "id": "f20e4e39-63b4-4b3d-9f04-2c9afbb80fd2",
   "metadata": {},
   "outputs": [
    {
     "data": {
      "text/plain": [
       "true"
      ]
     },
     "execution_count": 4,
     "metadata": {},
     "output_type": "execute_result"
    }
   ],
   "source": [
    "5 / 0 === Infinity"
   ]
  },
  {
   "cell_type": "code",
   "execution_count": 9,
   "id": "863fe765-67b7-43ea-9379-30d066fccdf3",
   "metadata": {},
   "outputs": [
    {
     "data": {
      "text/plain": [
       "true"
      ]
     },
     "execution_count": 9,
     "metadata": {},
     "output_type": "execute_result"
    }
   ],
   "source": [
    "-5 / 0 === -Infinity"
   ]
  },
  {
   "cell_type": "code",
   "execution_count": 10,
   "id": "c737aec8-8745-4805-8069-95db7701ff5f",
   "metadata": {},
   "outputs": [
    {
     "data": {
      "text/plain": [
       "false"
      ]
     },
     "execution_count": 10,
     "metadata": {},
     "output_type": "execute_result"
    }
   ],
   "source": [
    "isFinite(-5 / 0)"
   ]
  },
  {
   "cell_type": "code",
   "execution_count": 14,
   "id": "00237e4f-3b50-408d-b2ef-4f0c15c395e8",
   "metadata": {},
   "outputs": [
    {
     "data": {
      "text/plain": [
       "true"
      ]
     },
     "execution_count": 14,
     "metadata": {},
     "output_type": "execute_result"
    }
   ],
   "source": [
    "isFinite(7)"
   ]
  },
  {
   "cell_type": "code",
   "execution_count": 5,
   "id": "2d678c2c-591c-4955-b37e-0f8efb40a056",
   "metadata": {},
   "outputs": [
    {
     "data": {
      "text/plain": [
       "NaN"
      ]
     },
     "execution_count": 5,
     "metadata": {},
     "output_type": "execute_result"
    }
   ],
   "source": [
    "Math.sqrt(-1)"
   ]
  },
  {
   "cell_type": "code",
   "execution_count": 7,
   "id": "e55d6684-36fe-4f54-90ba-179f7dcd6f68",
   "metadata": {},
   "outputs": [
    {
     "data": {
      "text/plain": [
       "false"
      ]
     },
     "execution_count": 7,
     "metadata": {},
     "output_type": "execute_result"
    }
   ],
   "source": [
    "Math.sqrt(-1) === NaN"
   ]
  },
  {
   "cell_type": "code",
   "execution_count": 12,
   "id": "ef790683-0004-41d0-8fd8-37f129232c16",
   "metadata": {},
   "outputs": [
    {
     "data": {
      "text/plain": [
       "true"
      ]
     },
     "execution_count": 12,
     "metadata": {},
     "output_type": "execute_result"
    }
   ],
   "source": [
    "isNaN(Math.sqrt(-1))"
   ]
  },
  {
   "cell_type": "code",
   "execution_count": 12,
   "id": "6a0b31cf-cd9c-4505-966b-4540efaffaff",
   "metadata": {},
   "outputs": [
    {
     "data": {
      "text/plain": [
       "true"
      ]
     },
     "execution_count": 12,
     "metadata": {},
     "output_type": "execute_result"
    }
   ],
   "source": [
    "isFinite(Math.sqrt(-1))"
   ]
  },
  {
   "cell_type": "markdown",
   "id": "0f4e9b59-8c54-4e9f-8b4b-a47a2ae9180b",
   "metadata": {},
   "source": [
    "## Object is empty\n",
    "\n",
    "https://github.com/sudheerj/javascript-interview-questions#how-do-you-test-for-an-empty-object"
   ]
  },
  {
   "cell_type": "code",
   "execution_count": 20,
   "id": "9d91505e-ae78-48c0-bbe7-437d124ca6b5",
   "metadata": {},
   "outputs": [
    {
     "name": "stdout",
     "output_type": "stream",
     "text": [
      "{}: true\n",
      "{a: 1}: false\n",
      "{b: null}: false\n",
      "{c: undefined}: false\n",
      "new MyBox(): false\n",
      "new MyBox('tv'): false\n"
     ]
    }
   ],
   "source": [
    "// Since date object length is 0, you need to check constructor as well\n",
    "var isEmpty = (obj) => Object.keys(obj).length === 0 && obj.constructor === Object;\n",
    "\n",
    "console.log('{}:', isEmpty({}));\n",
    "console.log('{a: 1}:', isEmpty({a: 1}));\n",
    "console.log('{b: null}:', isEmpty({b: null}));\n",
    "console.log('{c: undefined}:', isEmpty({c: undefined}));\n",
    "\n",
    "function MyBox(value) {\n",
    "  if (typeof(value) !== 'undefined') {\n",
    "    this.value = value;\n",
    "  }\n",
    "}\n",
    "\n",
    "function MyClassFilled() {this.a = 1}\n",
    "\n",
    "// TODO false: is it correct? \n",
    "// See https://github.com/sudheerj/javascript-interview-questions/issues/212\n",
    "console.log('new MyBox():', isEmpty(new MyBox()));\n",
    "\n",
    "console.log(\"new MyBox('tv'):\", isEmpty(new MyBox('tv')));"
   ]
  },
  {
   "cell_type": "code",
   "execution_count": null,
   "id": "b6dd20f0-f1ed-40f8-98a3-eace7dc78980",
   "metadata": {},
   "outputs": [],
   "source": []
  }
 ],
 "metadata": {
  "kernelspec": {
   "display_name": "JavaScript (Node.js)",
   "language": "javascript",
   "name": "javascript"
  },
  "language_info": {
   "file_extension": ".js",
   "mimetype": "application/javascript",
   "name": "javascript",
   "version": "14.16.1"
  }
 },
 "nbformat": 4,
 "nbformat_minor": 5
}
