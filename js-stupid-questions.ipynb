{
 "cells": [
  {
   "cell_type": "markdown",
   "id": "20c03361-b346-4228-927c-93b05911efb8",
   "metadata": {},
   "source": [
    "# Special number states"
   ]
  },
  {
   "cell_type": "code",
   "execution_count": 1,
   "id": "157a474b-5532-46fc-8a48-b64e958fbdcc",
   "metadata": {},
   "outputs": [
    {
     "data": {
      "text/plain": [
       "'number'"
      ]
     },
     "execution_count": 1,
     "metadata": {},
     "output_type": "execute_result"
    }
   ],
   "source": [
    "typeof(NaN)"
   ]
  },
  {
   "cell_type": "code",
   "execution_count": 2,
   "id": "b85af23f-45c1-4dfa-a7e4-0ddb9ecf854c",
   "metadata": {},
   "outputs": [
    {
     "data": {
      "text/plain": [
       "'number'"
      ]
     },
     "execution_count": 2,
     "metadata": {},
     "output_type": "execute_result"
    }
   ],
   "source": [
    "typeof(Infinity)"
   ]
  },
  {
   "cell_type": "code",
   "execution_count": 3,
   "id": "7bade57a-8c27-47ec-9eb7-6666396e89a8",
   "metadata": {},
   "outputs": [
    {
     "data": {
      "text/plain": [
       "Infinity"
      ]
     },
     "execution_count": 3,
     "metadata": {},
     "output_type": "execute_result"
    }
   ],
   "source": [
    "5 / 0"
   ]
  },
  {
   "cell_type": "code",
   "execution_count": 4,
   "id": "f20e4e39-63b4-4b3d-9f04-2c9afbb80fd2",
   "metadata": {},
   "outputs": [
    {
     "data": {
      "text/plain": [
       "true"
      ]
     },
     "execution_count": 4,
     "metadata": {},
     "output_type": "execute_result"
    }
   ],
   "source": [
    "5 / 0 === Infinity"
   ]
  },
  {
   "cell_type": "code",
   "execution_count": 9,
   "id": "863fe765-67b7-43ea-9379-30d066fccdf3",
   "metadata": {},
   "outputs": [
    {
     "data": {
      "text/plain": [
       "true"
      ]
     },
     "execution_count": 9,
     "metadata": {},
     "output_type": "execute_result"
    }
   ],
   "source": [
    "-5 / 0 === -Infinity"
   ]
  },
  {
   "cell_type": "code",
   "execution_count": 10,
   "id": "c737aec8-8745-4805-8069-95db7701ff5f",
   "metadata": {},
   "outputs": [
    {
     "data": {
      "text/plain": [
       "false"
      ]
     },
     "execution_count": 10,
     "metadata": {},
     "output_type": "execute_result"
    }
   ],
   "source": [
    "isFinite(-5 / 0)"
   ]
  },
  {
   "cell_type": "code",
   "execution_count": 14,
   "id": "00237e4f-3b50-408d-b2ef-4f0c15c395e8",
   "metadata": {},
   "outputs": [
    {
     "data": {
      "text/plain": [
       "true"
      ]
     },
     "execution_count": 14,
     "metadata": {},
     "output_type": "execute_result"
    }
   ],
   "source": [
    "isFinite(7)"
   ]
  },
  {
   "cell_type": "code",
   "execution_count": 5,
   "id": "2d678c2c-591c-4955-b37e-0f8efb40a056",
   "metadata": {},
   "outputs": [
    {
     "data": {
      "text/plain": [
       "NaN"
      ]
     },
     "execution_count": 5,
     "metadata": {},
     "output_type": "execute_result"
    }
   ],
   "source": [
    "Math.sqrt(-1)"
   ]
  },
  {
   "cell_type": "code",
   "execution_count": 7,
   "id": "e55d6684-36fe-4f54-90ba-179f7dcd6f68",
   "metadata": {},
   "outputs": [
    {
     "data": {
      "text/plain": [
       "false"
      ]
     },
     "execution_count": 7,
     "metadata": {},
     "output_type": "execute_result"
    }
   ],
   "source": [
    "Math.sqrt(-1) === NaN"
   ]
  },
  {
   "cell_type": "code",
   "execution_count": 12,
   "id": "ef790683-0004-41d0-8fd8-37f129232c16",
   "metadata": {},
   "outputs": [
    {
     "data": {
      "text/plain": [
       "true"
      ]
     },
     "execution_count": 12,
     "metadata": {},
     "output_type": "execute_result"
    }
   ],
   "source": [
    "isNaN(Math.sqrt(-1))"
   ]
  },
  {
   "cell_type": "code",
   "execution_count": 12,
   "id": "6a0b31cf-cd9c-4505-966b-4540efaffaff",
   "metadata": {},
   "outputs": [
    {
     "data": {
      "text/plain": [
       "true"
      ]
     },
     "execution_count": 12,
     "metadata": {},
     "output_type": "execute_result"
    }
   ],
   "source": [
    "isFinite(Math.sqrt(-1))"
   ]
  },
  {
   "cell_type": "code",
   "execution_count": null,
   "id": "20a851d2-acc5-459b-a5df-c43116ae2d35",
   "metadata": {},
   "outputs": [],
   "source": []
  }
 ],
 "metadata": {
  "kernelspec": {
   "display_name": "JavaScript (Node.js)",
   "language": "javascript",
   "name": "javascript"
  },
  "language_info": {
   "file_extension": ".js",
   "mimetype": "application/javascript",
   "name": "javascript",
   "version": "14.16.1"
  }
 },
 "nbformat": 4,
 "nbformat_minor": 5
}
