{
 "cells": [
  {
   "cell_type": "markdown",
   "id": "716f27a2-3c6a-4b46-bd98-7f7686d3cebd",
   "metadata": {},
   "source": [
    "## JS: class"
   ]
  },
  {
   "cell_type": "markdown",
   "id": "44d7aa3b-10fb-4d8d-b8f3-fa0af170c8e9",
   "metadata": {},
   "source": [
    "## Get class name in constructor\n",
    "\n",
    "https://github.com/sudheerj/javascript-interview-questions#34-what-is-the-output-of-below-code"
   ]
  },
  {
   "cell_type": "code",
   "execution_count": 3,
   "id": "5ce0cb4a-a4f1-466f-b7bc-a4c5afc5f200",
   "metadata": {},
   "outputs": [
    {
     "name": "stdout",
     "output_type": "stream",
     "text": [
      "A\n",
      "B\n",
      "B {}\n"
     ]
    }
   ],
   "source": [
    "class A {\n",
    "  constructor() {\n",
    "    console.log(new.target.name);\n",
    "  }\n",
    "}\n",
    "\n",
    "class B extends A {\n",
    "  constructor() {\n",
    "    super();\n",
    "  }\n",
    "}\n",
    "\n",
    "new A();\n",
    "new B();"
   ]
  }
 ],
 "metadata": {
  "kernelspec": {
   "display_name": "JavaScript",
   "language": "javascript",
   "name": "jslab"
  },
  "language_info": {
   "file_extension": ".js",
   "mimetype": "text/javascript",
   "name": "javascript",
   "version": ""
  }
 },
 "nbformat": 4,
 "nbformat_minor": 5
}
