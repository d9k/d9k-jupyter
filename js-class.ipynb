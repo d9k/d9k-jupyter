{
 "cells": [
  {
   "cell_type": "markdown",
   "id": "716f27a2-3c6a-4b46-bd98-7f7686d3cebd",
   "metadata": {},
   "source": [
    "## JS: class"
   ]
  },
  {
   "cell_type": "markdown",
   "id": "44d7aa3b-10fb-4d8d-b8f3-fa0af170c8e9",
   "metadata": {},
   "source": [
    "## Get class name in constructor\n",
    "\n",
    "https://github.com/sudheerj/javascript-interview-questions#34-what-is-the-output-of-below-code"
   ]
  },
  {
   "cell_type": "code",
   "execution_count": 3,
   "id": "5ce0cb4a-a4f1-466f-b7bc-a4c5afc5f200",
   "metadata": {},
   "outputs": [
    {
     "name": "stdout",
     "output_type": "stream",
     "text": [
      "A\n",
      "B\n",
      "B {}\n"
     ]
    }
   ],
   "source": [
    "class A {\n",
    "  constructor() {\n",
    "    console.log(new.target.name);\n",
    "  }\n",
    "}\n",
    "\n",
    "class B extends A {\n",
    "  constructor() {\n",
    "    super();\n",
    "  }\n",
    "}\n",
    "\n",
    "new A();\n",
    "new B();"
   ]
  },
  {
   "cell_type": "markdown",
   "id": "40321056-53e1-410b-b075-d229c563e4c4",
   "metadata": {},
   "source": [
    "## Mixins"
   ]
  },
  {
   "cell_type": "markdown",
   "id": "363051ce-e086-4c39-b21b-93df0fc000c5",
   "metadata": {},
   "source": [
    "Mixins are not supported in JS but you can write implement multiple inheritance with Proxy:\n",
    "\n",
    "- https://stackoverflow.com/a/31236132/1760643\n",
    "- https://github.com/sudheerj/javascript-interview-questions#does-javascript-uses-mixins"
   ]
  },
  {
   "cell_type": "code",
   "execution_count": 10,
   "id": "06d05dc4-3024-4e29-8630-741f1b10dbaa",
   "metadata": {},
   "outputs": [
    {
     "name": "stdout",
     "output_type": "stream",
     "text": [
      "\u001b[33mtrue\u001b[39m\n",
      "\u001b[33mtrue\u001b[39m\n",
      "\u001b[33mfalse\u001b[39m\n",
      "\u001b[33m1\u001b[39m\n",
      "\u001b[33m2\u001b[39m\n",
      "\u001b[33m3\u001b[39m\n",
      "\u001b[90mundefined\u001b[39m\n",
      "\u001b[33m1\u001b[39m\n",
      "\u001b[33m3\u001b[39m\n"
     ]
    }
   ],
   "source": [
    "function getDesc (obj, prop) {\n",
    "  var desc = Object.getOwnPropertyDescriptor(obj, prop);\n",
    "  return desc || (obj=Object.getPrototypeOf(obj) ? getDesc(obj, prop) : void 0);\n",
    "}\n",
    "function multiInherit (...protos) {\n",
    "  return Object.create(new Proxy(Object.create(null), {\n",
    "    has: (target, prop) => protos.some(obj => prop in obj),\n",
    "    get (target, prop, receiver) {\n",
    "      var obj = protos.find(obj => prop in obj);\n",
    "      return obj ? Reflect.get(obj, prop, receiver) : void 0;\n",
    "    },\n",
    "    set (target, prop, value, receiver) {\n",
    "      var obj = protos.find(obj => prop in obj);\n",
    "      return Reflect.set(obj || Object.create(null), prop, value, receiver);\n",
    "    },\n",
    "    // @ts-ignore\n",
    "    *enumerate (target) { yield* this.ownKeys(target); },\n",
    "    ownKeys(target) {\n",
    "      var hash = Object.create(null);\n",
    "      for(var obj of protos) for(var p in obj) if(!hash[p]) hash[p] = true;\n",
    "      return Object.getOwnPropertyNames(hash);\n",
    "    },\n",
    "    getOwnPropertyDescriptor(target, prop) {\n",
    "      var obj = protos.find(obj => prop in obj);\n",
    "      var desc = obj ? getDesc(obj, prop) : void 0;\n",
    "      if(desc) desc.configurable = true;\n",
    "      return desc;\n",
    "    },\n",
    "    preventExtensions: (target) => false,\n",
    "    defineProperty: (target, prop, desc) => false,\n",
    "  }));\n",
    "}\n",
    "\n",
    "// Creating objects\n",
    "var o1, o2, o3,\n",
    "    obj = multiInherit(o1={a:1}, o2={b:2}, o3={a:3, b:3});\n",
    "\n",
    "// Checking property existences\n",
    "console.log('a' in obj); // true   (inherited from o1)\n",
    "console.log('b' in obj); // true   (inherited from o2)\n",
    "console.log('c' in obj); // false  (not found)\n",
    "\n",
    "// Setting properties\n",
    "obj.c = 3;\n",
    "\n",
    "// Reading properties\n",
    "console.log(obj.a); // 1           (inherited from o1)\n",
    "console.log(obj.b); // 2           (inherited from o2)\n",
    "console.log(obj.c); // 3           (own property)\n",
    "console.log(obj.d); // undefined   (not found)\n",
    "\n",
    "// The inheritance is \"live\"\n",
    "console.log(obj.a); // 1           (inherited from o1)\n",
    "delete o1.a;\n",
    "console.log(obj.a); // 3           (inherited from o3)\n",
    "\n",
    "// Property enumeration\n",
    "for(var p in obj) p; // \"c\", \"b\", \"a\""
   ]
  },
  {
   "cell_type": "code",
   "execution_count": null,
   "id": "0ad633ac-ae84-46ed-a74c-48ec3a9dda93",
   "metadata": {},
   "outputs": [],
   "source": []
  }
 ],
 "metadata": {
  "kernelspec": {
   "display_name": "JavaScript",
   "language": "javascript",
   "name": "jslab"
  },
  "language_info": {
   "file_extension": ".js",
   "mimetype": "text/javascript",
   "name": "javascript",
   "version": ""
  }
 },
 "nbformat": 4,
 "nbformat_minor": 5
}
