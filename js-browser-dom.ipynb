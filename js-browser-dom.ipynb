{
 "cells": [
  {
   "cell_type": "markdown",
   "id": "0424797e-3351-4c8c-8f2e-01c3a6e1b288",
   "metadata": {},
   "source": [
    "# JS browser DOM\n"
   ]
  },
  {
   "cell_type": "markdown",
   "id": "69397669-a922-4b10-bb34-761bb51d39cc",
   "metadata": {},
   "source": [
    "## Prepare"
   ]
  },
  {
   "cell_type": "code",
   "execution_count": 4,
   "id": "213ebaf5-8f25-4597-91fc-246952b61206",
   "metadata": {},
   "outputs": [],
   "source": [
    "import * as tslab from \"tslab\";\n",
    "\n",
    "var display = tslab.display;\n",
    "var html = display.html.bind(display);"
   ]
  },
  {
   "cell_type": "markdown",
   "id": "2f6df1b6-c441-400a-8b35-4c64e02bcf24",
   "metadata": {},
   "source": [
    "## How do you detect caps lock key turned on or not\n",
    "\n",
    "https://github.com/sudheerj/javascript-interview-questions#how-do-you-detect-caps-lock-key-turned-on-or-not"
   ]
  },
  {
   "cell_type": "code",
   "execution_count": 5,
   "id": "fc0e1ee1-a854-4364-b3cb-4144eba1ac00",
   "metadata": {},
   "outputs": [
    {
     "data": {
      "text/html": [
       "\n",
       "    <p>Click to check caps lock state:</p>\n",
       "    <input id=\"example-capslock-input\"></input>\n",
       "    <p id=\"example-capslock-feedback\"></p>\n",
       "    <script>\n",
       "        document.getElementById('example-capslock-input').onmousedown = (e) => {\n",
       "            var flag = e.getModifierState(\"CapsLock\");\n",
       "            var feedback = document.getElementById(\"example-capslock-feedback\");\n",
       "            if (flag) {\n",
       "              feedback.innerHTML = \"CapsLock activated\";\n",
       "            } else {\n",
       "              feedback.innerHTML =\n",
       "                \"CapsLock not activated\";\n",
       "            }\n",
       "        };\n",
       "    </script>\n"
      ]
     },
     "metadata": {},
     "output_type": "display_data"
    }
   ],
   "source": [
    "html(`\n",
    "    <p>Click to check caps lock state:</p>\n",
    "    <input id=\"example-capslock-input\"></input>\n",
    "    <p id=\"example-capslock-feedback\"></p>\n",
    "    <script>\n",
    "        document.getElementById('example-capslock-input').onmousedown = (e) => {\n",
    "            var flag = e.getModifierState(\"CapsLock\");\n",
    "            var feedback = document.getElementById(\"example-capslock-feedback\");\n",
    "            if (flag) {\n",
    "              feedback.innerHTML = \"CapsLock activated\";\n",
    "            } else {\n",
    "              feedback.innerHTML =\n",
    "                \"CapsLock not activated\";\n",
    "            }\n",
    "        };\n",
    "    </script>\n",
    "`);"
   ]
  },
  {
   "cell_type": "markdown",
   "id": "b5f01b32-c4c1-4fc4-ab8d-c81eaca26751",
   "metadata": {},
   "source": [
    "## void(0) on html attributes\n",
    "\n",
    "https://stackoverflow.com/a/1291944/1760643"
   ]
  },
  {
   "cell_type": "code",
   "execution_count": 7,
   "id": "1d5335b2-9d4b-48d7-a68a-055b2f3abfd0",
   "metadata": {},
   "outputs": [
    {
     "data": {
      "text/html": [
       "\n",
       "    <a onclick=\"alert('Not so well done!')\">\n",
       "      Without fix\n",
       "    </a>\n",
       "    &nbsp;\n",
       "    <a href=\"javascript:void(0);\" onclick=\"alert('Not so well done!')\">\n",
       "      Tried to fix\n",
       "    </a>\n",
       "    &nbsp;\n",
       "    <a onclick=\"alert('Well done!'); return false;\">\n",
       "      Fixed\n",
       "    </a>\n"
      ]
     },
     "metadata": {},
     "output_type": "display_data"
    }
   ],
   "source": [
    "html(`\n",
    "    <a onclick=\"alert('Not so well done!')\">\n",
    "      Without fix\n",
    "    </a>\n",
    "    &nbsp;\n",
    "    <a href=\"javascript:void(0);\" onclick=\"alert('Not so well done!')\">\n",
    "      Tried to fix\n",
    "    </a>\n",
    "    &nbsp;\n",
    "    <a onclick=\"alert('Well done!'); return false;\">\n",
    "      Fixed\n",
    "    </a>\n",
    "`);"
   ]
  },
  {
   "cell_type": "markdown",
   "id": "68b5d494-49da-4620-9c2e-7e7d70cd3fdd",
   "metadata": {},
   "source": [
    "## Event delegation\n",
    "\n",
    "Event delegation is a technique for listening to events where you delegate a parent element as the listener for all of the events that happen inside it.\n",
    "\n",
    "https://github.com/sudheerj/javascript-interview-questions#what-is-an-event-delegation"
   ]
  },
  {
   "cell_type": "code",
   "execution_count": 6,
   "id": "265afd2a-eb87-4a9b-a50d-42c9379e3abb",
   "metadata": {},
   "outputs": [
    {
     "data": {
      "text/html": [
       "\n",
       "    <div id=\"example-events-delegation\">\n",
       "        <form>\n",
       "            <input name=\"name\" placeholder=\"name\" />\n",
       "            <input name=\"age\" type=\"number\" placeholder=\"age\" />\n",
       "        </form>\n",
       "        <p class=\"output\" />\n",
       "    </div>\n",
       "    <script>\n",
       "        var container = document.getElementById('example-events-delegation');\n",
       "        var form = container.getElementsByTagName('form')[0];\n",
       "        var elOutput = container.getElementsByClassName('output')[0];\n",
       "\n",
       "        form.addEventListener(\n",
       "          'input',\n",
       "          function (event) {\n",
       "            elOutput.innerHTML = 'Changing \"' + event.target.name + '\"';\n",
       "          },\n",
       "          false\n",
       "        );\n",
       "    </script>\n"
      ]
     },
     "metadata": {},
     "output_type": "display_data"
    }
   ],
   "source": [
    "html(`\n",
    "    <div id=\"example-events-delegation\">\n",
    "        <form>\n",
    "            <input name=\"name\" placeholder=\"name\" />\n",
    "            <input name=\"age\" type=\"number\" placeholder=\"age\" />\n",
    "        </form>\n",
    "        <p class=\"output\" />\n",
    "    </div>\n",
    "    <script>\n",
    "        var container = document.getElementById('example-events-delegation');\n",
    "        var form = container.getElementsByTagName('form')[0];\n",
    "        var elOutput = container.getElementsByClassName('output')[0];\n",
    "\n",
    "        form.addEventListener(\n",
    "          'input',\n",
    "          function (event) {\n",
    "            elOutput.innerHTML = 'Changing \"' + event.target.name + '\"';\n",
    "          },\n",
    "          false\n",
    "        );\n",
    "    </script>\n",
    "`);"
   ]
  },
  {
   "cell_type": "markdown",
   "id": "be4fef29-820b-47e6-b80a-d2b4ca0f1d20",
   "metadata": {},
   "source": [
    "## How to set waiting cursor."
   ]
  },
  {
   "cell_type": "code",
   "execution_count": 14,
   "id": "779b67c2-e8dd-4fd7-a727-6957257490da",
   "metadata": {},
   "outputs": [
    {
     "data": {
      "text/html": [
       "\n",
       "   <div id=\"example-cursor-waiting\">\n",
       "     <button role=\"button\">Toggle cursor</button>\n",
       "   </div>\n",
       "   <script>\n",
       "     var container = document.getElementById('example-cursor-waiting');\n",
       "     var button = container.getElementsByTagName('button')[0];\n",
       "     button.onclick = () => {\n",
       "       const currentCursorIsWait = button.style.cursor === 'wait';\n",
       "\n",
       "       button.style.cursor = currentCursorIsWait ? 'default' : 'wait';\n",
       "     }\n",
       "   </script> \n"
      ]
     },
     "metadata": {},
     "output_type": "display_data"
    }
   ],
   "source": [
    "html(`\n",
    "   <div id=\"example-cursor-waiting\">\n",
    "     <button role=\"button\">Toggle cursor</button>\n",
    "   </div>\n",
    "   <script>\n",
    "     var container = document.getElementById('example-cursor-waiting');\n",
    "     var button = container.getElementsByTagName('button')[0];\n",
    "     button.onclick = () => {\n",
    "       const currentCursorIsWait = button.style.cursor === 'wait';\n",
    "\n",
    "       button.style.cursor = currentCursorIsWait ? 'default' : 'wait';\n",
    "     }\n",
    "   </script> \n",
    "`);"
   ]
  },
  {
   "cell_type": "code",
   "execution_count": null,
   "id": "1b0af683-b8bf-469c-8c3e-4e64f1595a97",
   "metadata": {},
   "outputs": [],
   "source": []
  }
 ],
 "metadata": {
  "kernelspec": {
   "display_name": "JavaScript",
   "language": "javascript",
   "name": "jslab"
  },
  "language_info": {
   "file_extension": ".js",
   "mimetype": "text/javascript",
   "name": "javascript",
   "version": ""
  }
 },
 "nbformat": 4,
 "nbformat_minor": 5
}
