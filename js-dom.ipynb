{
 "cells": [
  {
   "cell_type": "markdown",
   "id": "0424797e-3351-4c8c-8f2e-01c3a6e1b288",
   "metadata": {},
   "source": [
    "# How do you detect caps lock key turned on or not\n",
    "\n",
    "https://github.com/sudheerj/javascript-interview-questions#how-do-you-detect-caps-lock-key-turned-on-or-not"
   ]
  },
  {
   "cell_type": "code",
   "execution_count": 6,
   "id": "fc0e1ee1-a854-4364-b3cb-4144eba1ac00",
   "metadata": {},
   "outputs": [
    {
     "data": {
      "text/html": [
       "\n",
       "    <p>Click to check capslock state:</p>\n",
       "    <input id=\"example-capslock-input\"></input>\n",
       "    <p id=\"example-capslock-feedback\"></p>\n",
       "    <script>\n",
       "        document.getElementById('example-capslock-input').onmousedown = (e) => {\n",
       "            var flag = e.getModifierState(\"CapsLock\");\n",
       "            var feedback = document.getElementById(\"example-capslock-feedback\");\n",
       "            if (flag) {\n",
       "              feedback.innerHTML = \"CapsLock activated\";\n",
       "            } else {\n",
       "              feedback.innerHTML =\n",
       "                \"CapsLock not activated\";\n",
       "            }\n",
       "        };\n",
       "    </script>\n"
      ]
     },
     "metadata": {},
     "output_type": "display_data"
    }
   ],
   "source": [
    "import * as tslab from \"tslab\";\n",
    "\n",
    "tslab.display.html(`\n",
    "    <p>Click to check capslock state:</p>\n",
    "    <input id=\"example-capslock-input\"></input>\n",
    "    <p id=\"example-capslock-feedback\"></p>\n",
    "    <script>\n",
    "        document.getElementById('example-capslock-input').onmousedown = (e) => {\n",
    "            var flag = e.getModifierState(\"CapsLock\");\n",
    "            var feedback = document.getElementById(\"example-capslock-feedback\");\n",
    "            if (flag) {\n",
    "              feedback.innerHTML = \"CapsLock activated\";\n",
    "            } else {\n",
    "              feedback.innerHTML =\n",
    "                \"CapsLock not activated\";\n",
    "            }\n",
    "        };\n",
    "    </script>\n",
    "`);"
   ]
  }
 ],
 "metadata": {
  "kernelspec": {
   "display_name": "JavaScript",
   "language": "javascript",
   "name": "jslab"
  },
  "language_info": {
   "file_extension": ".js",
   "mimetype": "text/javascript",
   "name": "javascript",
   "version": ""
  }
 },
 "nbformat": 4,
 "nbformat_minor": 5
}
