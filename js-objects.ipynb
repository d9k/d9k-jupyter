{
 "cells": [
  {
   "cell_type": "markdown",
   "id": "2f8a8e93-d679-4e93-9e45-e43c3a6cd4af",
   "metadata": {},
   "source": [
    "# JS: objects"
   ]
  },
  {
   "cell_type": "markdown",
   "id": "39a32551-1719-4be3-a4f3-6bca798bd30a",
   "metadata": {},
   "source": [
    "## Seal, prevent extensions, freeze difference"
   ]
  },
  {
   "cell_type": "code",
   "execution_count": 16,
   "id": "8d245703-5260-451b-b410-33fd40ba6c4e",
   "metadata": {},
   "outputs": [],
   "source": [
    "var obj;\n",
    "var nums;\n",
    "\n",
    "function objInit() {\n",
    "  obj = {\n",
    "    prop: 100,\n",
    "    secondLevel: {\n",
    "      value: 'editable',\n",
    "    },\n",
    "    propToDelete: 'not deleted value',\n",
    "  };\n",
    "}\n",
    "\n",
    "function numsInit() {\n",
    "   nums = [1, 2, 3];\n",
    "}\n",
    "\n",
    "function logStart(fnName) {\n",
    "  console.log(fnName + '() start');\n",
    "}\n",
    "\n",
    "function objChange() {\n",
    "  logStart(objChange.name);\n",
    "  obj.prop = 200;\n",
    "\n",
    "  console.log('prop after try change:', obj.prop);\n",
    "}\n",
    "\n",
    "function objIsExtensible() {\n",
    "  console.log('object is extensible:', Object.isExtensible(obj));\n",
    "}\n",
    "\n",
    "function objChangeStrict() {\n",
    "  \"use strict\"\n",
    "\n",
    "  logStart(objChangeStrict.name);\n",
    "  obj.prop = 200;\n",
    "  console.log('prop after try change with strict mode:', obj.prop);\n",
    "}\n",
    "\n",
    "function objDelete() {\n",
    "  logStart(objDelete.name);\n",
    "  delete obj.propToDelete;\n",
    "  console.log('prop after try delete:', obj.propToDelete);\n",
    "}\n",
    "\n",
    "function objDeleteStrict() {\n",
    "  \"use strict\"\n",
    "\n",
    "  logStart(objDeleteStrict.name);\n",
    "  delete obj.propToDelete;\n",
    "  console.log('prop after try delete:', obj.propToDelete);\n",
    "}\n",
    "\n",
    "function objAdd() {\n",
    "  logStart(objAdd.name);\n",
    "  obj.addedProp = 'new value';\n",
    "  console.log('obj.addedProp:', obj.addedProp)\n",
    "\n",
    "  Object.defineProperty(obj, \"newDefinedProperty\", {\n",
    "    value: 'new property value',\n",
    "  });\n",
    "  console.log('obj.newDefinedProperty:', obj.newDefinedProperty)\n",
    "}\n",
    "\n",
    "function objAddStrict() {\n",
    "  \"use strict\"\n",
    "\n",
    "  logStart(objAddStrict.name);\n",
    "  obj.addedProp = 'new value';\n",
    "  console.log('obj.addedProp:', obj.addedProp)\n",
    "}"
   ]
  },
  {
   "cell_type": "markdown",
   "id": "15b848b7-f9de-4ebb-b32a-909c9a9edc5b",
   "metadata": {},
   "source": [
    "### Freeze"
   ]
  },
  {
   "cell_type": "code",
   "execution_count": 19,
   "id": "9c1aa551-221c-4043-91be-350acb2e0198",
   "metadata": {},
   "outputs": [
    {
     "name": "stdout",
     "output_type": "stream",
     "text": [
      "object is extensible: true\n",
      "Freezing object\n",
      "Object is frozen: true\n",
      "{\n",
      "  prop: 100,\n",
      "  secondLevel: { value: 'changed' },\n",
      "  propToDelete: 'not deleted value'\n",
      "}\n",
      "object is extensible: false\n",
      "objChange() start\n",
      "prop after try change: 100\n",
      "objDelete() start\n",
      "prop after try delete: not deleted value\n",
      "objAdd() start\n",
      "obj.addedProp: undefined\n"
     ]
    },
    {
     "ename": "TypeError",
     "evalue": "Cannot define property newDefinedProperty, object is not extensible",
     "execution_count": 19,
     "output_type": "error",
     "traceback": [
      "evalmachine.<anonymous>:60",
      "  Object.defineProperty(obj, \"newDefinedProperty\", {",
      "         ^",
      "",
      "TypeError: Cannot define property newDefinedProperty, object is not extensible",
      "    at Function.defineProperty (<anonymous>)",
      "    at objAdd (evalmachine.<anonymous>:60:10)",
      "    at evalmachine.<anonymous>:20:1",
      "    at Script.runInThisContext (vm.js:133:18)",
      "    at Object.runInThisContext (vm.js:310:38)",
      "    at run ([eval]:1020:15)",
      "    at onRunRequest ([eval]:864:18)",
      "    at onMessage ([eval]:828:13)",
      "    at process.emit (events.js:315:20)",
      "    at emit (internal/child_process.js:903:12)"
     ]
    }
   ],
   "source": [
    "objInit();\n",
    "\n",
    "objIsExtensible();\n",
    "\n",
    "console.log('Freezing object');\n",
    "Object.freeze(obj);\n",
    "\n",
    "console.log('Object is frozen:', Object.isFrozen(obj));\n",
    "\n",
    "// Freezing is one level deep only.\n",
    "obj.secondLevel.value = 'changed';\n",
    "\n",
    "console.log(obj);\n",
    "\n",
    "objIsExtensible();\n",
    "\n",
    "// Fail silently on legacy mode:\n",
    "objChange();\n",
    "objDelete();\n",
    "objAdd();"
   ]
  },
  {
   "cell_type": "code",
   "execution_count": 18,
   "id": "04db9b71-e1da-4a75-9912-e2c1b1b67ad5",
   "metadata": {},
   "outputs": [
    {
     "name": "stdout",
     "output_type": "stream",
     "text": [
      "objChangeStrict() start\n"
     ]
    },
    {
     "ename": "TypeError",
     "evalue": "Cannot assign to read only property 'prop' of object '#<Object>'",
     "execution_count": 18,
     "output_type": "error",
     "traceback": [
      "evalmachine.<anonymous>:37",
      "  obj.prop = 200;",
      "           ^",
      "",
      "TypeError: Cannot assign to read only property 'prop' of object '#<Object>'",
      "    at objChangeStrict (evalmachine.<anonymous>:37:12)",
      "    at evalmachine.<anonymous>:2:1",
      "    at Script.runInThisContext (vm.js:133:18)",
      "    at Object.runInThisContext (vm.js:310:38)",
      "    at run ([eval]:1020:15)",
      "    at onRunRequest ([eval]:864:18)",
      "    at onMessage ([eval]:828:13)",
      "    at process.emit (events.js:315:20)",
      "    at emit (internal/child_process.js:903:12)",
      "    at processTicksAndRejections (internal/process/task_queues.js:81:21)"
     ]
    }
   ],
   "source": [
    "// Will fire `Cannot assign to read only property 'prop' of object '#<Object>'` in strict mode\n",
    "objChangeStrict();"
   ]
  },
  {
   "cell_type": "code",
   "execution_count": 74,
   "id": "151f8611-3977-448d-b696-bb46721c12bf",
   "metadata": {},
   "outputs": [
    {
     "name": "stdout",
     "output_type": "stream",
     "text": [
      "objAddStrict() start\n"
     ]
    },
    {
     "ename": "TypeError",
     "evalue": "Cannot add property addedProp, object is not extensible",
     "execution_count": 74,
     "output_type": "error",
     "traceback": [
      "evalmachine.<anonymous>:61",
      "  obj.addedProp = 'new value';",
      "                ^",
      "",
      "TypeError: Cannot add property addedProp, object is not extensible",
      "    at objAddStrict (evalmachine.<anonymous>:61:17)",
      "    at evalmachine.<anonymous>:1:1",
      "    at Script.runInThisContext (vm.js:133:18)",
      "    at Object.runInThisContext (vm.js:310:38)",
      "    at run ([eval]:1020:15)",
      "    at onRunRequest ([eval]:864:18)",
      "    at onMessage ([eval]:828:13)",
      "    at process.emit (events.js:315:20)",
      "    at emit (internal/child_process.js:903:12)",
      "    at processTicksAndRejections (internal/process/task_queues.js:81:21)"
     ]
    }
   ],
   "source": [
    "objAddStrict();"
   ]
  },
  {
   "cell_type": "code",
   "execution_count": 66,
   "id": "e474919e-ddef-4e33-9214-48de13c6d0c1",
   "metadata": {},
   "outputs": [
    {
     "name": "stdout",
     "output_type": "stream",
     "text": [
      "objDeleteStrict() start\n"
     ]
    },
    {
     "ename": "TypeError",
     "evalue": "Cannot delete property 'propToDelete' of #<Object>",
     "execution_count": 66,
     "output_type": "error",
     "traceback": [
      "evalmachine.<anonymous>:47",
      "  delete obj.propToDelete;",
      "  ^",
      "",
      "TypeError: Cannot delete property 'propToDelete' of #<Object>",
      "    at objDeleteStrict (evalmachine.<anonymous>:47:3)",
      "    at evalmachine.<anonymous>:1:1",
      "    at Script.runInThisContext (vm.js:133:18)",
      "    at Object.runInThisContext (vm.js:310:38)",
      "    at run ([eval]:1020:15)",
      "    at onRunRequest ([eval]:864:18)",
      "    at onMessage ([eval]:828:13)",
      "    at process.emit (events.js:315:20)",
      "    at emit (internal/child_process.js:903:12)",
      "    at processTicksAndRejections (internal/process/task_queues.js:81:21)"
     ]
    }
   ],
   "source": [
    "objDeleteStrict();"
   ]
  },
  {
   "cell_type": "code",
   "execution_count": 69,
   "id": "02c64aa1-0d84-46cd-aee0-e13c8499758b",
   "metadata": {},
   "outputs": [
    {
     "ename": "TypeError",
     "evalue": "Cannot add property 3, object is not extensible",
     "execution_count": 69,
     "output_type": "error",
     "traceback": [
      "evalmachine.<anonymous>:3",
      "nums.push(4);",
      "     ^",
      "",
      "TypeError: Cannot add property 3, object is not extensible",
      "    at Array.push (<anonymous>)",
      "    at evalmachine.<anonymous>:3:6",
      "    at Script.runInThisContext (vm.js:133:18)",
      "    at Object.runInThisContext (vm.js:310:38)",
      "    at run ([eval]:1020:15)",
      "    at onRunRequest ([eval]:864:18)",
      "    at onMessage ([eval]:828:13)",
      "    at process.emit (events.js:315:20)",
      "    at emit (internal/child_process.js:903:12)",
      "    at processTicksAndRejections (internal/process/task_queues.js:81:21)"
     ]
    }
   ],
   "source": [
    "numsInit();\n",
    "Object.freeze(nums);\n",
    "nums.push(4);"
   ]
  },
  {
   "cell_type": "markdown",
   "id": "c20f5dda-988d-492a-b945-729a65cbdfea",
   "metadata": {},
   "source": [
    "### Seal"
   ]
  },
  {
   "cell_type": "code",
   "execution_count": 22,
   "id": "d583b747-6b35-4dae-a183-2b245688cd6a",
   "metadata": {},
   "outputs": [
    {
     "name": "stdout",
     "output_type": "stream",
     "text": [
      "Object is sealed: true\n",
      "{\n",
      "  prop: 100,\n",
      "  secondLevel: { value: 'changed' },\n",
      "  propToDelete: 'not deleted value'\n",
      "}\n",
      "object is extensible: false\n",
      "objAdd() start\n",
      "obj.addedProp: undefined\n"
     ]
    },
    {
     "ename": "TypeError",
     "evalue": "Cannot define property newDefinedProperty, object is not extensible",
     "execution_count": 22,
     "output_type": "error",
     "traceback": [
      "evalmachine.<anonymous>:60",
      "  Object.defineProperty(obj, \"newDefinedProperty\", {",
      "         ^",
      "",
      "TypeError: Cannot define property newDefinedProperty, object is not extensible",
      "    at Function.defineProperty (<anonymous>)",
      "    at objAdd (evalmachine.<anonymous>:60:10)",
      "    at evalmachine.<anonymous>:14:1",
      "    at Script.runInThisContext (vm.js:133:18)",
      "    at Object.runInThisContext (vm.js:310:38)",
      "    at run ([eval]:1020:15)",
      "    at onRunRequest ([eval]:864:18)",
      "    at onMessage ([eval]:828:13)",
      "    at process.emit (events.js:315:20)",
      "    at emit (internal/child_process.js:903:12)"
     ]
    }
   ],
   "source": [
    "objInit();\n",
    "\n",
    "Object.seal(obj);\n",
    "\n",
    "console.log('Object is sealed:', Object.isSealed(obj));\n",
    "\n",
    "obj.secondLevel.value = 'changed';\n",
    "\n",
    "console.log(obj);\n",
    "\n",
    "objIsExtensible();\n",
    "\n",
    "// Fail silently on legacy mode:\n",
    "objAdd();"
   ]
  },
  {
   "cell_type": "code",
   "execution_count": 21,
   "id": "136f6f73-58c7-4fbe-9d2e-ac7baa23acd0",
   "metadata": {},
   "outputs": [
    {
     "name": "stdout",
     "output_type": "stream",
     "text": [
      "objDelete() start\n",
      "prop after try delete: not deleted value\n",
      "objChangeStrict() start\n",
      "prop after try change with strict mode: 200\n",
      "objAddStrict() start\n"
     ]
    },
    {
     "ename": "TypeError",
     "evalue": "Cannot add property addedProp, object is not extensible",
     "execution_count": 21,
     "output_type": "error",
     "traceback": [
      "evalmachine.<anonymous>:70",
      "  obj.addedProp = 'new value';",
      "                ^",
      "",
      "TypeError: Cannot add property addedProp, object is not extensible",
      "    at objAddStrict (evalmachine.<anonymous>:70:17)",
      "    at evalmachine.<anonymous>:6:1",
      "    at Script.runInThisContext (vm.js:133:18)",
      "    at Object.runInThisContext (vm.js:310:38)",
      "    at run ([eval]:1020:15)",
      "    at onRunRequest ([eval]:864:18)",
      "    at onMessage ([eval]:828:13)",
      "    at process.emit (events.js:315:20)",
      "    at emit (internal/child_process.js:903:12)",
      "    at processTicksAndRejections (internal/process/task_queues.js:81:21)"
     ]
    }
   ],
   "source": [
    "objDelete();\n",
    "\n",
    "// Will fire `Cannot assign to read only property 'prop' of object '#<Object>'` in strict mode\n",
    "objChangeStrict();\n",
    "\n",
    "objAddStrict();"
   ]
  },
  {
   "cell_type": "code",
   "execution_count": 77,
   "id": "633cbb89-7ad6-4fc3-be9d-36cd30b2da24",
   "metadata": {},
   "outputs": [
    {
     "name": "stdout",
     "output_type": "stream",
     "text": [
      "objDeleteStrict() start\n"
     ]
    },
    {
     "ename": "TypeError",
     "evalue": "Cannot delete property 'propToDelete' of #<Object>",
     "execution_count": 77,
     "output_type": "error",
     "traceback": [
      "evalmachine.<anonymous>:47",
      "  delete obj.propToDelete;",
      "  ^",
      "",
      "TypeError: Cannot delete property 'propToDelete' of #<Object>",
      "    at objDeleteStrict (evalmachine.<anonymous>:47:3)",
      "    at evalmachine.<anonymous>:1:1",
      "    at Script.runInThisContext (vm.js:133:18)",
      "    at Object.runInThisContext (vm.js:310:38)",
      "    at run ([eval]:1020:15)",
      "    at onRunRequest ([eval]:864:18)",
      "    at onMessage ([eval]:828:13)",
      "    at process.emit (events.js:315:20)",
      "    at emit (internal/child_process.js:903:12)",
      "    at processTicksAndRejections (internal/process/task_queues.js:81:21)"
     ]
    }
   ],
   "source": [
    "objDeleteStrict();"
   ]
  },
  {
   "cell_type": "markdown",
   "id": "81df64a0-fa89-4513-8476-23dce74ed6e1",
   "metadata": {},
   "source": [
    "### PreventExtensions"
   ]
  },
  {
   "cell_type": "code",
   "execution_count": 23,
   "id": "bbe3f13f-8001-4922-93b3-c34c39114f3b",
   "metadata": {},
   "outputs": [
    {
     "name": "stdout",
     "output_type": "stream",
     "text": [
      "object is extensible: false\n",
      "objChangeStrict() start\n",
      "prop after try change with strict mode: 200\n",
      "objDeleteStrict() start\n",
      "prop after try delete: undefined\n",
      "objAddStrict() start\n"
     ]
    },
    {
     "ename": "TypeError",
     "evalue": "Cannot add property addedProp, object is not extensible",
     "execution_count": 23,
     "output_type": "error",
     "traceback": [
      "evalmachine.<anonymous>:70",
      "  obj.addedProp = 'new value';",
      "                ^",
      "",
      "TypeError: Cannot add property addedProp, object is not extensible",
      "    at objAddStrict (evalmachine.<anonymous>:70:17)",
      "    at evalmachine.<anonymous>:11:1",
      "    at Script.runInThisContext (vm.js:133:18)",
      "    at Object.runInThisContext (vm.js:310:38)",
      "    at run ([eval]:1020:15)",
      "    at onRunRequest ([eval]:864:18)",
      "    at onMessage ([eval]:828:13)",
      "    at process.emit (events.js:315:20)",
      "    at emit (internal/child_process.js:903:12)",
      "    at processTicksAndRejections (internal/process/task_queues.js:81:21)"
     ]
    }
   ],
   "source": [
    "objInit();\n",
    "\n",
    "Object.preventExtensions(obj);\n",
    "\n",
    "objIsExtensible();\n",
    "\n",
    "objChangeStrict();\n",
    "\n",
    "objDeleteStrict();\n",
    "\n",
    "objAddStrict();"
   ]
  },
  {
   "cell_type": "markdown",
   "id": "873ab821-e911-4a55-b192-f18124916118",
   "metadata": {},
   "source": [
    "## Proxy object"
   ]
  },
  {
   "cell_type": "code",
   "execution_count": 10,
   "id": "879d16ca-093a-42bd-9b72-425bbd013f2b",
   "metadata": {},
   "outputs": [
    {
     "name": "stdout",
     "output_type": "stream",
     "text": [
      "a: 10 \tb: null\n",
      "c in p: false \tc: default value\n"
     ]
    }
   ],
   "source": [
    "var handler = {\n",
    "  get: function (obj, prop) {\n",
    "    return prop in obj ? obj[prop] : 'default value';\n",
    "  },\n",
    "};\n",
    "\n",
    "var p = new Proxy({}, handler);\n",
    "p.a = 10;\n",
    "p.b = null;\n",
    "\n",
    "console.log('a:', p.a, \"\\tb:\", p.b); // 10, null\n",
    "console.log('c in p:', \"c\" in p, \"\\tc:\", p.c); // false, default value"
   ]
  },
  {
   "cell_type": "markdown",
   "id": "abc3f709-2b03-47f3-89b9-fb17bd7cca1c",
   "metadata": {},
   "source": [
    "## What happens if you write constructor more than once in a class"
   ]
  },
  {
   "cell_type": "code",
   "execution_count": 6,
   "id": "8a632542-c715-45b2-8dff-5ad5b68db277",
   "metadata": {},
   "outputs": [
    {
     "ename": "SyntaxError",
     "evalue": "A class may only have one constructor",
     "execution_count": 6,
     "output_type": "error",
     "traceback": [
      "evalmachine.<anonymous>:5",
      "    constructor() {",
      "    ^^^^^^^^^^^",
      "",
      "SyntaxError: A class may only have one constructor",
      "    at new Script (vm.js:101:7)",
      "    at createScript (vm.js:262:10)",
      "    at Object.runInThisContext (vm.js:310:10)",
      "    at run ([eval]:1020:15)",
      "    at onRunRequest ([eval]:864:18)",
      "    at onMessage ([eval]:828:13)",
      "    at process.emit (events.js:315:20)",
      "    at emit (internal/child_process.js:903:12)",
      "    at processTicksAndRejections (internal/process/task_queues.js:81:21)"
     ]
    }
   ],
   "source": [
    "class Employee {\n",
    "    constructor() {\n",
    "        this.name = \"John\";\n",
    "    }\n",
    "    constructor() {\n",
    "        //  Uncaught SyntaxError: A class may only have one constructor\n",
    "        this.age = 30;\n",
    "    }\n",
    "}"
   ]
  }
 ],
 "metadata": {
  "kernelspec": {
   "display_name": "JavaScript (Node.js)",
   "language": "javascript",
   "name": "javascript"
  },
  "language_info": {
   "file_extension": ".js",
   "mimetype": "application/javascript",
   "name": "javascript",
   "version": "14.16.1"
  }
 },
 "nbformat": 4,
 "nbformat_minor": 5
}
