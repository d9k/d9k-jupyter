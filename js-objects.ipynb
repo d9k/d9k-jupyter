{
 "cells": [
  {
   "cell_type": "markdown",
   "id": "2f8a8e93-d679-4e93-9e45-e43c3a6cd4af",
   "metadata": {},
   "source": [
    "# JS: objects"
   ]
  },
  {
   "cell_type": "markdown",
   "id": "15b848b7-f9de-4ebb-b32a-909c9a9edc5b",
   "metadata": {},
   "source": [
    "## What is a freeze method"
   ]
  },
  {
   "cell_type": "code",
   "execution_count": 2,
   "id": "9c1aa551-221c-4043-91be-350acb2e0198",
   "metadata": {},
   "outputs": [
    {
     "name": "stdout",
     "output_type": "stream",
     "text": [
      "Object is frozen: true\n"
     ]
    },
    {
     "ename": "TypeError",
     "evalue": "Cannot assign to read only property 'prop' of object '#<Object>'",
     "execution_count": 2,
     "output_type": "error",
     "traceback": [
      "evalmachine.<anonymous>:13",
      "    obj.prop = 200;",
      "             ^",
      "",
      "TypeError: Cannot assign to read only property 'prop' of object '#<Object>'",
      "    at testFreeze (evalmachine.<anonymous>:13:14)",
      "    at evalmachine.<anonymous>:17:1",
      "    at Script.runInThisContext (vm.js:133:18)",
      "    at Object.runInThisContext (vm.js:310:38)",
      "    at run ([eval]:1020:15)",
      "    at onRunRequest ([eval]:864:18)",
      "    at onMessage ([eval]:828:13)",
      "    at process.emit (events.js:315:20)",
      "    at emit (internal/child_process.js:903:12)",
      "    at processTicksAndRejections (internal/process/task_queues.js:81:21)"
     ]
    }
   ],
   "source": [
    "function testFreeze() {\n",
    "    \"use strict\"\n",
    "    const obj = {\n",
    "      prop: 100,\n",
    "    };\n",
    "    \n",
    "    Object.freeze(obj);\n",
    "\n",
    "    console.log('Object is frozen:', Object.isFrozen(obj));\n",
    "\n",
    "    // Will fire `Cannot assign to read only property 'prop' of object '#<Object>'` in strict mode\n",
    "    // and ignore in legacy mode\n",
    "    obj.prop = 200;\n",
    "    console.log(obj.prop);\n",
    "}\n",
    "\n",
    "testFreeze();"
   ]
  }
 ],
 "metadata": {
  "kernelspec": {
   "display_name": "JavaScript (Node.js)",
   "language": "javascript",
   "name": "javascript"
  },
  "language_info": {
   "file_extension": ".js",
   "mimetype": "application/javascript",
   "name": "javascript",
   "version": "14.16.1"
  }
 },
 "nbformat": 4,
 "nbformat_minor": 5
}
