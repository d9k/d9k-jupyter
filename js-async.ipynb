{
 "cells": [
  {
   "cell_type": "markdown",
   "id": "ae686093-e1c5-4fbd-a643-ffc5640e042e",
   "metadata": {},
   "source": [
    "# JS: Async"
   ]
  },
  {
   "cell_type": "markdown",
   "id": "fa8c52e4-f48e-4398-8ac1-38ebe1b939d3",
   "metadata": {},
   "source": [
    "## Check whether is promise\n",
    "\n",
    "- https://github.com/sudheerj/javascript-interview-questions#how-do-you-check-an-object-is-a-promise-or-not"
   ]
  },
  {
   "cell_type": "code",
   "execution_count": 14,
   "id": "029133c8-43d1-4d59-ba63-383e672ee550",
   "metadata": {},
   "outputs": [
    {
     "name": "stdout",
     "output_type": "stream",
     "text": [
      "\u001b[33mfalse\u001b[39m\n",
      "\u001b[33mtrue\u001b[39m\n",
      "\u001b[33mfalse\u001b[39m\n"
     ]
    }
   ],
   "source": [
    "function isPromise(value) {\n",
    "  return Boolean(value && typeof value.then === \"function\");\n",
    "}\n",
    "\n",
    "console.log(isPromise(123));\n",
    "console.log(isPromise(new Promise(function (resolve, reject) {\n",
    "  resolve();\n",
    "})));\n",
    "console.log(isPromise(new Date()));"
   ]
  },
  {
   "cell_type": "markdown",
   "id": "65bacaa8-90d4-4846-b541-744bf2ddfd97",
   "metadata": {},
   "source": [
    "## How do you prevent promises swallowing errors\n",
    "\n",
    "- https://github.com/sudheerj/javascript-interview-questions#how-do-you-prevent-promises-swallowing-errors"
   ]
  },
  {
   "cell_type": "code",
   "execution_count": 4,
   "id": "b30c344c-e241-4344-a9af-71f88acecf71",
   "metadata": {},
   "outputs": [
    {
     "name": "stdout",
     "output_type": "stream",
     "text": [
      "Promise { \u001b[36m<pending>\u001b[39m }\n"
     ]
    },
    {
     "name": "stderr",
     "output_type": "stream",
     "text": [
      "UnhandledPromiseRejection: Error: error 1\n",
      "    at evalmachine.<anonymous>:4:11\n"
     ]
    }
   ],
   "source": [
    "Promise.resolve(\"promised value\").then(function () {\n",
    "  throw new Error(\"error 1\");\n",
    "});"
   ]
  },
  {
   "cell_type": "code",
   "execution_count": 6,
   "id": "6f97dfe6-ec6a-4686-af6e-7cf5328b815c",
   "metadata": {},
   "outputs": [
    {
     "name": "stdout",
     "output_type": "stream",
     "text": [
      "Promise { \u001b[36m<pending>\u001b[39m }\n"
     ]
    },
    {
     "name": "stderr",
     "output_type": "stream",
     "text": [
      "UnhandledPromiseRejection: Error: error 2\n",
      "    at evalmachine.<anonymous>:4:11\n"
     ]
    }
   ],
   "source": [
    "Promise.reject(\"error value\").catch(function () {\n",
    "  throw new Error(\"error 2\");\n",
    "});"
   ]
  },
  {
   "cell_type": "code",
   "execution_count": 7,
   "id": "167c3628-fef2-4e71-8feb-80c30f1098d6",
   "metadata": {},
   "outputs": [
    {
     "name": "stdout",
     "output_type": "stream",
     "text": [
      "Promise {\n",
      "  \u001b[36m<rejected>\u001b[39m Error: error 3\n",
      "      at evalmachine.<anonymous>:4:11\n",
      "      at new Promise (<anonymous>)\n",
      "      at evalmachine.<anonymous>:3:22\n",
      "      at evalmachine.<anonymous>:7:3\n",
      "  \u001b[90m    at sigintHandlersWrap (vm.js:273:12)\u001b[39m\n",
      "  \u001b[90m    at Script.runInThisContext (vm.js:131:14)\u001b[39m\n",
      "  \u001b[90m    at Object.runInThisContext (vm.js:310:38)\u001b[39m\n",
      "      at Object.execute (/home/d9k/.nvm/versions/node/v14.16.1/lib/node_modules/\u001b[4mtslab\u001b[24m/dist/executor.js:160:38)\n",
      "      at JupyterHandlerImpl.handleExecuteImpl (/home/d9k/.nvm/versions/node/v14.16.1/lib/node_modules/\u001b[4mtslab\u001b[24m/dist/jupyter.js:223:38)\n",
      "      at /home/d9k/.nvm/versions/node/v14.16.1/lib/node_modules/\u001b[4mtslab\u001b[24m/dist/jupyter.js:181:57\n",
      "}\n"
     ]
    },
    {
     "name": "stderr",
     "output_type": "stream",
     "text": [
      "UnhandledPromiseRejection: Error: error 3\n",
      "    at evalmachine.<anonymous>:4:11\n",
      "    at new Promise (<anonymous>)\n",
      "    at evalmachine.<anonymous>:3:22\n",
      "    at evalmachine.<anonymous>:7:3\n",
      "\u001b[90m    at sigintHandlersWrap (vm.js:273:12)\u001b[39m\n",
      "\u001b[90m    at Script.runInThisContext (vm.js:131:14)\u001b[39m\n",
      "\u001b[90m    at Object.runInThisContext (vm.js:310:38)\u001b[39m\n",
      "    at Object.execute (/home/d9k/.nvm/versions/node/v14.16.1/lib/node_modules/\u001b[4mtslab\u001b[24m/dist/executor.js:160:38)\n",
      "    at JupyterHandlerImpl.handleExecuteImpl (/home/d9k/.nvm/versions/node/v14.16.1/lib/node_modules/\u001b[4mtslab\u001b[24m/dist/jupyter.js:223:38)\n",
      "    at /home/d9k/.nvm/versions/node/v14.16.1/lib/node_modules/\u001b[4mtslab\u001b[24m/dist/jupyter.js:181:57\n"
     ]
    }
   ],
   "source": [
    "new Promise(function (resolve, reject) {\n",
    "  throw new Error(\"error 3\");\n",
    "});"
   ]
  },
  {
   "cell_type": "markdown",
   "id": "ba6ebddc-3937-4fea-b474-2f6988e2ae63",
   "metadata": {},
   "source": [
    "TODO all works as is"
   ]
  }
 ],
 "metadata": {
  "kernelspec": {
   "display_name": "JavaScript",
   "language": "javascript",
   "name": "jslab"
  },
  "language_info": {
   "file_extension": ".js",
   "mimetype": "text/javascript",
   "name": "javascript",
   "version": ""
  }
 },
 "nbformat": 4,
 "nbformat_minor": 5
}
