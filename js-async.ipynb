{
 "cells": [
  {
   "cell_type": "markdown",
   "id": "ae686093-e1c5-4fbd-a643-ffc5640e042e",
   "metadata": {},
   "source": [
    "# JS: Async"
   ]
  },
  {
   "cell_type": "markdown",
   "id": "fa8c52e4-f48e-4398-8ac1-38ebe1b939d3",
   "metadata": {},
   "source": [
    "## Check whether is promise\n",
    "\n",
    "- https://github.com/sudheerj/javascript-interview-questions#how-do-you-check-an-object-is-a-promise-or-not"
   ]
  },
  {
   "cell_type": "code",
   "execution_count": 14,
   "id": "029133c8-43d1-4d59-ba63-383e672ee550",
   "metadata": {},
   "outputs": [
    {
     "name": "stdout",
     "output_type": "stream",
     "text": [
      "\u001b[33mfalse\u001b[39m\n",
      "\u001b[33mtrue\u001b[39m\n",
      "\u001b[33mfalse\u001b[39m\n"
     ]
    }
   ],
   "source": [
    "function isPromise(value) {\n",
    "  return Boolean(value && typeof value.then === \"function\");\n",
    "}\n",
    "\n",
    "console.log(isPromise(123));\n",
    "console.log(isPromise(new Promise(function (resolve, reject) {\n",
    "  resolve();\n",
    "})));\n",
    "console.log(isPromise(new Date()));"
   ]
  },
  {
   "cell_type": "markdown",
   "id": "65bacaa8-90d4-4846-b541-744bf2ddfd97",
   "metadata": {},
   "source": [
    "## How do you prevent promises swallowing errors\n",
    "\n",
    "- https://github.com/sudheerj/javascript-interview-questions#how-do-you-prevent-promises-swallowing-errors"
   ]
  },
  {
   "cell_type": "code",
   "execution_count": 4,
   "id": "b30c344c-e241-4344-a9af-71f88acecf71",
   "metadata": {},
   "outputs": [
    {
     "name": "stdout",
     "output_type": "stream",
     "text": [
      "Promise { \u001b[36m<pending>\u001b[39m }\n"
     ]
    },
    {
     "name": "stderr",
     "output_type": "stream",
     "text": [
      "UnhandledPromiseRejection: Error: error 1\n",
      "    at evalmachine.<anonymous>:4:11\n"
     ]
    }
   ],
   "source": [
    "Promise.resolve(\"promised value\").then(function () {\n",
    "  throw new Error(\"error 1\");\n",
    "});"
   ]
  },
  {
   "cell_type": "code",
   "execution_count": 6,
   "id": "6f97dfe6-ec6a-4686-af6e-7cf5328b815c",
   "metadata": {},
   "outputs": [
    {
     "name": "stdout",
     "output_type": "stream",
     "text": [
      "Promise { \u001b[36m<pending>\u001b[39m }\n"
     ]
    },
    {
     "name": "stderr",
     "output_type": "stream",
     "text": [
      "UnhandledPromiseRejection: Error: error 2\n",
      "    at evalmachine.<anonymous>:4:11\n"
     ]
    }
   ],
   "source": [
    "Promise.reject(\"error value\").catch(function () {\n",
    "  throw new Error(\"error 2\");\n",
    "});"
   ]
  },
  {
   "cell_type": "code",
   "execution_count": 7,
   "id": "167c3628-fef2-4e71-8feb-80c30f1098d6",
   "metadata": {},
   "outputs": [
    {
     "name": "stdout",
     "output_type": "stream",
     "text": [
      "Promise {\n",
      "  \u001b[36m<rejected>\u001b[39m Error: error 3\n",
      "      at evalmachine.<anonymous>:4:11\n",
      "      at new Promise (<anonymous>)\n",
      "      at evalmachine.<anonymous>:3:22\n",
      "      at evalmachine.<anonymous>:7:3\n",
      "  \u001b[90m    at sigintHandlersWrap (vm.js:273:12)\u001b[39m\n",
      "  \u001b[90m    at Script.runInThisContext (vm.js:131:14)\u001b[39m\n",
      "  \u001b[90m    at Object.runInThisContext (vm.js:310:38)\u001b[39m\n",
      "      at Object.execute (/home/d9k/.nvm/versions/node/v14.16.1/lib/node_modules/\u001b[4mtslab\u001b[24m/dist/executor.js:160:38)\n",
      "      at JupyterHandlerImpl.handleExecuteImpl (/home/d9k/.nvm/versions/node/v14.16.1/lib/node_modules/\u001b[4mtslab\u001b[24m/dist/jupyter.js:223:38)\n",
      "      at /home/d9k/.nvm/versions/node/v14.16.1/lib/node_modules/\u001b[4mtslab\u001b[24m/dist/jupyter.js:181:57\n",
      "}\n"
     ]
    },
    {
     "name": "stderr",
     "output_type": "stream",
     "text": [
      "UnhandledPromiseRejection: Error: error 3\n",
      "    at evalmachine.<anonymous>:4:11\n",
      "    at new Promise (<anonymous>)\n",
      "    at evalmachine.<anonymous>:3:22\n",
      "    at evalmachine.<anonymous>:7:3\n",
      "\u001b[90m    at sigintHandlersWrap (vm.js:273:12)\u001b[39m\n",
      "\u001b[90m    at Script.runInThisContext (vm.js:131:14)\u001b[39m\n",
      "\u001b[90m    at Object.runInThisContext (vm.js:310:38)\u001b[39m\n",
      "    at Object.execute (/home/d9k/.nvm/versions/node/v14.16.1/lib/node_modules/\u001b[4mtslab\u001b[24m/dist/executor.js:160:38)\n",
      "    at JupyterHandlerImpl.handleExecuteImpl (/home/d9k/.nvm/versions/node/v14.16.1/lib/node_modules/\u001b[4mtslab\u001b[24m/dist/jupyter.js:223:38)\n",
      "    at /home/d9k/.nvm/versions/node/v14.16.1/lib/node_modules/\u001b[4mtslab\u001b[24m/dist/jupyter.js:181:57\n"
     ]
    }
   ],
   "source": [
    "new Promise(function (resolve, reject) {\n",
    "  throw new Error(\"error 3\");\n",
    "});"
   ]
  },
  {
   "cell_type": "markdown",
   "id": "ba6ebddc-3937-4fea-b474-2f6988e2ae63",
   "metadata": {},
   "source": [
    "TODO all works as is"
   ]
  },
  {
   "cell_type": "markdown",
   "id": "79688224-ad2c-45f6-bd82-b57939297930",
   "metadata": {},
   "source": [
    "## Async function\n",
    "\n",
    "Handling reject:"
   ]
  },
  {
   "cell_type": "code",
   "execution_count": 24,
   "id": "adc192ed-0e96-4a31-9fbd-3b89acfd5b39",
   "metadata": {},
   "outputs": [
    {
     "name": "stdout",
     "output_type": "stream",
     "text": [
      "Promise { \u001b[36m<pending>\u001b[39m }\n"
     ]
    },
    {
     "name": "stderr",
     "output_type": "stream",
     "text": [
      "UnhandledPromiseRejection: reject value\n"
     ]
    }
   ],
   "source": [
    "const promiseToBeRejected = new Promise((resolve, reject) => { reject('reject value') });\n",
    "\n",
    "const myAsyncFnUnhandled = async () => {\n",
    "  await promiseToBeRejected;\n",
    "}\n",
    "\n",
    "myAsyncFnUnhandled();"
   ]
  },
  {
   "cell_type": "code",
   "execution_count": 26,
   "id": "109c2abd-b392-4ec2-b6ce-3450cccca5e3",
   "metadata": {},
   "outputs": [
    {
     "name": "stdout",
     "output_type": "stream",
     "text": [
      "Promise { \u001b[36m<pending>\u001b[39m }\n",
      "There was successfully handled error: reject value\n"
     ]
    }
   ],
   "source": [
    "const myAsyncFnCatch = async () => {\n",
    "    try {\n",
    "        await promiseToBeRejected;\n",
    "    } catch (e) {\n",
    "        console.log('There was successfully handled error:', e)\n",
    "    }\n",
    "}\n",
    "\n",
    "myAsyncFnCatch();"
   ]
  },
  {
   "cell_type": "markdown",
   "id": "5cb679ff-1000-4022-81c3-a0f33f85a8a5",
   "metadata": {},
   "source": [
    "## Console output of promise"
   ]
  },
  {
   "cell_type": "code",
   "execution_count": 29,
   "id": "833c326a-fe83-4878-bf48-81bfa882767c",
   "metadata": {},
   "outputs": [
    {
     "name": "stdout",
     "output_type": "stream",
     "text": [
      "Promise { \u001b[33m10\u001b[39m }\n"
     ]
    }
   ],
   "source": [
    "async function func() {\n",
    "  return 10;\n",
    "}\n",
    "console.log(func());"
   ]
  },
  {
   "cell_type": "markdown",
   "id": "47575440-5249-4a55-8b0f-088bcf8ef0fb",
   "metadata": {},
   "source": [
    "## Promise, timeout order\n",
    "\n",
    "https://github.com/sudheerj/javascript-interview-questions#65-what-is-the-output-order-of-below-code"
   ]
  },
  {
   "cell_type": "code",
   "execution_count": 34,
   "id": "bdf51fb4-59c5-4af2-a639-774ec3d95d33",
   "metadata": {},
   "outputs": [
    {
     "name": "stdout",
     "output_type": "stream",
     "text": [
      "3\n",
      "2\n",
      "\u001b[33m5\u001b[39m\n",
      "\u001b[33m4\u001b[39m\n",
      "1\n"
     ]
    }
   ],
   "source": [
    "setTimeout(() => {\n",
    "  console.log(\"1\");\n",
    "}, 0);\n",
    "\n",
    "Promise.resolve(\"hello\").then(() => console.log(\"2\"));\n",
    "\n",
    "console.log(\"3\");\n",
    "\n",
    "setImmediate(() => {\n",
    "  console.log(4);\n",
    "});\n",
    "\n",
    "process.nextTick(() => {\n",
    "  console.log(5);\n",
    "});"
   ]
  },
  {
   "cell_type": "markdown",
   "id": "79d7959a-ca32-418b-9598-001a5595c685",
   "metadata": {},
   "source": [
    "## Promise.all(), Promise.allSettled()"
   ]
  },
  {
   "cell_type": "markdown",
   "id": "2a0ff422-c7b9-49da-a418-dfe27d853545",
   "metadata": {},
   "source": [
    "https://github.com/sudheerj/javascript-interview-questions#77-what-is-the-output-of-below-code"
   ]
  },
  {
   "cell_type": "code",
   "execution_count": 5,
   "id": "298157c9-c78d-49eb-a6a6-9eb179cd2612",
   "metadata": {},
   "outputs": [
    {
     "name": "stdout",
     "output_type": "stream",
     "text": [
      "Promise { \u001b[36m<pending>\u001b[39m }\n"
     ]
    },
    {
     "name": "stderr",
     "output_type": "stream",
     "text": [
      "UnhandledPromiseRejection: \u001b[33m1\u001b[39m\n"
     ]
    }
   ],
   "source": [
    "var promiseResolve1 = new Promise((resolve, reject) => setTimeout(() => resolve(1), 2000));\n",
    "var promiseResolve2 = new Promise((resolve, reject) => setTimeout(() => resolve(2), 1000));\n",
    "var promiseReject = new Promise((resolve, reject) => setTimeout(() => reject(1), 2000));\n",
    "\n",
    "Promise.all([promiseResolve1, promiseReject]).then((data) => console.log(data));"
   ]
  },
  {
   "cell_type": "code",
   "execution_count": 8,
   "id": "c262205d-6b85-4b2f-8340-987349f86ef4",
   "metadata": {},
   "outputs": [
    {
     "name": "stdout",
     "output_type": "stream",
     "text": [
      "Promise { \u001b[36m<pending>\u001b[39m }\n",
      "[ \u001b[33m1\u001b[39m, \u001b[33m2\u001b[39m ]\n"
     ]
    }
   ],
   "source": [
    "Promise.all([promiseResolve1, promiseResolve2]).then((data) => console.log(data));"
   ]
  },
  {
   "cell_type": "code",
   "execution_count": 9,
   "id": "231de98d-366d-4e84-b988-6dcd8b4f71f8",
   "metadata": {},
   "outputs": [
    {
     "name": "stdout",
     "output_type": "stream",
     "text": [
      "Promise { \u001b[36m<pending>\u001b[39m }\n",
      "[\n",
      "  { status: \u001b[32m'fulfilled'\u001b[39m, value: \u001b[33m1\u001b[39m },\n",
      "  { status: \u001b[32m'rejected'\u001b[39m, reason: \u001b[33m1\u001b[39m }\n",
      "]\n"
     ]
    }
   ],
   "source": [
    "Promise.allSettled([promiseResolve1, promiseReject]).then((data) => console.log(data));"
   ]
  },
  {
   "cell_type": "markdown",
   "id": "f3abead9-82d6-4210-952e-477f6e3edaa3",
   "metadata": {},
   "source": [
    "Promise is native in ES6 and it will be moved to Job queue which has high priority than callback queue in the execution order. "
   ]
  },
  {
   "cell_type": "markdown",
   "id": "06f9703e-f893-48b9-a33d-45b20372d1fa",
   "metadata": {},
   "source": [
    "## setTimeout() + try/catch"
   ]
  },
  {
   "cell_type": "markdown",
   "id": "92020a30-0509-407c-91c0-6bea5ecf5d04",
   "metadata": {},
   "source": [
    "https://github.com/sudheerj/javascript-interview-questions#78-what-is-the-output-of-below-code"
   ]
  },
  {
   "cell_type": "code",
   "execution_count": 11,
   "id": "bfb74e72-b8eb-45fc-9953-fb466d84dc84",
   "metadata": {},
   "outputs": [
    {
     "name": "stdout",
     "output_type": "stream",
     "text": [
      "try block\n"
     ]
    },
    {
     "name": "stderr",
     "output_type": "stream",
     "text": [
      "UncaughtException: Error: An exception is thrown\n",
      "    at Timeout._onTimeout (evalmachine.<anonymous>:5:15)\n",
      "\u001b[90m    at listOnTimeout (internal/timers.js:554:17)\u001b[39m\n",
      "\u001b[90m    at processTimers (internal/timers.js:497:7)\u001b[39m\n"
     ]
    }
   ],
   "source": [
    "try {\n",
    "  setTimeout(() => {\n",
    "    console.log(\"try block\");\n",
    "    throw new Error(`An exception is thrown`);\n",
    "  }, 1000);\n",
    "} catch (err) {\n",
    "  console.log(\"Error: \", err);\n",
    "}"
   ]
  },
  {
   "cell_type": "markdown",
   "id": "433e2c68-3fe7-448c-8599-dfaa190791ae",
   "metadata": {},
   "source": [
    "try/catch can't intercept timeout errors\n",
    "\n",
    "Fixing:"
   ]
  },
  {
   "cell_type": "code",
   "execution_count": 16,
   "id": "4df6411f-0afe-41c9-a3d6-2b388e82ece9",
   "metadata": {},
   "outputs": [
    {
     "name": "stdout",
     "output_type": "stream",
     "text": [
      "try block\n",
      "Successfully handled:  Error: An exception is thrown\n",
      "    at Timeout._onTimeout (evalmachine.<anonymous>:6:15)\n",
      "\u001b[90m    at listOnTimeout (internal/timers.js:554:17)\u001b[39m\n",
      "\u001b[90m    at processTimers (internal/timers.js:497:7)\u001b[39m\n"
     ]
    }
   ],
   "source": [
    "void setTimeout(() => {\n",
    "  try {\n",
    "    console.log(\"try block\");\n",
    "    throw new Error(`An exception is thrown`);\n",
    "  } catch (err) {\n",
    "    console.log(\"Successfully handled: \", err);\n",
    "  }\n",
    "}, 1000);"
   ]
  },
  {
   "cell_type": "markdown",
   "id": "a790d189-33b3-460a-93db-782cbd130401",
   "metadata": {},
   "source": [
    "## Promise constructor\n",
    "\n",
    "is synchronous"
   ]
  },
  {
   "cell_type": "code",
   "execution_count": 10,
   "id": "79573458-4f8e-4f97-bf3a-881013be019f",
   "metadata": {},
   "outputs": [
    {
     "name": "stdout",
     "output_type": "stream",
     "text": [
      "\u001b[33m1\u001b[39m\n",
      "Promise constructor\n",
      "\u001b[33m4\u001b[39m\n",
      "timeOut\n",
      "777\n",
      "then1\n",
      "then2\n",
      "timeOut2\n"
     ]
    }
   ],
   "source": [
    "void setTimeout(()=>{\n",
    "    console.log(\"timeOut\");\n",
    "}, 0)\n",
    "\n",
    "console.log(1);\n",
    "\n",
    "void new Promise(resolve=>{\n",
    "    console.log(\"Promise constructor\");\n",
    "    void setTimeout(()=>{\n",
    "        console.log(\"777\");\n",
    "        resolve()\n",
    "    },0)\n",
    "}).then(()=>{\n",
    "    console.log(\"then1\");\n",
    "}).then(()=>{\n",
    "    console.log(\"then2\");\n",
    "})\n",
    "\n",
    "console.log(4);\n",
    "\n",
    "void setTimeout(()=>{\n",
    "    console.log(\"timeOut2\");\n",
    "},0)"
   ]
  }
 ],
 "metadata": {
  "kernelspec": {
   "display_name": "JavaScript",
   "language": "javascript",
   "name": "jslab"
  },
  "language_info": {
   "file_extension": ".js",
   "mimetype": "text/javascript",
   "name": "javascript",
   "version": ""
  }
 },
 "nbformat": 4,
 "nbformat_minor": 5
}
