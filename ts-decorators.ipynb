{
 "cells": [
  {
   "cell_type": "markdown",
   "id": "5b37724b-3867-4a88-aeae-4e15c5bdb44a",
   "metadata": {},
   "source": [
    "# TS decorators\n",
    "\n",
    "https://www.typescriptlang.org/docs/handbook/decorators.html"
   ]
  },
  {
   "cell_type": "markdown",
   "id": "3498af6d-2fc2-4e1c-9aec-01cab96c1f8c",
   "metadata": {},
   "source": [
    "## Class decorator"
   ]
  },
  {
   "cell_type": "code",
   "execution_count": 3,
   "id": "fa8dcd08-373d-4918-84be-dc9c3bbbad3a",
   "metadata": {},
   "outputs": [
    {
     "name": "stdout",
     "output_type": "stream",
     "text": [
      "\u001b[33mtrue\u001b[39m\n"
     ]
    }
   ],
   "source": [
    "function admin(isAdmin) {\n",
    "   return function(target) {\n",
    "       target.isAdmin = isAdmin;\n",
    "   }\n",
    "}\n",
    "\n",
    "@admin(true)\n",
    "class AdminUser {}\n",
    "\n",
    "// @ts-ignore\n",
    "console.log(AdminUser.isAdmin);"
   ]
  },
  {
   "cell_type": "markdown",
   "id": "da0ddc8b-ba49-4f7c-b8ef-b561652feb2d",
   "metadata": {},
   "source": [
    "## Method decorator\n"
   ]
  },
  {
   "cell_type": "code",
   "execution_count": 7,
   "id": "cf5b85c6-9485-428c-8e2a-eda8585fa686",
   "metadata": {},
   "outputs": [
    {
     "name": "stdout",
     "output_type": "stream",
     "text": [
      "\u001b[33m65\u001b[39m\n"
     ]
    }
   ],
   "source": [
    "function plusOne(target: any, propertyName: string, descriptor: TypedPropertyDescriptor<Function>) {\n",
    "  let method = descriptor.value!;\n",
    " \n",
    "  descriptor.value = function () {\n",
    "    return method.apply(this, arguments) + 1;\n",
    "  };\n",
    "}\n",
    "\n",
    "class MyMath {\n",
    "  @plusOne\n",
    "  static squarePlusOne(num: number) {\n",
    "    return num * num;\n",
    "  }\n",
    "}\n",
    "\n",
    "MyMath.squarePlusOne(8);"
   ]
  }
 ],
 "metadata": {
  "kernelspec": {
   "display_name": "TypeScript",
   "language": "typescript",
   "name": "tslab"
  },
  "language_info": {
   "codemirror_mode": {
    "mode": "typescript",
    "name": "javascript",
    "typescript": true
   },
   "file_extension": ".ts",
   "mimetype": "text/typescript",
   "name": "typescript",
   "version": "3.7.2"
  }
 },
 "nbformat": 4,
 "nbformat_minor": 5
}
