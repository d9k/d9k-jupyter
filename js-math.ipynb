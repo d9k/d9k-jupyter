{
 "cells": [
  {
   "cell_type": "markdown",
   "id": "f1c614d3-c849-401f-b15d-b17be630796a",
   "metadata": {},
   "source": [
    "# JS: Math"
   ]
  },
  {
   "cell_type": "markdown",
   "id": "ba3a9a4c-8f27-4154-af5f-9e534f6c2c4c",
   "metadata": {},
   "source": [
    "## How do you rounding numbers to certain decimals"
   ]
  },
  {
   "cell_type": "code",
   "execution_count": 4,
   "id": "96c2824b-9834-494d-9657-2ea950e556bc",
   "metadata": {},
   "outputs": [
    {
     "name": "stdout",
     "output_type": "stream",
     "text": [
      "98.123\n"
     ]
    }
   ],
   "source": [
    "(98.12345).toFixed(3)"
   ]
  },
  {
   "cell_type": "code",
   "execution_count": 5,
   "id": "4c791787-4637-414d-93dd-91998681dc0a",
   "metadata": {},
   "outputs": [
    {
     "name": "stdout",
     "output_type": "stream",
     "text": [
      "98\n"
     ]
    }
   ],
   "source": [
    "(98.12345).toFixed(0)"
   ]
  },
  {
   "cell_type": "code",
   "execution_count": 6,
   "id": "2de385d4-aef0-42be-87f8-27208b1c70e0",
   "metadata": {},
   "outputs": [
    {
     "name": "stderr",
     "output_type": "stream",
     "text": [
      "evalmachine.<anonymous>:3\n",
      "exports.tsLastExpr = (98.12345).toFixed(-1);\n",
      "                                ^\n",
      "\n",
      "RangeError: toFixed() digits argument must be between 0 and 100\n",
      "    at Number.toFixed (<anonymous>)\n",
      "    at evalmachine.<anonymous>:3:33\n",
      "    at evalmachine.<anonymous>:5:3\n",
      "\u001b[90m    at sigintHandlersWrap (vm.js:273:12)\u001b[39m\n",
      "\u001b[90m    at Script.runInThisContext (vm.js:131:14)\u001b[39m\n",
      "\u001b[90m    at Object.runInThisContext (vm.js:310:38)\u001b[39m\n",
      "    at Object.execute (/home/d9k/.nvm/versions/node/v14.16.1/lib/node_modules/\u001b[4mtslab\u001b[24m/dist/executor.js:160:38)\n",
      "    at JupyterHandlerImpl.handleExecuteImpl (/home/d9k/.nvm/versions/node/v14.16.1/lib/node_modules/\u001b[4mtslab\u001b[24m/dist/jupyter.js:223:38)\n",
      "    at /home/d9k/.nvm/versions/node/v14.16.1/lib/node_modules/\u001b[4mtslab\u001b[24m/dist/jupyter.js:181:57\n",
      "    at async JupyterHandlerImpl.handleExecute (/home/d9k/.nvm/versions/node/v14.16.1/lib/node_modules/\u001b[4mtslab\u001b[24m/dist/jupyter.js:181:21)\n"
     ]
    }
   ],
   "source": [
    "(98.12345).toFixed(-1)"
   ]
  }
 ],
 "metadata": {
  "kernelspec": {
   "display_name": "JavaScript",
   "language": "javascript",
   "name": "jslab"
  },
  "language_info": {
   "file_extension": ".js",
   "mimetype": "text/javascript",
   "name": "javascript",
   "version": ""
  }
 },
 "nbformat": 4,
 "nbformat_minor": 5
}
