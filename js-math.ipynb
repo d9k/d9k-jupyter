{
 "cells": [
  {
   "cell_type": "markdown",
   "id": "f1c614d3-c849-401f-b15d-b17be630796a",
   "metadata": {},
   "source": [
    "# JS: Math"
   ]
  },
  {
   "cell_type": "markdown",
   "id": "20c03361-b346-4228-927c-93b05911efb8",
   "metadata": {},
   "source": [
    "# Special number states"
   ]
  },
  {
   "cell_type": "code",
   "execution_count": 1,
   "id": "157a474b-5532-46fc-8a48-b64e958fbdcc",
   "metadata": {},
   "outputs": [
    {
     "data": {
      "text/plain": [
       "'number'"
      ]
     },
     "execution_count": 1,
     "metadata": {},
     "output_type": "execute_result"
    }
   ],
   "source": [
    "typeof(NaN)"
   ]
  },
  {
   "cell_type": "code",
   "execution_count": 2,
   "id": "b85af23f-45c1-4dfa-a7e4-0ddb9ecf854c",
   "metadata": {},
   "outputs": [
    {
     "data": {
      "text/plain": [
       "'number'"
      ]
     },
     "execution_count": 2,
     "metadata": {},
     "output_type": "execute_result"
    }
   ],
   "source": [
    "typeof(Infinity)"
   ]
  },
  {
   "cell_type": "code",
   "execution_count": 3,
   "id": "7bade57a-8c27-47ec-9eb7-6666396e89a8",
   "metadata": {},
   "outputs": [
    {
     "data": {
      "text/plain": [
       "Infinity"
      ]
     },
     "execution_count": 3,
     "metadata": {},
     "output_type": "execute_result"
    }
   ],
   "source": [
    "5 / 0"
   ]
  },
  {
   "cell_type": "code",
   "execution_count": 4,
   "id": "f20e4e39-63b4-4b3d-9f04-2c9afbb80fd2",
   "metadata": {},
   "outputs": [
    {
     "data": {
      "text/plain": [
       "true"
      ]
     },
     "execution_count": 4,
     "metadata": {},
     "output_type": "execute_result"
    }
   ],
   "source": [
    "5 / 0 === Infinity"
   ]
  },
  {
   "cell_type": "code",
   "execution_count": 9,
   "id": "863fe765-67b7-43ea-9379-30d066fccdf3",
   "metadata": {},
   "outputs": [
    {
     "data": {
      "text/plain": [
       "true"
      ]
     },
     "execution_count": 9,
     "metadata": {},
     "output_type": "execute_result"
    }
   ],
   "source": [
    "-5 / 0 === -Infinity"
   ]
  },
  {
   "cell_type": "code",
   "execution_count": 10,
   "id": "c737aec8-8745-4805-8069-95db7701ff5f",
   "metadata": {},
   "outputs": [
    {
     "data": {
      "text/plain": [
       "false"
      ]
     },
     "execution_count": 10,
     "metadata": {},
     "output_type": "execute_result"
    }
   ],
   "source": [
    "isFinite(-5 / 0)"
   ]
  },
  {
   "cell_type": "code",
   "execution_count": 14,
   "id": "00237e4f-3b50-408d-b2ef-4f0c15c395e8",
   "metadata": {},
   "outputs": [
    {
     "data": {
      "text/plain": [
       "true"
      ]
     },
     "execution_count": 14,
     "metadata": {},
     "output_type": "execute_result"
    }
   ],
   "source": [
    "isFinite(7)"
   ]
  },
  {
   "cell_type": "code",
   "execution_count": 5,
   "id": "2d678c2c-591c-4955-b37e-0f8efb40a056",
   "metadata": {},
   "outputs": [
    {
     "data": {
      "text/plain": [
       "NaN"
      ]
     },
     "execution_count": 5,
     "metadata": {},
     "output_type": "execute_result"
    }
   ],
   "source": [
    "Math.sqrt(-1)"
   ]
  },
  {
   "cell_type": "code",
   "execution_count": 7,
   "id": "e55d6684-36fe-4f54-90ba-179f7dcd6f68",
   "metadata": {},
   "outputs": [
    {
     "data": {
      "text/plain": [
       "false"
      ]
     },
     "execution_count": 7,
     "metadata": {},
     "output_type": "execute_result"
    }
   ],
   "source": [
    "Math.sqrt(-1) === NaN"
   ]
  },
  {
   "cell_type": "code",
   "execution_count": 12,
   "id": "ef790683-0004-41d0-8fd8-37f129232c16",
   "metadata": {},
   "outputs": [
    {
     "data": {
      "text/plain": [
       "true"
      ]
     },
     "execution_count": 12,
     "metadata": {},
     "output_type": "execute_result"
    }
   ],
   "source": [
    "isNaN(Math.sqrt(-1))"
   ]
  },
  {
   "cell_type": "code",
   "execution_count": 2,
   "id": "6a0b31cf-cd9c-4505-966b-4540efaffaff",
   "metadata": {},
   "outputs": [
    {
     "data": {
      "text/plain": [
       "false"
      ]
     },
     "execution_count": 2,
     "metadata": {},
     "output_type": "execute_result"
    }
   ],
   "source": [
    "isFinite(Math.sqrt(-1))"
   ]
  },
  {
   "cell_type": "code",
   "execution_count": 4,
   "id": "428bc6f4-92a3-4f11-a954-411580ec20e2",
   "metadata": {},
   "outputs": [
    {
     "data": {
      "text/plain": [
       "false"
      ]
     },
     "execution_count": 4,
     "metadata": {},
     "output_type": "execute_result"
    }
   ],
   "source": [
    "NaN == NaN"
   ]
  },
  {
   "cell_type": "code",
   "execution_count": 5,
   "id": "5a5b56bd-d649-4413-a09e-669a4aa717a2",
   "metadata": {},
   "outputs": [
    {
     "data": {
      "text/plain": [
       "true"
      ]
     },
     "execution_count": 5,
     "metadata": {},
     "output_type": "execute_result"
    }
   ],
   "source": [
    "Object.is(NaN, NaN)"
   ]
  },
  {
   "cell_type": "markdown",
   "id": "ba3a9a4c-8f27-4154-af5f-9e534f6c2c4c",
   "metadata": {},
   "source": [
    "## How do you rounding numbers to certain decimals"
   ]
  },
  {
   "cell_type": "code",
   "execution_count": 4,
   "id": "96c2824b-9834-494d-9657-2ea950e556bc",
   "metadata": {},
   "outputs": [
    {
     "name": "stdout",
     "output_type": "stream",
     "text": [
      "98.123\n"
     ]
    }
   ],
   "source": [
    "(98.12345).toFixed(3)"
   ]
  },
  {
   "cell_type": "code",
   "execution_count": 5,
   "id": "4c791787-4637-414d-93dd-91998681dc0a",
   "metadata": {},
   "outputs": [
    {
     "name": "stdout",
     "output_type": "stream",
     "text": [
      "98\n"
     ]
    }
   ],
   "source": [
    "(98.12345).toFixed(0)"
   ]
  },
  {
   "cell_type": "code",
   "execution_count": 6,
   "id": "2de385d4-aef0-42be-87f8-27208b1c70e0",
   "metadata": {},
   "outputs": [
    {
     "name": "stderr",
     "output_type": "stream",
     "text": [
      "evalmachine.<anonymous>:3\n",
      "exports.tsLastExpr = (98.12345).toFixed(-1);\n",
      "                                ^\n",
      "\n",
      "RangeError: toFixed() digits argument must be between 0 and 100\n",
      "    at Number.toFixed (<anonymous>)\n",
      "    at evalmachine.<anonymous>:3:33\n",
      "    at evalmachine.<anonymous>:5:3\n",
      "\u001b[90m    at sigintHandlersWrap (vm.js:273:12)\u001b[39m\n",
      "\u001b[90m    at Script.runInThisContext (vm.js:131:14)\u001b[39m\n",
      "\u001b[90m    at Object.runInThisContext (vm.js:310:38)\u001b[39m\n",
      "    at Object.execute (/home/d9k/.nvm/versions/node/v14.16.1/lib/node_modules/\u001b[4mtslab\u001b[24m/dist/executor.js:160:38)\n",
      "    at JupyterHandlerImpl.handleExecuteImpl (/home/d9k/.nvm/versions/node/v14.16.1/lib/node_modules/\u001b[4mtslab\u001b[24m/dist/jupyter.js:223:38)\n",
      "    at /home/d9k/.nvm/versions/node/v14.16.1/lib/node_modules/\u001b[4mtslab\u001b[24m/dist/jupyter.js:181:57\n",
      "    at async JupyterHandlerImpl.handleExecute (/home/d9k/.nvm/versions/node/v14.16.1/lib/node_modules/\u001b[4mtslab\u001b[24m/dist/jupyter.js:181:21)\n"
     ]
    }
   ],
   "source": [
    "(98.12345).toFixed(-1)"
   ]
  }
 ],
 "metadata": {
  "kernelspec": {
   "display_name": "JavaScript",
   "language": "javascript",
   "name": "jslab"
  },
  "language_info": {
   "file_extension": ".js",
   "mimetype": "text/javascript",
   "name": "javascript",
   "version": ""
  }
 },
 "nbformat": 4,
 "nbformat_minor": 5
}
