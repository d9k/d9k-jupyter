{
 "cells": [
  {
   "cell_type": "markdown",
   "id": "07938cfd-1b7d-4a76-a8a4-066bd866c278",
   "metadata": {},
   "source": [
    "## `unknown`"
   ]
  },
  {
   "cell_type": "code",
   "execution_count": 4,
   "id": "8062a5f1-cef8-47e3-a487-7007c9100063",
   "metadata": {},
   "outputs": [
    {
     "name": "stderr",
     "output_type": "stream",
     "text": [
      "11:14 - Property 'helloWorld' does not exist on type 'unknown'.\n"
     ]
    }
   ],
   "source": [
    "var obj = { \n",
    "  helloworld: () => { \n",
    "    console.log('Hello world!'); \n",
    "  } \n",
    "}\n",
    "\n",
    "var anyValue: any = obj;\n",
    "var unknownValue: unknown = obj;\n",
    "\n",
    "anyValue.helloworld(); // Ошибки нет\n",
    "unknownValue.helloWorld();  // получаем ошибку TypeScript"
   ]
  },
  {
   "cell_type": "code",
   "execution_count": 7,
   "id": "54c1f851-c6a5-4cfc-abe9-9ad19f88828f",
   "metadata": {},
   "outputs": [
    {
     "name": "stderr",
     "output_type": "stream",
     "text": [
      "7:1 - Type 'unknown' is not assignable to type 'string'.\n"
     ]
    }
   ],
   "source": [
    "var anyValue: any = 1;\n",
    "var unknownValue: unknown = 1;\n",
    "\n",
    "var str: string;\n",
    "\n",
    "str = anyValue; // Ошибки нет\n",
    "str = unknownValue; // получаем ошибку TypeScript"
   ]
  },
  {
   "cell_type": "code",
   "execution_count": 4,
   "id": "614bb83e-510d-4458-83ec-1403dd7d52b0",
   "metadata": {},
   "outputs": [
    {
     "name": "stderr",
     "output_type": "stream",
     "text": [
      "8:12 - Conversion of type '{ niceVehicle: string; }' to type 'Vehicle' may be a mistake because neither type sufficiently overlaps with the other. If this was intentional, convert the expression to 'unknown' first.\n",
      "8:12 - Type '{ niceVehicle: string; }' is missing the following properties from type 'Vehicle': name, model\n"
     ]
    }
   ],
   "source": [
    "interface Vehicle { name: string; model: string; }\n",
    "\n",
    "function buyVehicle(vehicle: Vehicle){ \n",
    "  console.log(JSON.stringify(vehicle)) \n",
    "}\n",
    "\n",
    "// Won't compile:\n",
    "buyVehicle({niceVehicle: ''} as Vehicle);"
   ]
  },
  {
   "cell_type": "code",
   "execution_count": 5,
   "id": "d476feff-4984-49a7-ab56-b915b6c1fc88",
   "metadata": {},
   "outputs": [
    {
     "name": "stdout",
     "output_type": "stream",
     "text": [
      "{\"niceVehicle\":\"\"}\n"
     ]
    }
   ],
   "source": [
    "interface Vehicle { name: string; model: string; }\n",
    "\n",
    "function buyVehicle(vehicle: Vehicle){ \n",
    "  console.log(JSON.stringify(vehicle)) \n",
    "}\n",
    "\n",
    "// Compiles\n",
    "buyVehicle({niceVehicle: ''} as unknown as Vehicle)"
   ]
  },
  {
   "cell_type": "markdown",
   "id": "c8921051-aaec-4af5-b32f-35081d33bbc1",
   "metadata": {},
   "source": [
    "## `void`\n",
    "\n",
    "https://ru.hexlet.io/blog/posts/sistema-tipov-v-typescript"
   ]
  },
  {
   "cell_type": "code",
   "execution_count": 12,
   "id": "d5311f0d-c41d-46db-b489-7e18ed6fa34c",
   "metadata": {},
   "outputs": [
    {
     "name": "stdout",
     "output_type": "stream",
     "text": [
      "\u001b[90mundefined\u001b[39m \u001b[90mundefined\u001b[39m \u001b[1mnull\u001b[22m\n"
     ]
    }
   ],
   "source": [
    "let voidVariableVoid: void = void(0);\n",
    "let voidVariableUndefined;\n",
    "let voidVariableNull: void = null;\n",
    "\n",
    "console.log(voidVariableVoid, voidVariableUndefined, voidVariableNull);"
   ]
  },
  {
   "cell_type": "code",
   "execution_count": 17,
   "id": "5298f06d-032e-4e13-ba35-f993e1871ddf",
   "metadata": {},
   "outputs": [
    {
     "name": "stderr",
     "output_type": "stream",
     "text": [
      "10:1 - Type 'void' is not assignable to type 'undefined'.\n",
      "11:1 - Type 'unknown' is not assignable to type 'void'.\n"
     ]
    }
   ],
   "source": [
    "let voidVariable: void;\n",
    "let unknownVariable: unknown;\n",
    "let nullVariable: null;\n",
    "let void0 = void(0);\n",
    "let undefinedVariable: undefined;\n",
    "\n",
    "voidVariable = undefinedVariable;\n",
    "voidVariable = nullVariable;\n",
    "voidVariable = void0;\n",
    "undefinedVariable = voidVariable;\n",
    "voidVariable = unknownVariable;"
   ]
  }
 ],
 "metadata": {
  "kernelspec": {
   "display_name": "TypeScript",
   "language": "typescript",
   "name": "tslab"
  },
  "language_info": {
   "codemirror_mode": {
    "mode": "typescript",
    "name": "javascript",
    "typescript": true
   },
   "file_extension": ".ts",
   "mimetype": "text/typescript",
   "name": "typescript",
   "version": "3.7.2"
  }
 },
 "nbformat": 4,
 "nbformat_minor": 5
}
