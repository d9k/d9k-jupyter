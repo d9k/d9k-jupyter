{
 "cells": [
  {
   "cell_type": "markdown",
   "id": "45bd5403-f37c-4061-bacd-114be1439c13",
   "metadata": {},
   "source": [
    "# js-errors"
   ]
  },
  {
   "cell_type": "markdown",
   "id": "3c8d4e4d-c767-4386-88b5-d82cbd452091",
   "metadata": {},
   "source": [
    "## Throwing error"
   ]
  },
  {
   "cell_type": "code",
   "execution_count": 1,
   "id": "c8c4fcf2-e440-4cfb-b5df-1f79d6ed046e",
   "metadata": {},
   "outputs": [
    {
     "ename": "Error",
     "evalue": "test",
     "execution_count": 1,
     "output_type": "error",
     "traceback": [
      "evalmachine.<anonymous>:1",
      "throw new Error('test');",
      "^",
      "",
      "Error: test",
      "    at evalmachine.<anonymous>:1:7",
      "    at Script.runInThisContext (vm.js:133:18)",
      "    at Object.runInThisContext (vm.js:310:38)",
      "    at run ([eval]:1020:15)",
      "    at onRunRequest ([eval]:864:18)",
      "    at onMessage ([eval]:828:13)",
      "    at process.emit (events.js:315:20)",
      "    at emit (internal/child_process.js:903:12)",
      "    at processTicksAndRejections (internal/process/task_queues.js:81:21)"
     ]
    }
   ],
   "source": [
    "throw new Error('test');"
   ]
  },
  {
   "cell_type": "markdown",
   "id": "ecb96500-b541-471c-b781-d712cf0b7140",
   "metadata": {},
   "source": [
    "## Common error names\n",
    "\n",
    "`EvalError, RangeError, ReferenceError, SyntaxError, TypeError, URIError`"
   ]
  },
  {
   "cell_type": "code",
   "execution_count": 20,
   "id": "4784eabb-da92-4739-bcad-506609486bc2",
   "metadata": {},
   "outputs": [],
   "source": [
    "function catchErrorName(fn) {\n",
    "    try {\n",
    "        fn();\n",
    "    } catch (e) {\n",
    "        console.error(e.name + ':', e.message);\n",
    "    }\n",
    "}\n",
    "\n",
    "async function catchErrorNameAsync(fn) {\n",
    "    try {\n",
    "        await fn();\n",
    "    } catch (e) {\n",
    "        console.error(e.name + ':', e.message);\n",
    "    }\n",
    "}"
   ]
  },
  {
   "cell_type": "code",
   "execution_count": 21,
   "id": "2efaff9e-c8b3-48f6-ad22-3a4dd0b91bb6",
   "metadata": {},
   "outputs": [
    {
     "name": "stderr",
     "output_type": "stream",
     "text": [
      "Error: test\n"
     ]
    }
   ],
   "source": [
    "catchErrorName(() => {\n",
    "    throw new Error('test') \n",
    "});\n"
   ]
  },
  {
   "cell_type": "code",
   "execution_count": 22,
   "id": "a8a4fff2-055b-4682-be2d-ece231eb157b",
   "metadata": {},
   "outputs": [
    {
     "name": "stderr",
     "output_type": "stream",
     "text": [
      "SyntaxError: Invalid or unexpected token\n"
     ]
    }
   ],
   "source": [
    "catchErrorName(() => {\n",
    "    eval(\"'mordor\")\n",
    "});"
   ]
  },
  {
   "cell_type": "code",
   "execution_count": 20,
   "id": "86d00181-19db-4781-b2bd-543a1a2f7daa",
   "metadata": {},
   "outputs": [
    {
     "name": "stderr",
     "output_type": "stream",
     "text": [
      "RangeError: Invalid array length\n"
     ]
    }
   ],
   "source": [
    "catchErrorName(() => {\n",
    "    const a = new Array(-1);\n",
    "});"
   ]
  },
  {
   "cell_type": "code",
   "execution_count": 34,
   "id": "9fff8e1d-e256-4221-af6d-367529210cba",
   "metadata": {},
   "outputs": [
    {
     "name": "stderr",
     "output_type": "stream",
     "text": [
      "RangeError: Maximum call stack size exceeded\n"
     ]
    }
   ],
   "source": [
    "catchErrorName(() => {\n",
    "    const _rec = () => { _rec(); }\n",
    "    _rec();\n",
    "});"
   ]
  },
  {
   "cell_type": "code",
   "execution_count": 1,
   "id": "24aa1a1a-af50-453b-aba4-833c501433ac",
   "metadata": {},
   "outputs": [
    {
     "name": "stdout",
     "output_type": "stream",
     "text": [
      "100\n"
     ]
    },
    {
     "ename": "RangeError",
     "evalue": "Maximum call stack size exceeded",
     "execution_count": 1,
     "output_type": "error",
     "traceback": [
      "evalmachine.<anonymous>:11",
      "    this.area = value;",
      "              ^",
      "",
      "RangeError: Maximum call stack size exceeded",
      "    at Square.set area [as area] (evalmachine.<anonymous>:11:15)",
      "    at Square.set area [as area] (evalmachine.<anonymous>:11:15)",
      "    at Square.set area [as area] (evalmachine.<anonymous>:11:15)",
      "    at Square.set area [as area] (evalmachine.<anonymous>:11:15)",
      "    at Square.set area [as area] (evalmachine.<anonymous>:11:15)",
      "    at Square.set area [as area] (evalmachine.<anonymous>:11:15)",
      "    at Square.set area [as area] (evalmachine.<anonymous>:11:15)",
      "    at Square.set area [as area] (evalmachine.<anonymous>:11:15)",
      "    at Square.set area [as area] (evalmachine.<anonymous>:11:15)",
      "    at Square.set area [as area] (evalmachine.<anonymous>:11:15)"
     ]
    }
   ],
   "source": [
    "class Square {\n",
    "  constructor(length) {\n",
    "    this.length = length;\n",
    "  }\n",
    "\n",
    "  get area() {\n",
    "    return this.length * this.length;\n",
    "  }\n",
    "\n",
    "  set area(value) {\n",
    "    this.area = value;\n",
    "  }\n",
    "}\n",
    "\n",
    "const squareObj = new Square(10);\n",
    "console.log(squareObj.area);\n",
    "\n",
    "squareObj.area = 200;\n",
    "console.log(squareObj.area)"
   ]
  },
  {
   "cell_type": "code",
   "execution_count": 24,
   "id": "da35fa01-5a14-439c-8aa1-9298c40df8eb",
   "metadata": {},
   "outputs": [
    {
     "name": "stderr",
     "output_type": "stream",
     "text": [
      "ReferenceError: nonexistentVariable is not defined\n"
     ]
    }
   ],
   "source": [
    "catchErrorName(() => {\n",
    "    // @ts-ignore\n",
    "    console.log(nonexistentVariable);\n",
    "});"
   ]
  },
  {
   "cell_type": "markdown",
   "id": "672c748f-4b29-44a5-9780-9c54835a6ac4",
   "metadata": {},
   "source": [
    "https://github.com/sudheerj/javascript-interview-questions#42-what-is-the-output-of-below-code"
   ]
  },
  {
   "cell_type": "code",
   "execution_count": 2,
   "id": "56de1393-fc45-4788-9d2d-682af866a594",
   "metadata": {},
   "outputs": [
    {
     "ename": "ReferenceError",
     "evalue": "inner is not defined",
     "execution_count": 2,
     "output_type": "error",
     "traceback": [
      "evalmachine.<anonymous>:1",
      "function outer(f = inner()) {",
      "              ^",
      "",
      "ReferenceError: inner is not defined",
      "    at outer (evalmachine.<anonymous>:1:15)",
      "    at evalmachine.<anonymous>:6:1",
      "    at Script.runInThisContext (vm.js:133:18)",
      "    at Object.runInThisContext (vm.js:310:38)",
      "    at run ([eval]:1020:15)",
      "    at onRunRequest ([eval]:864:18)",
      "    at onMessage ([eval]:828:13)",
      "    at process.emit (events.js:315:20)",
      "    at emit (internal/child_process.js:903:12)",
      "    at processTicksAndRejections (internal/process/task_queues.js:81:21)"
     ]
    }
   ],
   "source": [
    "function outer(f = inner()) {\n",
    "  function inner() {\n",
    "    return \"Inner\";\n",
    "  }\n",
    "}\n",
    "outer();"
   ]
  },
  {
   "cell_type": "code",
   "execution_count": 23,
   "id": "0412c483-cf97-4cde-b035-b58ef73eb3d0",
   "metadata": {},
   "outputs": [
    {
     "name": "stderr",
     "output_type": "stream",
     "text": [
      "TypeError: Cannot read property 'method' of null\n"
     ]
    }
   ],
   "source": [
    "catchErrorName(() => {\n",
    "    const t = null;\n",
    "    t.method();\n",
    "});"
   ]
  },
  {
   "cell_type": "code",
   "execution_count": 24,
   "id": "c1e41168-ff61-4039-8f64-244494e0477e",
   "metadata": {},
   "outputs": [
    {
     "name": "stderr",
     "output_type": "stream",
     "text": [
      "URIError: URI malformed\n"
     ]
    }
   ],
   "source": [
    "catchErrorName(() => {\n",
    "    decodeURIComponent('%');\n",
    "});"
   ]
  },
  {
   "cell_type": "markdown",
   "id": "e5966b44-b7d7-4c11-918d-b5a396d8a5a6",
   "metadata": {},
   "source": [
    "https://developer.mozilla.org/en-US/docs/Web/JavaScript/Reference/Global_Objects/AggregateError"
   ]
  },
  {
   "cell_type": "code",
   "execution_count": 36,
   "id": "59239b62-e00a-49fb-8ed7-5905f11e2eeb",
   "metadata": {},
   "outputs": [
    {
     "data": {
      "text/plain": [
       "Promise { <pending> }"
      ]
     },
     "execution_count": 36,
     "metadata": {},
     "output_type": "execute_result"
    },
    {
     "name": "stderr",
     "output_type": "stream",
     "text": [
      "AggregateError: Every promise rejected\n"
     ]
    }
   ],
   "source": [
    "var PromiseAny = require('promise.any');\n",
    "\n",
    "catchErrorNameAsync(async () => {\n",
    "    // TODO Promise.any is not a function on node.js < 15\n",
    "    // Promise.any([Promise.reject(new Error(\"some error\"))]);\n",
    "    return PromiseAny([Promise.reject(new Error(\"some error\"))]);\n",
    "});"
   ]
  },
  {
   "cell_type": "code",
   "execution_count": 38,
   "id": "97915526-7d42-4321-8ff0-7421e71cb75a",
   "metadata": {},
   "outputs": [],
   "source": [
    "// TODO InternalError"
   ]
  }
 ],
 "metadata": {
  "kernelspec": {
   "display_name": "JavaScript (Node.js)",
   "language": "javascript",
   "name": "javascript"
  },
  "language_info": {
   "file_extension": ".js",
   "mimetype": "application/javascript",
   "name": "javascript",
   "version": "14.16.1"
  }
 },
 "nbformat": 4,
 "nbformat_minor": 5
}
