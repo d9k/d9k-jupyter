{
 "cells": [
  {
   "cell_type": "markdown",
   "id": "54c7cbe9-e0fe-48af-b2d8-075a28329fa4",
   "metadata": {},
   "source": [
    "# TypeScript: callbacks\n",
    "\n",
    "https://fettblog.eu/typescript-substitutability/"
   ]
  },
  {
   "cell_type": "code",
   "execution_count": 13,
   "id": "4d64e6e8-d527-4524-88bd-3c30648f124a",
   "metadata": {},
   "outputs": [
    {
     "name": "stdout",
     "output_type": "stream",
     "text": [
      "Handler got status code 200\n"
     ]
    }
   ],
   "source": [
    "function fetchResults(callback: (statusCode: number, results: number[]) => void) {\n",
    "  let results = [1, 2, 3];\n",
    "  callback(200, results);\n",
    "}\n",
    "\n",
    "function handler(statusCode: number) {\n",
    "  console.log(`Handler got status code ${statusCode}`); \n",
    "}\n",
    "\n",
    "// Less args, but compiles!\n",
    "fetchResults(handler);"
   ]
  }
 ],
 "metadata": {
  "kernelspec": {
   "display_name": "TypeScript",
   "language": "typescript",
   "name": "tslab"
  },
  "language_info": {
   "codemirror_mode": {
    "mode": "typescript",
    "name": "javascript",
    "typescript": true
   },
   "file_extension": ".ts",
   "mimetype": "text/typescript",
   "name": "typescript",
   "version": "3.7.2"
  }
 },
 "nbformat": 4,
 "nbformat_minor": 5
}
