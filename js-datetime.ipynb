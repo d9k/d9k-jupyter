{
 "cells": [
  {
   "cell_type": "markdown",
   "id": "5cfcaa72-dc8f-4821-8ed9-561d13fc5144",
   "metadata": {},
   "source": [
    "# JS datetime"
   ]
  },
  {
   "cell_type": "markdown",
   "id": "ef3c4a02-06ae-4eb9-8bf9-c7a498f5792b",
   "metadata": {},
   "source": [
    "## How do you convert date to another timezone in javascript"
   ]
  },
  {
   "cell_type": "code",
   "execution_count": 22,
   "id": "789a33ab-bc85-4e23-b0eb-050da1145047",
   "metadata": {},
   "outputs": [
    {
     "data": {
      "text/plain": [
       "2021-05-24T14:40:00.000Z"
      ]
     },
     "execution_count": 22,
     "metadata": {},
     "output_type": "execute_result"
    }
   ],
   "source": [
    "var d = new Date('2021-05-24 17:40+03:00');\n",
    "d"
   ]
  },
  {
   "cell_type": "code",
   "execution_count": 24,
   "id": "3371c7d1-20e0-4012-a6c3-f24d65fddb75",
   "metadata": {},
   "outputs": [
    {
     "data": {
      "text/plain": [
       "'24.05.2021, 19:40:00'"
      ]
     },
     "execution_count": 24,
     "metadata": {},
     "output_type": "execute_result"
    }
   ],
   "source": [
    "d.toLocaleString(\"ru-RU\", { timeZone: \"Asia/Yekaterinburg\" })"
   ]
  },
  {
   "cell_type": "code",
   "execution_count": 19,
   "id": "c8cf0ed3-ad75-446c-a1c3-cdea9ae19b3c",
   "metadata": {},
   "outputs": [
    {
     "data": {
      "text/plain": [
       "'24/05/2021, 14:40:00'"
      ]
     },
     "execution_count": 19,
     "metadata": {},
     "output_type": "execute_result"
    }
   ],
   "source": [
    "d.toLocaleString(\"en-GB\", { timeZone: \"UTC\" })"
   ]
  },
  {
   "cell_type": "markdown",
   "id": "eba84134-b221-46e6-b172-f09056045bbc",
   "metadata": {},
   "source": [
    "## How do get the timezone offset from date\n",
    "\n",
    "Shows same timezone offset if it wasn't change historycally or by date saving time.\n",
    "\n",
    "- https://developer.mozilla.org/en-US/docs/Web/JavaScript/Reference/Global_Objects/Date/getTimezoneOffset"
   ]
  },
  {
   "cell_type": "code",
   "execution_count": 6,
   "id": "ab7aadb0-8b71-4f85-8f37-cbf7c41ab37e",
   "metadata": {},
   "outputs": [
    {
     "data": {
      "text/plain": [
       "-300"
      ]
     },
     "execution_count": 6,
     "metadata": {},
     "output_type": "execute_result"
    }
   ],
   "source": [
    "new Date('2016-05-01T03:24:00-02:00').getTimezoneOffset() // minutes"
   ]
  }
 ],
 "metadata": {
  "kernelspec": {
   "display_name": "JavaScript (Node.js)",
   "language": "javascript",
   "name": "javascript"
  },
  "language_info": {
   "file_extension": ".js",
   "mimetype": "application/javascript",
   "name": "javascript",
   "version": "14.16.1"
  }
 },
 "nbformat": 4,
 "nbformat_minor": 5
}
