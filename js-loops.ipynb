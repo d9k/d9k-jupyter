{
 "cells": [
  {
   "cell_type": "markdown",
   "id": "bf23cbcd-4a46-4f21-80b4-6d78b9e23a1a",
   "metadata": {},
   "source": [
    "# JS loops"
   ]
  },
  {
   "cell_type": "markdown",
   "id": "72d690c7-cec4-4cd6-9dd6-5ea13ea0b016",
   "metadata": {},
   "source": [
    "## Symbol.iterator\n",
    "\n",
    "https://developer.mozilla.org/en-US/docs/Web/JavaScript/Reference/Global_Objects/Symbol/iterator"
   ]
  },
  {
   "cell_type": "code",
   "execution_count": 10,
   "id": "179a4c4c-0ef3-4583-a010-f11bf7a62e02",
   "metadata": {},
   "outputs": [
    {
     "name": "stdout",
     "output_type": "stream",
     "text": [
      "[ \u001b[32m'Tom'\u001b[39m, \u001b[32m'John'\u001b[39m, \u001b[32m'Arcady'\u001b[39m, \u001b[32m'Benjamin'\u001b[39m ]\n"
     ]
    }
   ],
   "source": [
    "const iterable1 = {};\n",
    "\n",
    "\n",
    "iterable1[Symbol.iterator] = function* () {\n",
    "  yield 'Tom';\n",
    "  yield 'John';\n",
    "  yield 'Arcady';\n",
    "  yield 'Benjamin';\n",
    "};\n",
    "\n",
    "// @ts-ignore\n",
    "console.log([...iterable1]);"
   ]
  }
 ],
 "metadata": {
  "kernelspec": {
   "display_name": "JavaScript",
   "language": "javascript",
   "name": "jslab"
  },
  "language_info": {
   "file_extension": ".js",
   "mimetype": "text/javascript",
   "name": "javascript",
   "version": ""
  }
 },
 "nbformat": 4,
 "nbformat_minor": 5
}
