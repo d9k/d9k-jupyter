{
 "cells": [
  {
   "cell_type": "markdown",
   "id": "bf23cbcd-4a46-4f21-80b4-6d78b9e23a1a",
   "metadata": {},
   "source": [
    "# JS loops"
   ]
  },
  {
   "cell_type": "markdown",
   "id": "72d690c7-cec4-4cd6-9dd6-5ea13ea0b016",
   "metadata": {},
   "source": [
    "## Symbol.iterator\n",
    "\n",
    "https://developer.mozilla.org/en-US/docs/Web/JavaScript/Reference/Global_Objects/Symbol/iterator"
   ]
  },
  {
   "cell_type": "code",
   "execution_count": 10,
   "id": "179a4c4c-0ef3-4583-a010-f11bf7a62e02",
   "metadata": {},
   "outputs": [
    {
     "name": "stdout",
     "output_type": "stream",
     "text": [
      "[ \u001b[32m'Tom'\u001b[39m, \u001b[32m'John'\u001b[39m, \u001b[32m'Arcady'\u001b[39m, \u001b[32m'Benjamin'\u001b[39m ]\n"
     ]
    }
   ],
   "source": [
    "const iterable1 = {};\n",
    "\n",
    "\n",
    "iterable1[Symbol.iterator] = function* () {\n",
    "  yield 'Tom';\n",
    "  yield 'John';\n",
    "  yield 'Arcady';\n",
    "  yield 'Benjamin';\n",
    "};\n",
    "\n",
    "// @ts-ignore\n",
    "console.log([...iterable1]);"
   ]
  },
  {
   "cell_type": "code",
   "execution_count": 23,
   "id": "e9e7aee6-567e-409f-a72e-7ef6f54e5665",
   "metadata": {},
   "outputs": [
    {
     "name": "stdout",
     "output_type": "stream",
     "text": [
      "\u001b[33m1\u001b[39m \u001b[33m2\u001b[39m \u001b[33m3\u001b[39m\n",
      "a b\n",
      "a\n",
      "b\n"
     ]
    }
   ],
   "source": [
    "class Foo {\n",
    "  *[Symbol.iterator]() {\n",
    "    yield 1;\n",
    "    yield 2;\n",
    "    yield 3;\n",
    "  }\n",
    "}\n",
    "\n",
    "const someObj = {\n",
    "  *[Symbol.iterator]() {\n",
    "    yield \"a\";\n",
    "    yield \"b\";\n",
    "  },\n",
    "};\n",
    "\n",
    "console.log(...new Foo()); // 1, 2, 3\n",
    "console.log(...someObj); // 'a', 'b'\n",
    "\n",
    "for (let v of someObj) {\n",
    "  console.log(v);\n",
    "}"
   ]
  },
  {
   "cell_type": "markdown",
   "id": "3dbd8976-7818-491c-be22-16d82d7637e4",
   "metadata": {},
   "source": [
    "Implementation without `*/yield` with `return object: {next() /*...*/}`"
   ]
  },
  {
   "cell_type": "code",
   "execution_count": 1,
   "id": "a1d2b5e6-1cba-4f47-8d24-f52cfc0a0168",
   "metadata": {},
   "outputs": [
    {
     "name": "stdout",
     "output_type": "stream",
     "text": [
      "{ value: \u001b[33m1\u001b[39m, done: \u001b[33mfalse\u001b[39m }\n",
      "{ value: \u001b[33m2\u001b[39m, done: \u001b[33mfalse\u001b[39m }\n",
      "{ value: \u001b[33m3\u001b[39m, done: \u001b[33mfalse\u001b[39m }\n",
      "{ value: \u001b[90mundefined\u001b[39m, done: \u001b[33mtrue\u001b[39m }\n"
     ]
    }
   ],
   "source": [
    "const collection = {\n",
    "  one: 1,\n",
    "  two: 2,\n",
    "  three: 3,\n",
    "  [Symbol.iterator]() {\n",
    "    const values = Object.keys(this);\n",
    "    let i = 0;\n",
    "    return {\n",
    "      next: () => {\n",
    "        return {\n",
    "          value: this[values[i++]],\n",
    "          done: i > values.length,\n",
    "        };\n",
    "      },\n",
    "    };\n",
    "  },\n",
    "};\n",
    "\n",
    "const iterator = collection[Symbol.iterator]();\n",
    "\n",
    "console.log(iterator.next()); // → {value: 1, done: false}\n",
    "console.log(iterator.next()); // → {value: 2, done: false}\n",
    "console.log(iterator.next()); // → {value: 3, done: false}\n",
    "console.log(iterator.next()); // → {value: undefined, done: true}"
   ]
  },
  {
   "cell_type": "markdown",
   "id": "5233d601-a3cc-4d3e-8d5a-0c884dd36b4d",
   "metadata": {},
   "source": [
    "## Using array default Symbol.iterator\n",
    "\n",
    "- https://github.com/sudheerj/javascript-interview-questions#how-does-synchronous-iteration-works"
   ]
  },
  {
   "cell_type": "code",
   "execution_count": 3,
   "id": "1a9719a4-7378-4fd8-bf7b-bfeb19831399",
   "metadata": {},
   "outputs": [
    {
     "name": "stdout",
     "output_type": "stream",
     "text": [
      "{ value: \u001b[32m'one'\u001b[39m, done: \u001b[33mfalse\u001b[39m }\n",
      "{ value: \u001b[32m'two'\u001b[39m, done: \u001b[33mfalse\u001b[39m }\n",
      "{ value: \u001b[32m'three'\u001b[39m, done: \u001b[33mfalse\u001b[39m }\n",
      "{ value: \u001b[90mundefined\u001b[39m, done: \u001b[33mtrue\u001b[39m }\n"
     ]
    }
   ],
   "source": [
    "const iterable = [\"one\", \"two\", \"three\"];\n",
    "const iterator = iterable[Symbol.iterator]();\n",
    "console.log(iterator.next()); // { value: 'one', done: false }\n",
    "console.log(iterator.next()); // { value: 'two', done: false }\n",
    "console.log(iterator.next()); // { value: 'three', done: false }\n",
    "console.log(iterator.next()); // { value: 'undefined, done: true }"
   ]
  },
  {
   "cell_type": "markdown",
   "id": "6d83c942-5c67-42cf-9a3d-9f2292797fce",
   "metadata": {},
   "source": [
    "## What for is for...of statement\n",
    "\n",
    "Iterating over iterable objects or elements such as built-in String, Array, Array-like objects (like arguments or NodeList), TypedArray, Map, Set, and user-defined iterables. Objects can't be iterated."
   ]
  },
  {
   "cell_type": "code",
   "execution_count": 6,
   "id": "34c8d099-bcad-4cd1-9437-5f7e6fee14da",
   "metadata": {},
   "outputs": [
    {
     "name": "stdout",
     "output_type": "stream",
     "text": [
      "\u001b[33m10\u001b[39m\n",
      "\u001b[33m20\u001b[39m\n",
      "\u001b[33m30\u001b[39m\n",
      "\u001b[33m40\u001b[39m\n",
      "\u001b[33m50\u001b[39m\n"
     ]
    }
   ],
   "source": [
    "var arrayIterable = [10, 20, 30, 40, 50];\n",
    "\n",
    "for (let value of arrayIterable) {\n",
    "  console.log(value)\n",
    "}"
   ]
  },
  {
   "cell_type": "code",
   "execution_count": 14,
   "id": "2e9b656d-48ba-4273-abd7-1aa278ad1d2a",
   "metadata": {},
   "outputs": [
    {
     "name": "stdout",
     "output_type": "stream",
     "text": [
      "[ \u001b[32m'b'\u001b[39m, \u001b[32m'Bob'\u001b[39m ]\n",
      "[ \u001b[32m'a'\u001b[39m, \u001b[32m'Alice'\u001b[39m ]\n"
     ]
    }
   ],
   "source": [
    "var map = new Map();\n",
    "\n",
    "map.set('b', 'Bob');\n",
    "map.set('a', 'Alice');\n",
    "\n",
    "for (let v of map) {\n",
    "  console.log(v);\n",
    "}"
   ]
  },
  {
   "cell_type": "code",
   "execution_count": 27,
   "id": "ebbbfafd-1962-43d8-9ba4-800d7ada9c85",
   "metadata": {},
   "outputs": [
    {
     "name": "stderr",
     "output_type": "stream",
     "text": [
      "5:15 - Type '{ b: string; a: string; }' must have a '[Symbol.iterator]()' method that returns an iterator.\n"
     ]
    }
   ],
   "source": [
    "var obj = {b: 'Bob', a: 'Alice'};\n",
    "\n",
    "\n",
    "// objects can't be iterated directly\n",
    "for (let v of obj) {}"
   ]
  },
  {
   "cell_type": "code",
   "execution_count": 26,
   "id": "96da3688-fdfd-4c1d-8ebb-9160ce182f42",
   "metadata": {},
   "outputs": [
    {
     "name": "stdout",
     "output_type": "stream",
     "text": [
      "Bob\n",
      "Alice\n"
     ]
    }
   ],
   "source": [
    "for (let v of Object.values(obj)) {\n",
    "  console.log(v);\n",
    "}"
   ]
  },
  {
   "cell_type": "code",
   "execution_count": 19,
   "id": "f489111f-9bf4-4eb6-9837-9303e82e024e",
   "metadata": {},
   "outputs": [
    {
     "name": "stdout",
     "output_type": "stream",
     "text": [
      "\u001b[33m1\u001b[39m\n",
      "\u001b[33m2\u001b[39m\n",
      "\u001b[33m3\u001b[39m\n"
     ]
    }
   ],
   "source": [
    "function foo() {\n",
    "  for (const value of arguments) {\n",
    "    console.log(value);\n",
    "  }\n",
    "}\n",
    "\n",
    "foo(1, 2, 3);"
   ]
  },
  {
   "cell_type": "markdown",
   "id": "c5ad1d5c-4d20-46e9-abca-92b83d866fee",
   "metadata": {},
   "source": [
    "## Symbol.asyncIterator\n",
    "\n",
    "- https://developer.mozilla.org/en-US/docs/Web/JavaScript/Reference/Global_Objects/Symbol/asyncIterator"
   ]
  },
  {
   "cell_type": "code",
   "execution_count": 22,
   "id": "58b92fa9-23db-4dee-abf9-6eaba17c16ec",
   "metadata": {},
   "outputs": [
    {
     "name": "stdout",
     "output_type": "stream",
     "text": [
      "Promise { \u001b[36m<pending>\u001b[39m }\n",
      "Delayed response for 500 milliseconds\n",
      "Delayed response for 1300 milliseconds\n",
      "Delayed response for 3500 milliseconds\n"
     ]
    }
   ],
   "source": [
    "const delayedResponses = {\n",
    "  delays: [500, 1300, 3500],\n",
    "\n",
    "  wait(delay) {\n",
    "    return new Promise((resolve) => {\n",
    "      setTimeout(resolve, delay);\n",
    "    });\n",
    "  },\n",
    "\n",
    "  async *[Symbol.asyncIterator]() {\n",
    "    for (const delay of this.delays) {\n",
    "      await this.wait(delay);\n",
    "      yield `Delayed response for ${delay} milliseconds`;\n",
    "    }\n",
    "  },\n",
    "};\n",
    "\n",
    "(async () => {\n",
    "  for await (const response of delayedResponses) {\n",
    "    console.log(response);\n",
    "  }\n",
    "})();"
   ]
  },
  {
   "cell_type": "markdown",
   "id": "ed9d57ec-cdff-4762-b193-7ca28c1ffa93",
   "metadata": {},
   "source": [
    "## Difference between for..in and for..of\n",
    "\n",
    "- `for...in` iterates over the enumerable string properties of an object.\n",
    "- `for...of` iterates over values that the iterable object defines to be iterated over with `Symbol.iterator`.\n",
    "\n",
    "- https://developer.mozilla.org/en-US/docs/Web/JavaScript/Reference/Statements/for...of#difference_between_for...of_and_for...in"
   ]
  },
  {
   "cell_type": "code",
   "execution_count": 33,
   "id": "f903cd73-8a87-4b8d-af8b-7088e5a02d07",
   "metadata": {},
   "outputs": [
    {
     "name": "stdout",
     "output_type": "stream",
     "text": [
      "0\n",
      "1\n",
      "2\n",
      "foo\n",
      "bar\n"
     ]
    }
   ],
   "source": [
    "const iterable = [3, 5, 7];\n",
    "\n",
    "// @ts-ignore\n",
    "iterable.foo = \"hello\";\n",
    "\n",
    "// @ts-ignore\n",
    "iterable.bar = () => {};\n",
    "\n",
    "for (const i in iterable) {\n",
    "  console.log(i);\n",
    "}"
   ]
  },
  {
   "cell_type": "code",
   "execution_count": 34,
   "id": "70f36208-68dc-48e5-a480-5f310f5df678",
   "metadata": {},
   "outputs": [
    {
     "name": "stdout",
     "output_type": "stream",
     "text": [
      "\u001b[33m3\u001b[39m\n",
      "\u001b[33m5\u001b[39m\n",
      "\u001b[33m7\u001b[39m\n"
     ]
    }
   ],
   "source": [
    "for (const i of iterable) {\n",
    "  console.log(i);\n",
    "}"
   ]
  },
  {
   "cell_type": "code",
   "execution_count": 35,
   "id": "b6b14b59-7bd3-4b6f-bb6c-da2d8c14497e",
   "metadata": {},
   "outputs": [
    {
     "name": "stdout",
     "output_type": "stream",
     "text": [
      "0\n",
      "1\n",
      "2\n",
      "foo\n",
      "bar\n"
     ]
    }
   ],
   "source": [
    "// \"fixing\" for..in\n",
    "for (const i in iterable) {\n",
    "  if (iterable.hasOwnProperty(i)) {\n",
    "    console.log(i);\n",
    "  }\n",
    "}"
   ]
  },
  {
   "cell_type": "markdown",
   "id": "2d6e4dd3-85d5-4e44-a5ec-d2d265edea05",
   "metadata": {},
   "source": [
    "## Generators"
   ]
  },
  {
   "cell_type": "markdown",
   "id": "4cfbeba9-a6bd-41af-bef9-4500bdba0394",
   "metadata": {},
   "source": [
    "https://github.com/sudheerj/javascript-interview-questions#46-what-is-the-output-of-below-code\n",
    "\n",
    "A return statement in a generator function will make the generator finish. \n",
    "\n",
    "When a generator is finished, subsequent `next()` calls will always return `{ value: undefined }`."
   ]
  },
  {
   "cell_type": "code",
   "execution_count": 4,
   "id": "b067ab5c-143b-49ec-bd9b-5653fbb079f9",
   "metadata": {},
   "outputs": [
    {
     "name": "stdout",
     "output_type": "stream",
     "text": [
      "{ value: \u001b[33m1\u001b[39m, done: \u001b[33mfalse\u001b[39m }\n",
      "{ value: \u001b[33m2\u001b[39m, done: \u001b[33mtrue\u001b[39m }\n",
      "{ value: \u001b[90mundefined\u001b[39m, done: \u001b[33mtrue\u001b[39m }\n"
     ]
    }
   ],
   "source": [
    "function* yieldAndReturn() {\n",
    "  yield 1;\n",
    "  return 2;\n",
    "  yield 3;\n",
    "}\n",
    "\n",
    "var myGenObj = yieldAndReturn();\n",
    "console.log(myGenObj.next());\n",
    "console.log(myGenObj.next());\n",
    "console.log(myGenObj.next());"
   ]
  },
  {
   "cell_type": "markdown",
   "id": "f216769e-990c-48f4-86f1-4d9e6e56f3b6",
   "metadata": {},
   "source": [
    "https://github.com/sudheerj/javascript-interview-questions#47-what-is-the-output-of-below-code\n",
    "\n",
    "Upon exiting a loop(on completion or using break & return), the generator is closed and trying to iterate over it again does not yield any more results."
   ]
  },
  {
   "cell_type": "code",
   "execution_count": 5,
   "id": "f37183a1-3ba4-4cca-9224-724329dc56b2",
   "metadata": {},
   "outputs": [
    {
     "name": "stdout",
     "output_type": "stream",
     "text": [
      "\u001b[33m1\u001b[39m\n"
     ]
    }
   ],
   "source": [
    "const myGenerator = (function* () {\n",
    "  yield 1;\n",
    "  yield 2;\n",
    "  yield 3;\n",
    "})();\n",
    "\n",
    "for (const value of myGenerator) {\n",
    "  console.log(value);\n",
    "  break;\n",
    "}\n",
    "\n",
    "for (const value of myGenerator) {\n",
    "  console.log(value);\n",
    "}"
   ]
  }
 ],
 "metadata": {
  "kernelspec": {
   "display_name": "JavaScript",
   "language": "javascript",
   "name": "jslab"
  },
  "language_info": {
   "file_extension": ".js",
   "mimetype": "text/javascript",
   "name": "javascript",
   "version": ""
  }
 },
 "nbformat": 4,
 "nbformat_minor": 5
}
