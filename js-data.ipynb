{
 "cells": [
  {
   "cell_type": "markdown",
   "id": "196206c7-70c9-4d08-beeb-f4b479c8a9ae",
   "metadata": {},
   "source": [
    "# JS: data"
   ]
  },
  {
   "cell_type": "markdown",
   "id": "7b477c06-64a2-48c6-b12b-11ed7af1757e",
   "metadata": {},
   "source": [
    "## Set, WeakSet differences"
   ]
  },
  {
   "cell_type": "code",
   "execution_count": 26,
   "id": "1c37ac11-1e88-439b-a32a-54a0713b9947",
   "metadata": {},
   "outputs": [],
   "source": [
    "var john = { name: \"John\" };\n",
    "var pete = { name: \"Pete\" };\n",
    "var mary = { name: \"Mary\" };\n",
    "\n",
    "function checkSet(set) {    \n",
    "    set.add(john);\n",
    "    set.add(pete);\n",
    "\n",
    "    // unique!\n",
    "    set.add(john);\n",
    "\n",
    "    console.log(set);\n",
    "\n",
    "    console.log('has John:', set.has(john));\n",
    "    console.log('has Pete:', set.has(pete));\n",
    "    console.log('has Mary:', set.has(mary));\n",
    "\n",
    "    console.log('size:', set.size);\n",
    "\n",
    "    set.delete(john);\n",
    "\n",
    "    console.log('set after John delete:', set);\n",
    "\n",
    "    console.log('has John after delete:', set.has(john));\n",
    "}\n",
    "\n",
    "function checkSetClear(set) {\n",
    "    set.clear();\n",
    "\n",
    "    console.log('has Pete after delete:', set.has(pete));\n",
    "}"
   ]
  },
  {
   "cell_type": "code",
   "execution_count": 27,
   "id": "189da909-c6ee-4286-bacd-a7301e6e3449",
   "metadata": {},
   "outputs": [
    {
     "name": "stdout",
     "output_type": "stream",
     "text": [
      "Set(2) { { name: \u001b[32m'John'\u001b[39m }, { name: \u001b[32m'Pete'\u001b[39m } }\n",
      "has John: \u001b[33mtrue\u001b[39m\n",
      "has Pete: \u001b[33mtrue\u001b[39m\n",
      "has Mary: \u001b[33mfalse\u001b[39m\n",
      "size: \u001b[33m2\u001b[39m\n",
      "set after John delete: Set(1) { { name: \u001b[32m'Pete'\u001b[39m } }\n",
      "has John after delete: \u001b[33mfalse\u001b[39m\n"
     ]
    }
   ],
   "source": [
    "var set = new Set();\n",
    "\n",
    "checkSet(set);\n",
    "checkSetClear(set);"
   ]
  },
  {
   "cell_type": "code",
   "execution_count": 30,
   "id": "07e13b09-51b9-42cb-8f23-0ed3115a83ef",
   "metadata": {},
   "outputs": [
    {
     "name": "stdout",
     "output_type": "stream",
     "text": [
      "WeakSet { \u001b[36m<items unknown>\u001b[39m }\n",
      "has John: \u001b[33mtrue\u001b[39m\n",
      "has Pete: \u001b[33mtrue\u001b[39m\n",
      "has Mary: \u001b[33mfalse\u001b[39m\n",
      "size: \u001b[90mundefined\u001b[39m\n",
      "set after John delete: WeakSet { \u001b[36m<items unknown>\u001b[39m }\n",
      "has John after delete: \u001b[33mfalse\u001b[39m\n"
     ]
    }
   ],
   "source": [
    "var set = new WeakSet();\n",
    "\n",
    "checkSet(set);"
   ]
  }
 ],
 "metadata": {
  "kernelspec": {
   "display_name": "JavaScript",
   "language": "javascript",
   "name": "jslab"
  },
  "language_info": {
   "file_extension": ".js",
   "mimetype": "text/javascript",
   "name": "javascript",
   "version": ""
  }
 },
 "nbformat": 4,
 "nbformat_minor": 5
}
