{
 "cells": [
  {
   "cell_type": "markdown",
   "id": "196206c7-70c9-4d08-beeb-f4b479c8a9ae",
   "metadata": {},
   "source": [
    "# JS: data"
   ]
  },
  {
   "cell_type": "markdown",
   "id": "7b477c06-64a2-48c6-b12b-11ed7af1757e",
   "metadata": {},
   "source": [
    "## Set, WeakSet differences\n",
    "\n",
    "https://javascript.info/weakmap-weakset"
   ]
  },
  {
   "cell_type": "code",
   "execution_count": 37,
   "id": "1c37ac11-1e88-439b-a32a-54a0713b9947",
   "metadata": {},
   "outputs": [],
   "source": [
    "var john = { name: \"John\" };\n",
    "var pete = { name: \"Pete\" };\n",
    "var mary = { name: \"Mary\" };\n",
    "\n",
    "function checkSet(set) {    \n",
    "    set.add(john);\n",
    "    set.add(pete);\n",
    "\n",
    "    // unique!\n",
    "    set.add(john);\n",
    "\n",
    "    console.log(set);\n",
    "\n",
    "    console.log('has John:', set.has(john));\n",
    "    console.log('has Pete:', set.has(pete));\n",
    "    console.log('has Mary:', set.has(mary));\n",
    "\n",
    "    console.log('size:', set.size);\n",
    "\n",
    "    set.delete(john);\n",
    "\n",
    "    console.log('set after John delete:', set);\n",
    "\n",
    "    console.log('has John after delete:', set.has(john));\n",
    "}\n",
    "\n",
    "function checkSetClear(set) {\n",
    "    set.clear();\n",
    "\n",
    "    console.log('has Pete after delete:', set.has(pete));\n",
    "}\n",
    "\n",
    "function checkSetAddNotObjectElement(set) {\n",
    "    console.log('Trying to add string value');\n",
    "\n",
    "    set.add('string value');\n",
    "    console.log(set);\n",
    "}"
   ]
  },
  {
   "cell_type": "code",
   "execution_count": 38,
   "id": "189da909-c6ee-4286-bacd-a7301e6e3449",
   "metadata": {},
   "outputs": [
    {
     "name": "stdout",
     "output_type": "stream",
     "text": [
      "Set(2) { { name: \u001b[32m'John'\u001b[39m }, { name: \u001b[32m'Pete'\u001b[39m } }\n",
      "has John: \u001b[33mtrue\u001b[39m\n",
      "has Pete: \u001b[33mtrue\u001b[39m\n",
      "has Mary: \u001b[33mfalse\u001b[39m\n",
      "size: \u001b[33m2\u001b[39m\n",
      "set after John delete: Set(1) { { name: \u001b[32m'Pete'\u001b[39m } }\n",
      "has John after delete: \u001b[33mfalse\u001b[39m\n",
      "has Pete after delete: \u001b[33mfalse\u001b[39m\n",
      "Trying to add string value\n",
      "Set(1) { \u001b[32m'string value'\u001b[39m }\n"
     ]
    }
   ],
   "source": [
    "var set = new Set();\n",
    "\n",
    "checkSet(set);\n",
    "checkSetClear(set);\n",
    "checkSetAddNotObjectElement(set);"
   ]
  },
  {
   "cell_type": "code",
   "execution_count": 31,
   "id": "07e13b09-51b9-42cb-8f23-0ed3115a83ef",
   "metadata": {},
   "outputs": [
    {
     "name": "stdout",
     "output_type": "stream",
     "text": [
      "WeakSet { \u001b[36m<items unknown>\u001b[39m }\n",
      "has John: \u001b[33mtrue\u001b[39m\n",
      "has Pete: \u001b[33mtrue\u001b[39m\n",
      "has Mary: \u001b[33mfalse\u001b[39m\n",
      "size: \u001b[90mundefined\u001b[39m\n",
      "set after John delete: WeakSet { \u001b[36m<items unknown>\u001b[39m }\n",
      "has John after delete: \u001b[33mfalse\u001b[39m\n"
     ]
    }
   ],
   "source": [
    "var weakSet = new WeakSet();\n",
    "\n",
    "checkSet(weakSet);"
   ]
  },
  {
   "cell_type": "code",
   "execution_count": 32,
   "id": "db25f265-0090-42eb-9cd5-07dd683a7f6f",
   "metadata": {},
   "outputs": [
    {
     "name": "stderr",
     "output_type": "stream",
     "text": [
      "evalmachine.<anonymous>:25\n",
      "    set.clear();\n",
      "        ^\n",
      "\n",
      "TypeError: set.clear is not a function\n",
      "    at Proxy.checkSetClear (evalmachine.<anonymous>:25:9)\n",
      "    at evalmachine.<anonymous>:3:30\n",
      "    at evalmachine.<anonymous>:5:3\n",
      "\u001b[90m    at sigintHandlersWrap (vm.js:273:12)\u001b[39m\n",
      "\u001b[90m    at Script.runInThisContext (vm.js:131:14)\u001b[39m\n",
      "\u001b[90m    at Object.runInThisContext (vm.js:310:38)\u001b[39m\n",
      "    at Object.execute (/home/d9k/.nvm/versions/node/v14.16.1/lib/node_modules/\u001b[4mtslab\u001b[24m/dist/executor.js:160:38)\n",
      "    at JupyterHandlerImpl.handleExecuteImpl (/home/d9k/.nvm/versions/node/v14.16.1/lib/node_modules/\u001b[4mtslab\u001b[24m/dist/jupyter.js:223:38)\n",
      "    at /home/d9k/.nvm/versions/node/v14.16.1/lib/node_modules/\u001b[4mtslab\u001b[24m/dist/jupyter.js:181:57\n",
      "    at async JupyterHandlerImpl.handleExecute (/home/d9k/.nvm/versions/node/v14.16.1/lib/node_modules/\u001b[4mtslab\u001b[24m/dist/jupyter.js:181:21)\n"
     ]
    }
   ],
   "source": [
    "checkSetClear(weakSet);"
   ]
  },
  {
   "cell_type": "code",
   "execution_count": 39,
   "id": "c1af019d-1e8f-4d54-9642-dd6a53df4d26",
   "metadata": {},
   "outputs": [
    {
     "name": "stdout",
     "output_type": "stream",
     "text": [
      "Trying to add string value\n"
     ]
    },
    {
     "name": "stderr",
     "output_type": "stream",
     "text": [
      "evalmachine.<anonymous>:31\n",
      "    set.add('string value');\n",
      "        ^\n",
      "\n",
      "TypeError: Invalid value used in weak set\n",
      "    at WeakSet.add (<anonymous>)\n",
      "    at Proxy.checkSetAddNotObjectElement (evalmachine.<anonymous>:31:9)\n",
      "    at evalmachine.<anonymous>:3:30\n",
      "    at evalmachine.<anonymous>:5:3\n",
      "\u001b[90m    at sigintHandlersWrap (vm.js:273:12)\u001b[39m\n",
      "\u001b[90m    at Script.runInThisContext (vm.js:131:14)\u001b[39m\n",
      "\u001b[90m    at Object.runInThisContext (vm.js:310:38)\u001b[39m\n",
      "    at Object.execute (/home/d9k/.nvm/versions/node/v14.16.1/lib/node_modules/\u001b[4mtslab\u001b[24m/dist/executor.js:160:38)\n",
      "    at JupyterHandlerImpl.handleExecuteImpl (/home/d9k/.nvm/versions/node/v14.16.1/lib/node_modules/\u001b[4mtslab\u001b[24m/dist/jupyter.js:223:38)\n",
      "    at /home/d9k/.nvm/versions/node/v14.16.1/lib/node_modules/\u001b[4mtslab\u001b[24m/dist/jupyter.js:181:57\n"
     ]
    }
   ],
   "source": [
    "checkSetAddNotObjectElement(weakSet)"
   ]
  },
  {
   "cell_type": "markdown",
   "id": "94c69ff1-0115-4d04-8a22-9baa43324b39",
   "metadata": {},
   "source": [
    "## Simulate enums"
   ]
  },
  {
   "cell_type": "code",
   "execution_count": 8,
   "id": "0681d195-87db-4920-89cf-b2c8f5c21fb2",
   "metadata": {},
   "outputs": [
    {
     "name": "stdout",
     "output_type": "stream",
     "text": [
      "{ monday: \u001b[32m'monday'\u001b[39m, tuesday: \u001b[32m'tuesday'\u001b[39m, wednesday: \u001b[32m'wednesday'\u001b[39m }\n"
     ]
    }
   ],
   "source": [
    "var DaysEnum = Object.freeze({monday: 'monday', tuesday: 'tuesday', wednesday: 'wednesday'});\n",
    "console.log(DaysEnum);"
   ]
  },
  {
   "cell_type": "code",
   "execution_count": 9,
   "id": "53ecb1d1-d2f7-4de3-a013-ad6e5e9b28b8",
   "metadata": {},
   "outputs": [
    {
     "name": "stderr",
     "output_type": "stream",
     "text": [
      "1:10 - Cannot assign to 'wednesday' because it is a read-only property.\n"
     ]
    }
   ],
   "source": [
    "DaysEnum.wednesday = 'sreda';"
   ]
  },
  {
   "cell_type": "markdown",
   "id": "e362238a-d262-489d-af48-7e2f609d292d",
   "metadata": {},
   "source": [
    "## Typed arrays"
   ]
  },
  {
   "cell_type": "code",
   "execution_count": 28,
   "id": "7880e114-e741-4b3d-b3fe-a40f474569a6",
   "metadata": {},
   "outputs": [
    {
     "name": "stdout",
     "output_type": "stream",
     "text": [
      "Int8Array(8) [\n",
      "   \u001b[33m-40\u001b[39m,  \u001b[33m4\u001b[39m,  \u001b[33m127\u001b[39m,\n",
      "  \u001b[33m-128\u001b[39m, \u001b[33m-1\u001b[39m, \u001b[33m-128\u001b[39m,\n",
      "   \u001b[33m127\u001b[39m,  \u001b[33m0\u001b[39m\n",
      "]\n"
     ]
    }
   ],
   "source": [
    "var bytes = 8;\n",
    "var a = new Int8Array(bytes);\n",
    "a.set([216, 4, 127, 128, -1, -128, -129]);\n",
    "console.log(a);"
   ]
  },
  {
   "cell_type": "code",
   "execution_count": 31,
   "id": "017d07b8-b744-47a5-be05-3e461d294da0",
   "metadata": {},
   "outputs": [
    {
     "name": "stdout",
     "output_type": "stream",
     "text": [
      "Uint8Array(12) [\n",
      "  \u001b[33m216\u001b[39m,   \u001b[33m4\u001b[39m, \u001b[33m127\u001b[39m, \u001b[33m128\u001b[39m, \u001b[33m255\u001b[39m,\n",
      "  \u001b[33m128\u001b[39m, \u001b[33m127\u001b[39m, \u001b[33m255\u001b[39m,   \u001b[33m0\u001b[39m,   \u001b[33m1\u001b[39m,\n",
      "    \u001b[33m0\u001b[39m,   \u001b[33m0\u001b[39m\n",
      "]\n"
     ]
    }
   ],
   "source": [
    "var bytes = 12;\n",
    "var a = new Uint8Array(bytes);\n",
    "a.set([216, 4, 127, 128, -1, -128, -129, 255, 256, 257]);\n",
    "console.log(a);"
   ]
  },
  {
   "cell_type": "code",
   "execution_count": 32,
   "id": "356b8c13-b0e3-4453-945e-649c8136cce1",
   "metadata": {},
   "outputs": [
    {
     "name": "stderr",
     "output_type": "stream",
     "text": [
      "1:3 - Property 'push' does not exist on type 'Uint8Array'.\n"
     ]
    }
   ],
   "source": [
    "a.push(120);"
   ]
  },
  {
   "cell_type": "code",
   "execution_count": 37,
   "id": "a680c2ee-41aa-47af-ab7a-903a55eca686",
   "metadata": {},
   "outputs": [
    {
     "name": "stdout",
     "output_type": "stream",
     "text": [
      "\u001b[33m111\u001b[39m\n"
     ]
    }
   ],
   "source": [
    "a[11] = 111;"
   ]
  },
  {
   "cell_type": "code",
   "execution_count": 38,
   "id": "c48ba878-fbd4-480e-82b1-7f3aca78b6ed",
   "metadata": {},
   "outputs": [
    {
     "name": "stdout",
     "output_type": "stream",
     "text": [
      "Uint8Array(12) [\n",
      "  \u001b[33m216\u001b[39m,   \u001b[33m4\u001b[39m, \u001b[33m127\u001b[39m, \u001b[33m128\u001b[39m, \u001b[33m255\u001b[39m,\n",
      "  \u001b[33m128\u001b[39m, \u001b[33m127\u001b[39m, \u001b[33m255\u001b[39m,   \u001b[33m0\u001b[39m,   \u001b[33m1\u001b[39m,\n",
      "    \u001b[33m0\u001b[39m, \u001b[33m111\u001b[39m\n",
      "]\n"
     ]
    }
   ],
   "source": [
    "a"
   ]
  },
  {
   "cell_type": "markdown",
   "id": "4dd97cf5-36c6-4247-85d4-6435a145b3b6",
   "metadata": {},
   "source": [
    "## How do you create an array with repeated value"
   ]
  },
  {
   "cell_type": "code",
   "execution_count": 6,
   "id": "074d3dad-6b8c-4992-892d-8e3f31f9ef2c",
   "metadata": {},
   "outputs": [
    {
     "name": "stdout",
     "output_type": "stream",
     "text": [
      "[ \u001b[32m'zero'\u001b[39m, \u001b[32m'zero'\u001b[39m, \u001b[32m'zero'\u001b[39m, \u001b[32m'zero'\u001b[39m, \u001b[32m'zero'\u001b[39m ]\n"
     ]
    }
   ],
   "source": [
    "new Array(5).fill('zero')"
   ]
  }
 ],
 "metadata": {
  "kernelspec": {
   "display_name": "JavaScript",
   "language": "javascript",
   "name": "jslab"
  },
  "language_info": {
   "file_extension": ".js",
   "mimetype": "text/javascript",
   "name": "javascript",
   "version": ""
  }
 },
 "nbformat": 4,
 "nbformat_minor": 5
}
