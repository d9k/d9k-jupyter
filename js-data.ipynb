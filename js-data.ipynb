{
 "cells": [
  {
   "cell_type": "markdown",
   "id": "196206c7-70c9-4d08-beeb-f4b479c8a9ae",
   "metadata": {},
   "source": [
    "# JS: data"
   ]
  },
  {
   "cell_type": "markdown",
   "id": "7b477c06-64a2-48c6-b12b-11ed7af1757e",
   "metadata": {},
   "source": [
    "## Set, WeakSet differences\n",
    "\n",
    "https://javascript.info/weakmap-weakset"
   ]
  },
  {
   "cell_type": "code",
   "execution_count": 37,
   "id": "1c37ac11-1e88-439b-a32a-54a0713b9947",
   "metadata": {},
   "outputs": [],
   "source": [
    "var john = { name: \"John\" };\n",
    "var pete = { name: \"Pete\" };\n",
    "var mary = { name: \"Mary\" };\n",
    "\n",
    "function checkSet(set) {    \n",
    "    set.add(john);\n",
    "    set.add(pete);\n",
    "\n",
    "    // unique!\n",
    "    set.add(john);\n",
    "\n",
    "    console.log(set);\n",
    "\n",
    "    console.log('has John:', set.has(john));\n",
    "    console.log('has Pete:', set.has(pete));\n",
    "    console.log('has Mary:', set.has(mary));\n",
    "\n",
    "    console.log('size:', set.size);\n",
    "\n",
    "    set.delete(john);\n",
    "\n",
    "    console.log('set after John delete:', set);\n",
    "\n",
    "    console.log('has John after delete:', set.has(john));\n",
    "}\n",
    "\n",
    "function checkSetClear(set) {\n",
    "    set.clear();\n",
    "\n",
    "    console.log('has Pete after delete:', set.has(pete));\n",
    "}\n",
    "\n",
    "function checkSetAddNotObjectElement(set) {\n",
    "    console.log('Trying to add string value');\n",
    "\n",
    "    set.add('string value');\n",
    "    console.log(set);\n",
    "}"
   ]
  },
  {
   "cell_type": "code",
   "execution_count": 38,
   "id": "189da909-c6ee-4286-bacd-a7301e6e3449",
   "metadata": {},
   "outputs": [
    {
     "name": "stdout",
     "output_type": "stream",
     "text": [
      "Set(2) { { name: \u001b[32m'John'\u001b[39m }, { name: \u001b[32m'Pete'\u001b[39m } }\n",
      "has John: \u001b[33mtrue\u001b[39m\n",
      "has Pete: \u001b[33mtrue\u001b[39m\n",
      "has Mary: \u001b[33mfalse\u001b[39m\n",
      "size: \u001b[33m2\u001b[39m\n",
      "set after John delete: Set(1) { { name: \u001b[32m'Pete'\u001b[39m } }\n",
      "has John after delete: \u001b[33mfalse\u001b[39m\n",
      "has Pete after delete: \u001b[33mfalse\u001b[39m\n",
      "Trying to add string value\n",
      "Set(1) { \u001b[32m'string value'\u001b[39m }\n"
     ]
    }
   ],
   "source": [
    "var set = new Set();\n",
    "\n",
    "checkSet(set);\n",
    "checkSetClear(set);\n",
    "checkSetAddNotObjectElement(set);"
   ]
  },
  {
   "cell_type": "code",
   "execution_count": 31,
   "id": "07e13b09-51b9-42cb-8f23-0ed3115a83ef",
   "metadata": {},
   "outputs": [
    {
     "name": "stdout",
     "output_type": "stream",
     "text": [
      "WeakSet { \u001b[36m<items unknown>\u001b[39m }\n",
      "has John: \u001b[33mtrue\u001b[39m\n",
      "has Pete: \u001b[33mtrue\u001b[39m\n",
      "has Mary: \u001b[33mfalse\u001b[39m\n",
      "size: \u001b[90mundefined\u001b[39m\n",
      "set after John delete: WeakSet { \u001b[36m<items unknown>\u001b[39m }\n",
      "has John after delete: \u001b[33mfalse\u001b[39m\n"
     ]
    }
   ],
   "source": [
    "var weakSet = new WeakSet();\n",
    "\n",
    "checkSet(weakSet);"
   ]
  },
  {
   "cell_type": "code",
   "execution_count": 32,
   "id": "db25f265-0090-42eb-9cd5-07dd683a7f6f",
   "metadata": {},
   "outputs": [
    {
     "name": "stderr",
     "output_type": "stream",
     "text": [
      "evalmachine.<anonymous>:25\n",
      "    set.clear();\n",
      "        ^\n",
      "\n",
      "TypeError: set.clear is not a function\n",
      "    at Proxy.checkSetClear (evalmachine.<anonymous>:25:9)\n",
      "    at evalmachine.<anonymous>:3:30\n",
      "    at evalmachine.<anonymous>:5:3\n",
      "\u001b[90m    at sigintHandlersWrap (vm.js:273:12)\u001b[39m\n",
      "\u001b[90m    at Script.runInThisContext (vm.js:131:14)\u001b[39m\n",
      "\u001b[90m    at Object.runInThisContext (vm.js:310:38)\u001b[39m\n",
      "    at Object.execute (/home/d9k/.nvm/versions/node/v14.16.1/lib/node_modules/\u001b[4mtslab\u001b[24m/dist/executor.js:160:38)\n",
      "    at JupyterHandlerImpl.handleExecuteImpl (/home/d9k/.nvm/versions/node/v14.16.1/lib/node_modules/\u001b[4mtslab\u001b[24m/dist/jupyter.js:223:38)\n",
      "    at /home/d9k/.nvm/versions/node/v14.16.1/lib/node_modules/\u001b[4mtslab\u001b[24m/dist/jupyter.js:181:57\n",
      "    at async JupyterHandlerImpl.handleExecute (/home/d9k/.nvm/versions/node/v14.16.1/lib/node_modules/\u001b[4mtslab\u001b[24m/dist/jupyter.js:181:21)\n"
     ]
    }
   ],
   "source": [
    "checkSetClear(weakSet);"
   ]
  },
  {
   "cell_type": "code",
   "execution_count": 39,
   "id": "c1af019d-1e8f-4d54-9642-dd6a53df4d26",
   "metadata": {},
   "outputs": [
    {
     "name": "stdout",
     "output_type": "stream",
     "text": [
      "Trying to add string value\n"
     ]
    },
    {
     "name": "stderr",
     "output_type": "stream",
     "text": [
      "evalmachine.<anonymous>:31\n",
      "    set.add('string value');\n",
      "        ^\n",
      "\n",
      "TypeError: Invalid value used in weak set\n",
      "    at WeakSet.add (<anonymous>)\n",
      "    at Proxy.checkSetAddNotObjectElement (evalmachine.<anonymous>:31:9)\n",
      "    at evalmachine.<anonymous>:3:30\n",
      "    at evalmachine.<anonymous>:5:3\n",
      "\u001b[90m    at sigintHandlersWrap (vm.js:273:12)\u001b[39m\n",
      "\u001b[90m    at Script.runInThisContext (vm.js:131:14)\u001b[39m\n",
      "\u001b[90m    at Object.runInThisContext (vm.js:310:38)\u001b[39m\n",
      "    at Object.execute (/home/d9k/.nvm/versions/node/v14.16.1/lib/node_modules/\u001b[4mtslab\u001b[24m/dist/executor.js:160:38)\n",
      "    at JupyterHandlerImpl.handleExecuteImpl (/home/d9k/.nvm/versions/node/v14.16.1/lib/node_modules/\u001b[4mtslab\u001b[24m/dist/jupyter.js:223:38)\n",
      "    at /home/d9k/.nvm/versions/node/v14.16.1/lib/node_modules/\u001b[4mtslab\u001b[24m/dist/jupyter.js:181:57\n"
     ]
    }
   ],
   "source": [
    "checkSetAddNotObjectElement(weakSet)"
   ]
  },
  {
   "cell_type": "markdown",
   "id": "67038d74-f88c-473c-8975-7886c5e1055b",
   "metadata": {},
   "source": [
    "- https://github.com/sudheerj/javascript-interview-questions#20-what-is-the-output-of-below-code"
   ]
  },
  {
   "cell_type": "code",
   "execution_count": 38,
   "id": "e32a4e18-2e0b-4730-9f63-5e61e3f881ef",
   "metadata": {},
   "outputs": [
    {
     "name": "stdout",
     "output_type": "stream",
     "text": [
      "Set(4) { \u001b[33m1\u001b[39m, \u001b[33m2\u001b[39m, \u001b[33m3\u001b[39m, \u001b[33m4\u001b[39m }\n",
      "Set(7) { \u001b[32m'F'\u001b[39m, \u001b[32m'i'\u001b[39m, \u001b[32m'r'\u001b[39m, \u001b[32m'e'\u001b[39m, \u001b[32m'f'\u001b[39m, \u001b[32m'o'\u001b[39m, \u001b[32m'x'\u001b[39m }\n"
     ]
    }
   ],
   "source": [
    "console.log(new Set([1, 1, 2, 3, 4]));\n",
    "console.log(new Set(\"Firefox\"));"
   ]
  },
  {
   "cell_type": "code",
   "execution_count": 39,
   "id": "03064b1c-c798-490a-bbf5-0fdb04c23134",
   "metadata": {},
   "outputs": [
    {
     "name": "stdout",
     "output_type": "stream",
     "text": [
      "Set(6) { \u001b[32m'f'\u001b[39m, \u001b[32m'i'\u001b[39m, \u001b[32m'r'\u001b[39m, \u001b[32m'e'\u001b[39m, \u001b[32m'o'\u001b[39m, \u001b[32m'x'\u001b[39m }\n"
     ]
    }
   ],
   "source": [
    "console.log(new Set(\"firefox\"));"
   ]
  },
  {
   "cell_type": "markdown",
   "id": "94c69ff1-0115-4d04-8a22-9baa43324b39",
   "metadata": {},
   "source": [
    "## Simulate enums"
   ]
  },
  {
   "cell_type": "code",
   "execution_count": 8,
   "id": "0681d195-87db-4920-89cf-b2c8f5c21fb2",
   "metadata": {},
   "outputs": [
    {
     "name": "stdout",
     "output_type": "stream",
     "text": [
      "{ monday: \u001b[32m'monday'\u001b[39m, tuesday: \u001b[32m'tuesday'\u001b[39m, wednesday: \u001b[32m'wednesday'\u001b[39m }\n"
     ]
    }
   ],
   "source": [
    "var DaysEnum = Object.freeze({monday: 'monday', tuesday: 'tuesday', wednesday: 'wednesday'});\n",
    "console.log(DaysEnum);"
   ]
  },
  {
   "cell_type": "code",
   "execution_count": 9,
   "id": "53ecb1d1-d2f7-4de3-a013-ad6e5e9b28b8",
   "metadata": {},
   "outputs": [
    {
     "name": "stderr",
     "output_type": "stream",
     "text": [
      "1:10 - Cannot assign to 'wednesday' because it is a read-only property.\n"
     ]
    }
   ],
   "source": [
    "DaysEnum.wednesday = 'sreda';"
   ]
  },
  {
   "cell_type": "markdown",
   "id": "e362238a-d262-489d-af48-7e2f609d292d",
   "metadata": {},
   "source": [
    "## Typed arrays"
   ]
  },
  {
   "cell_type": "code",
   "execution_count": 28,
   "id": "7880e114-e741-4b3d-b3fe-a40f474569a6",
   "metadata": {},
   "outputs": [
    {
     "name": "stdout",
     "output_type": "stream",
     "text": [
      "Int8Array(8) [\n",
      "   \u001b[33m-40\u001b[39m,  \u001b[33m4\u001b[39m,  \u001b[33m127\u001b[39m,\n",
      "  \u001b[33m-128\u001b[39m, \u001b[33m-1\u001b[39m, \u001b[33m-128\u001b[39m,\n",
      "   \u001b[33m127\u001b[39m,  \u001b[33m0\u001b[39m\n",
      "]\n"
     ]
    }
   ],
   "source": [
    "var bytes = 8;\n",
    "var a = new Int8Array(bytes);\n",
    "a.set([216, 4, 127, 128, -1, -128, -129]);\n",
    "console.log(a);"
   ]
  },
  {
   "cell_type": "code",
   "execution_count": 31,
   "id": "017d07b8-b744-47a5-be05-3e461d294da0",
   "metadata": {},
   "outputs": [
    {
     "name": "stdout",
     "output_type": "stream",
     "text": [
      "Uint8Array(12) [\n",
      "  \u001b[33m216\u001b[39m,   \u001b[33m4\u001b[39m, \u001b[33m127\u001b[39m, \u001b[33m128\u001b[39m, \u001b[33m255\u001b[39m,\n",
      "  \u001b[33m128\u001b[39m, \u001b[33m127\u001b[39m, \u001b[33m255\u001b[39m,   \u001b[33m0\u001b[39m,   \u001b[33m1\u001b[39m,\n",
      "    \u001b[33m0\u001b[39m,   \u001b[33m0\u001b[39m\n",
      "]\n"
     ]
    }
   ],
   "source": [
    "var bytes = 12;\n",
    "var a = new Uint8Array(bytes);\n",
    "a.set([216, 4, 127, 128, -1, -128, -129, 255, 256, 257]);\n",
    "console.log(a);"
   ]
  },
  {
   "cell_type": "code",
   "execution_count": 32,
   "id": "356b8c13-b0e3-4453-945e-649c8136cce1",
   "metadata": {},
   "outputs": [
    {
     "name": "stderr",
     "output_type": "stream",
     "text": [
      "1:3 - Property 'push' does not exist on type 'Uint8Array'.\n"
     ]
    }
   ],
   "source": [
    "a.push(120);"
   ]
  },
  {
   "cell_type": "code",
   "execution_count": 37,
   "id": "a680c2ee-41aa-47af-ab7a-903a55eca686",
   "metadata": {},
   "outputs": [
    {
     "name": "stdout",
     "output_type": "stream",
     "text": [
      "\u001b[33m111\u001b[39m\n"
     ]
    }
   ],
   "source": [
    "a[11] = 111;"
   ]
  },
  {
   "cell_type": "code",
   "execution_count": 38,
   "id": "c48ba878-fbd4-480e-82b1-7f3aca78b6ed",
   "metadata": {},
   "outputs": [
    {
     "name": "stdout",
     "output_type": "stream",
     "text": [
      "Uint8Array(12) [\n",
      "  \u001b[33m216\u001b[39m,   \u001b[33m4\u001b[39m, \u001b[33m127\u001b[39m, \u001b[33m128\u001b[39m, \u001b[33m255\u001b[39m,\n",
      "  \u001b[33m128\u001b[39m, \u001b[33m127\u001b[39m, \u001b[33m255\u001b[39m,   \u001b[33m0\u001b[39m,   \u001b[33m1\u001b[39m,\n",
      "    \u001b[33m0\u001b[39m, \u001b[33m111\u001b[39m\n",
      "]\n"
     ]
    }
   ],
   "source": [
    "a"
   ]
  },
  {
   "cell_type": "markdown",
   "id": "4dd97cf5-36c6-4247-85d4-6435a145b3b6",
   "metadata": {},
   "source": [
    "## How do you create an array with repeated value"
   ]
  },
  {
   "cell_type": "code",
   "execution_count": 6,
   "id": "074d3dad-6b8c-4992-892d-8e3f31f9ef2c",
   "metadata": {},
   "outputs": [
    {
     "name": "stdout",
     "output_type": "stream",
     "text": [
      "[ \u001b[32m'zero'\u001b[39m, \u001b[32m'zero'\u001b[39m, \u001b[32m'zero'\u001b[39m, \u001b[32m'zero'\u001b[39m, \u001b[32m'zero'\u001b[39m ]\n"
     ]
    }
   ],
   "source": [
    "new Array(5).fill('zero')"
   ]
  },
  {
   "cell_type": "markdown",
   "id": "bc0249bf-1291-49ba-8d4f-351c37821290",
   "metadata": {},
   "source": [
    "## How do you empty array"
   ]
  },
  {
   "cell_type": "code",
   "execution_count": 2,
   "id": "8338f4b0-fdde-4611-8fa7-c1ca259447f4",
   "metadata": {},
   "outputs": [
    {
     "name": "stdout",
     "output_type": "stream",
     "text": [
      "[ \u001b[32m'Singapore'\u001b[39m, \u001b[32m'Delhi'\u001b[39m, \u001b[32m'London'\u001b[39m ]\n",
      "The same array object: \u001b[33mtrue\u001b[39m\n",
      "[]\n",
      "The same array object: \u001b[33mtrue\u001b[39m\n",
      "[]\n",
      "The same array object: \u001b[33mtrue\u001b[39m\n",
      "[]\n",
      "The same array object: \u001b[33mfalse\u001b[39m\n",
      "[]\n"
     ]
    }
   ],
   "source": [
    "var cities = [];\n",
    "var citiesRefCopy = cities;\n",
    "\n",
    "function resetCities() {\n",
    "    cities.push(\"Singapore\");\n",
    "    cities.push(\"Delhi\");\n",
    "    cities.push(\"London\");\n",
    "}\n",
    "\n",
    "function checkEmpty() {\n",
    "    console.log(cities);\n",
    "    console.log('The same array object:', cities === citiesRefCopy)\n",
    "}\n",
    "\n",
    "resetCities();\n",
    "checkEmpty();\n",
    "cities.length = 0;\n",
    "checkEmpty();\n",
    "\n",
    "resetCities();\n",
    "cities.splice(0, cities.length)\n",
    "checkEmpty();\n",
    "\n",
    "cities = [];\n",
    "checkEmpty();\n",
    "\n",
    "cities = citiesRefCopy;"
   ]
  },
  {
   "cell_type": "markdown",
   "id": "7b8da99f-764c-4a33-9c93-e558271f0235",
   "metadata": {},
   "source": [
    "Array can be resized with length too:"
   ]
  },
  {
   "cell_type": "code",
   "execution_count": 4,
   "id": "4a291b49-bba3-4b20-8390-777f14f956f6",
   "metadata": {},
   "outputs": [
    {
     "name": "stdout",
     "output_type": "stream",
     "text": [
      "[ \u001b[32m'Singapore'\u001b[39m, \u001b[32m'Delhi'\u001b[39m ]\n",
      "The same array object: \u001b[33mtrue\u001b[39m\n"
     ]
    }
   ],
   "source": [
    "resetCities();\n",
    "cities.length = 2;\n",
    "checkEmpty();"
   ]
  },
  {
   "cell_type": "markdown",
   "id": "be78bfe2-1172-4d28-a9b0-7e38882c4710",
   "metadata": {},
   "source": [
    "## All ways to verify if a variable is an array?"
   ]
  },
  {
   "cell_type": "code",
   "execution_count": 11,
   "id": "475d77f8-35a1-4296-884b-9d67068e8cee",
   "metadata": {},
   "outputs": [
    {
     "name": "stdout",
     "output_type": "stream",
     "text": [
      "\u001b[33mtrue\u001b[39m\n",
      "\u001b[33mfalse\u001b[39m\n",
      "\u001b[33mtrue\u001b[39m\n",
      "\u001b[33mfalse\u001b[39m\n",
      "\u001b[33mtrue\u001b[39m\n",
      "\u001b[33mfalse\u001b[39m\n"
     ]
    }
   ],
   "source": [
    "var numbers = [1, 2, 3];\n",
    "var user = user = { name: \"John\" };\n",
    "\n",
    "console.log(Array.isArray(numbers));\n",
    "console.log(Array.isArray(user));\n",
    "\n",
    "console.log(numbers instanceof Array);\n",
    "console.log(user instanceof Array);\n",
    "\n",
    "console.log(numbers.constructor === Array);\n",
    "console.log(user.constructor === Array);"
   ]
  },
  {
   "cell_type": "markdown",
   "id": "3ffe0d1c-f6e5-45d8-ad14-49954bf3179f",
   "metadata": {},
   "source": [
    "## Wrapper objects\n",
    "\n",
    "- https://programmingwithmosh.com/javascript/javascript-wrapper-objects/"
   ]
  },
  {
   "cell_type": "markdown",
   "id": "21761038-8cdb-484e-a93a-6cbf8da41b36",
   "metadata": {},
   "source": [
    "Method can be easily added to object or array (which is object too):"
   ]
  },
  {
   "cell_type": "code",
   "execution_count": 22,
   "id": "f2cea23b-d298-4b78-966f-67558c2f5082",
   "metadata": {},
   "outputs": [
    {
     "name": "stdout",
     "output_type": "stream",
     "text": [
      "Joe, John, Jane, Julia\n"
     ]
    }
   ],
   "source": [
    "var names = ['Joe', 'John', 'Jane', 'Julia'];\n",
    "\n",
    "// @ts-ignore\n",
    "names.separator = ', ';\n",
    "\n",
    "// @ts-ignore\n",
    "names.printNames = function() {\n",
    "  // @ts-ignore\n",
    "  console.log(this.join(this.separator));\n",
    "};\n",
    "\n",
    "// @ts-ignore\n",
    "names.printNames(); //=> \"Joe, John, Jane, Julia\""
   ]
  },
  {
   "cell_type": "markdown",
   "id": "01f7a1d9-fac8-4c5b-865c-bb213cd447b5",
   "metadata": {},
   "source": [
    "But we will get `TypeError` for strings:"
   ]
  },
  {
   "cell_type": "code",
   "execution_count": 24,
   "id": "252d6373-37ae-45ec-a07f-034d04258a2a",
   "metadata": {},
   "outputs": [
    {
     "name": "stdout",
     "output_type": "stream",
     "text": [
      "\u001b[90mundefined\u001b[39m\n"
     ]
    },
    {
     "name": "stderr",
     "output_type": "stream",
     "text": [
      "evalmachine.<anonymous>:15\n",
      "name.tellTheTruth();\n",
      "     ^\n",
      "\n",
      "TypeError: name.tellTheTruth is not a function\n",
      "    at evalmachine.<anonymous>:15:6\n",
      "    at evalmachine.<anonymous>:17:3\n",
      "\u001b[90m    at sigintHandlersWrap (vm.js:273:12)\u001b[39m\n",
      "\u001b[90m    at Script.runInThisContext (vm.js:131:14)\u001b[39m\n",
      "\u001b[90m    at Object.runInThisContext (vm.js:310:38)\u001b[39m\n",
      "    at Object.execute (/home/d9k/.nvm/versions/node/v14.16.1/lib/node_modules/\u001b[4mtslab\u001b[24m/dist/executor.js:160:38)\n",
      "    at JupyterHandlerImpl.handleExecuteImpl (/home/d9k/.nvm/versions/node/v14.16.1/lib/node_modules/\u001b[4mtslab\u001b[24m/dist/jupyter.js:223:38)\n",
      "    at /home/d9k/.nvm/versions/node/v14.16.1/lib/node_modules/\u001b[4mtslab\u001b[24m/dist/jupyter.js:181:57\n",
      "    at async JupyterHandlerImpl.handleExecute (/home/d9k/.nvm/versions/node/v14.16.1/lib/node_modules/\u001b[4mtslab\u001b[24m/dist/jupyter.js:181:21)\n",
      "    at async ZmqServer.handleExecute (/home/d9k/.nvm/versions/node/v14.16.1/lib/node_modules/\u001b[4mtslab\u001b[24m/dist/jupyter.js:379:25)\n"
     ]
    }
   ],
   "source": [
    "var name = 'Darth Vader';\n",
    "\n",
    "// @ts-ignore\n",
    "name.alignment = 'Lawful evil';\n",
    "\n",
    "// @ts-ignore\n",
    "name.tellTheTruth = () => {\n",
    "  console.log('Luke, I am your father!');\n",
    "};\n",
    "\n",
    "// @ts-ignore\n",
    "console.log(name.alignment); //=> undefined\n",
    "\n",
    "// @ts-ignore\n",
    "name.tellTheTruth(); //=> Uncaught TypeError"
   ]
  },
  {
   "cell_type": "markdown",
   "id": "b9d4cdb8-68d4-402f-88ab-b3c14feaebe9",
   "metadata": {},
   "source": [
    "Using wrapper object:"
   ]
  },
  {
   "cell_type": "code",
   "execution_count": 35,
   "id": "156be9d5-c6d6-4d0e-853b-7bb7156f7068",
   "metadata": {},
   "outputs": [
    {
     "name": "stdout",
     "output_type": "stream",
     "text": [
      "Lawful evil\n",
      "Luke, I am your father!\n",
      "Name is \"Darth Vader\"\n",
      "Vader\n"
     ]
    }
   ],
   "source": [
    "var name = new String('Darth Vader');\n",
    "\n",
    "// @ts-ignore\n",
    "name.alignment = 'Lawful evil';\n",
    "\n",
    "// @ts-ignore\n",
    "name.tellTheTruth = () => {\n",
    "  console.log('Luke, I am your father!');\n",
    "};\n",
    "\n",
    "// @ts-ignore\n",
    "console.log(name.alignment); //=> undefined\n",
    "\n",
    "// @ts-ignore\n",
    "name.tellTheTruth(); //=> Uncaught TypeError\n",
    "\n",
    "console.log(`Name is \"${name}\"`);\n",
    "\n",
    "console.log(name.substr(6, 5));"
   ]
  },
  {
   "cell_type": "markdown",
   "id": "198b9b26-9d62-4c25-ac8d-ed47f1d4c080",
   "metadata": {},
   "source": [
    "## Searching in array"
   ]
  },
  {
   "cell_type": "code",
   "execution_count": 47,
   "id": "8722dea8-49fd-479e-9ba2-d96dc3b2f9ea",
   "metadata": {},
   "outputs": [
    {
     "name": "stdout",
     "output_type": "stream",
     "text": [
      "\u001b[33mtrue\u001b[39m\n",
      "\u001b[33m-1\u001b[39m\n"
     ]
    }
   ],
   "source": [
    "var numbers = [1, 2, 3, 4, NaN];\n",
    "console.log(numbers.includes(NaN));\n",
    "console.log(numbers.indexOf(NaN));"
   ]
  },
  {
   "cell_type": "markdown",
   "id": "ac6bf8d0-aae2-43af-896f-3528fad31f02",
   "metadata": {},
   "source": [
    "See \"Special number states\" in [js-math](./js-math.ipynb)."
   ]
  },
  {
   "cell_type": "code",
   "execution_count": 44,
   "id": "545b57c2-63b4-4880-9dbd-ef1f1efd0966",
   "metadata": {},
   "outputs": [
    {
     "name": "stderr",
     "output_type": "stream",
     "text": [
      "1:1 - This condition will always return 'false'.\n"
     ]
    }
   ],
   "source": [
    "NaN === NaN"
   ]
  },
  {
   "cell_type": "code",
   "execution_count": 50,
   "id": "e605f7a9-8c96-4338-a50c-973f621ebb59",
   "metadata": {},
   "outputs": [
    {
     "name": "stdout",
     "output_type": "stream",
     "text": [
      "\u001b[33m4\u001b[39m\n"
     ]
    }
   ],
   "source": [
    "console.log(numbers.findIndex(Number.isNaN))"
   ]
  }
 ],
 "metadata": {
  "kernelspec": {
   "display_name": "JavaScript",
   "language": "javascript",
   "name": "jslab"
  },
  "language_info": {
   "file_extension": ".js",
   "mimetype": "text/javascript",
   "name": "javascript",
   "version": ""
  }
 },
 "nbformat": 4,
 "nbformat_minor": 5
}
