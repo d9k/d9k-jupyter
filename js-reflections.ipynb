{
 "cells": [
  {
   "cell_type": "markdown",
   "id": "b216e1f2-9295-4841-90fd-fafb7616f095",
   "metadata": {},
   "source": [
    "# JS: reflections"
   ]
  },
  {
   "cell_type": "markdown",
   "id": "fc4abf40-ecfc-4e97-8f3a-4d89f7bb5220",
   "metadata": {},
   "source": [
    "## Get the number of parameters expected by a function"
   ]
  },
  {
   "cell_type": "code",
   "execution_count": 3,
   "id": "742b1d99-ad4b-42dc-8ca7-668ecacdf05a",
   "metadata": {},
   "outputs": [
    {
     "data": {
      "text/plain": [
       "4"
      ]
     },
     "execution_count": 3,
     "metadata": {},
     "output_type": "execute_result"
    }
   ],
   "source": [
    "function sum4(num1, num2, num3, num4) {\n",
    "  return num1 + num2 + num3 + num4;\n",
    "}\n",
    "sum4.length"
   ]
  },
  {
   "cell_type": "markdown",
   "id": "c486ea1f-b5c5-4b35-8de1-ec5d6d2f29b9",
   "metadata": {},
   "source": [
    "## Get all properties including inherited"
   ]
  },
  {
   "cell_type": "code",
   "execution_count": 36,
   "id": "be44dccf-824b-45c6-8e57-7825166f5b41",
   "metadata": {},
   "outputs": [
    {
     "name": "stdout",
     "output_type": "stream",
     "text": [
      "All String props: [\n",
      "  { className: 'String', props: [ 'length' ] },\n",
      "  {\n",
      "    className: 'String',\n",
      "    props: [\n",
      "      'anchor',      'big',               'blink',\n",
      "      'bold',        'charAt',            'charCodeAt',\n",
      "      'codePointAt', 'concat',            'constructor',\n",
      "      'endsWith',    'fixed',             'fontcolor',\n",
      "      'fontsize',    'includes',          'indexOf',\n",
      "      'italics',     'lastIndexOf',       'length',\n",
      "      'link',        'localeCompare',     'match',\n",
      "      'matchAll',    'normalize',         'padEnd',\n",
      "      'padStart',    'repeat',            'replace',\n",
      "      'search',      'slice',             'small',\n",
      "      'split',       'startsWith',        'strike',\n",
      "      'sub',         'substr',            'substring',\n",
      "      'sup',         'toLocaleLowerCase', 'toLocaleUpperCase',\n",
      "      'toLowerCase', 'toString',          'toUpperCase',\n",
      "      'trim',        'trimEnd',           'trimLeft',\n",
      "      'trimRight',   'trimStart',         'valueOf'\n",
      "    ]\n",
      "  }\n",
      "]\n",
      "All Date props with base object properties [\n",
      "  { className: 'Date', props: [] },\n",
      "  {\n",
      "    className: 'Date',\n",
      "    props: [\n",
      "      'constructor',        'getDate',            'getDay',\n",
      "      'getFullYear',        'getHours',           'getMilliseconds',\n",
      "      'getMinutes',         'getMonth',           'getSeconds',\n",
      "      'getTime',            'getTimezoneOffset',  'getUTCDate',\n",
      "      'getUTCDay',          'getUTCFullYear',     'getUTCHours',\n",
      "      'getUTCMilliseconds', 'getUTCMinutes',      'getUTCMonth',\n",
      "      'getUTCSeconds',      'getYear',            'setDate',\n",
      "      'setFullYear',        'setHours',           'setMilliseconds',\n",
      "      'setMinutes',         'setMonth',           'setSeconds',\n",
      "      'setTime',            'setUTCDate',         'setUTCFullYear',\n",
      "      'setUTCHours',        'setUTCMilliseconds', 'setUTCMinutes',\n",
      "      'setUTCMonth',        'setUTCSeconds',      'setYear',\n",
      "      'toDateString',       'toGMTString',        'toISOString',\n",
      "      'toJSON',             'toLocaleDateString', 'toLocaleString',\n",
      "      'toLocaleTimeString', 'toString',           'toTimeString',\n",
      "      'toUTCString',        'valueOf'\n",
      "    ]\n",
      "  },\n",
      "  {\n",
      "    className: 'Object',\n",
      "    props: [\n",
      "      '__defineGetter__',\n",
      "      '__defineSetter__',\n",
      "      '__lookupGetter__',\n",
      "      '__lookupSetter__',\n",
      "      '__proto__',\n",
      "      'constructor',\n",
      "      'hasOwnProperty',\n",
      "      'isPrototypeOf',\n",
      "      'propertyIsEnumerable',\n",
      "      'toLocaleString',\n",
      "      'toString',\n",
      "      'valueOf'\n",
      "    ]\n",
      "  }\n",
      "]\n",
      "Own custom obj props [ { className: 'Object', props: [ 'a', 'b' ] } ]\n"
     ]
    }
   ],
   "source": [
    "function getAllProperties(obj, options = {}){\n",
    "    const {\n",
    "        withInherited = true, \n",
    "        withBaseObjectProperties = false\n",
    "    } = options;\n",
    "\n",
    "    var allProps = [], curr = obj;\n",
    "\n",
    "    do {\n",
    "        var className = 'unknown';\n",
    "        try {\n",
    "            className = curr.constructor.name;\n",
    "        } catch (e) {}\n",
    "\n",
    "        var props = Object.getOwnPropertyNames(curr);\n",
    "\n",
    "        if (withBaseObjectProperties ||\n",
    "            className !== 'Object' || \n",
    "            !props.includes('hasOwnProperty')\n",
    "        ) {\n",
    "            props.sort();\n",
    "            allProps.push({className, props});\n",
    "        }\n",
    "\n",
    "        if (!withInherited) {\n",
    "            break;\n",
    "        }\n",
    "    } while (curr = Object.getPrototypeOf(curr));\n",
    "\n",
    "    return allProps;\n",
    "}\n",
    "\n",
    "console.log('All String props:', getAllProperties(''));\n",
    "console.log('All Date props with base object properties', getAllProperties(new Date(), {withBaseObjectProperties: true}));\n",
    "    console.log('Own custom obj props', getAllProperties({a: 1, b: 'two'}, {withInherited: false}));"
   ]
  }
 ],
 "metadata": {
  "kernelspec": {
   "display_name": "JavaScript (Node.js)",
   "language": "javascript",
   "name": "javascript"
  },
  "language_info": {
   "file_extension": ".js",
   "mimetype": "application/javascript",
   "name": "javascript",
   "version": "14.16.1"
  }
 },
 "nbformat": 4,
 "nbformat_minor": 5
}
