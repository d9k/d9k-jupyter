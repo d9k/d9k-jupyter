{
 "cells": [
  {
   "cell_type": "markdown",
   "id": "b216e1f2-9295-4841-90fd-fafb7616f095",
   "metadata": {},
   "source": [
    "# JS: reflections"
   ]
  },
  {
   "cell_type": "markdown",
   "id": "fc4abf40-ecfc-4e97-8f3a-4d89f7bb5220",
   "metadata": {},
   "source": [
    "## Get the number of parameters expected by a function"
   ]
  },
  {
   "cell_type": "code",
   "execution_count": 3,
   "id": "742b1d99-ad4b-42dc-8ca7-668ecacdf05a",
   "metadata": {},
   "outputs": [
    {
     "data": {
      "text/plain": [
       "4"
      ]
     },
     "execution_count": 3,
     "metadata": {},
     "output_type": "execute_result"
    }
   ],
   "source": [
    "function sum4(num1, num2, num3, num4) {\n",
    "  return num1 + num2 + num3 + num4;\n",
    "}\n",
    "sum4.length"
   ]
  },
  {
   "cell_type": "markdown",
   "id": "c486ea1f-b5c5-4b35-8de1-ec5d6d2f29b9",
   "metadata": {},
   "source": [
    "## Get all properties including inherited\n",
    "\n",
    "Use `Object.getOwnPropertyNames(obj);` and `Object.getPrototypeOf(obj).`\n",
    "\n",
    "- [Is it possible to get the non-enumerable inherited property names of an object? - Stack Overflow](https://stackoverflow.com/questions/8024149/is-it-possible-to-get-the-non-enumerable-inherited-property-names-of-an-object)"
   ]
  },
  {
   "cell_type": "code",
   "execution_count": 36,
   "id": "be44dccf-824b-45c6-8e57-7825166f5b41",
   "metadata": {},
   "outputs": [
    {
     "name": "stdout",
     "output_type": "stream",
     "text": [
      "All String props: [\n",
      "  { className: 'String', props: [ 'length' ] },\n",
      "  {\n",
      "    className: 'String',\n",
      "    props: [\n",
      "      'anchor',      'big',               'blink',\n",
      "      'bold',        'charAt',            'charCodeAt',\n",
      "      'codePointAt', 'concat',            'constructor',\n",
      "      'endsWith',    'fixed',             'fontcolor',\n",
      "      'fontsize',    'includes',          'indexOf',\n",
      "      'italics',     'lastIndexOf',       'length',\n",
      "      'link',        'localeCompare',     'match',\n",
      "      'matchAll',    'normalize',         'padEnd',\n",
      "      'padStart',    'repeat',            'replace',\n",
      "      'search',      'slice',             'small',\n",
      "      'split',       'startsWith',        'strike',\n",
      "      'sub',         'substr',            'substring',\n",
      "      'sup',         'toLocaleLowerCase', 'toLocaleUpperCase',\n",
      "      'toLowerCase', 'toString',          'toUpperCase',\n",
      "      'trim',        'trimEnd',           'trimLeft',\n",
      "      'trimRight',   'trimStart',         'valueOf'\n",
      "    ]\n",
      "  }\n",
      "]\n",
      "All Date props with base object properties [\n",
      "  { className: 'Date', props: [] },\n",
      "  {\n",
      "    className: 'Date',\n",
      "    props: [\n",
      "      'constructor',        'getDate',            'getDay',\n",
      "      'getFullYear',        'getHours',           'getMilliseconds',\n",
      "      'getMinutes',         'getMonth',           'getSeconds',\n",
      "      'getTime',            'getTimezoneOffset',  'getUTCDate',\n",
      "      'getUTCDay',          'getUTCFullYear',     'getUTCHours',\n",
      "      'getUTCMilliseconds', 'getUTCMinutes',      'getUTCMonth',\n",
      "      'getUTCSeconds',      'getYear',            'setDate',\n",
      "      'setFullYear',        'setHours',           'setMilliseconds',\n",
      "      'setMinutes',         'setMonth',           'setSeconds',\n",
      "      'setTime',            'setUTCDate',         'setUTCFullYear',\n",
      "      'setUTCHours',        'setUTCMilliseconds', 'setUTCMinutes',\n",
      "      'setUTCMonth',        'setUTCSeconds',      'setYear',\n",
      "      'toDateString',       'toGMTString',        'toISOString',\n",
      "      'toJSON',             'toLocaleDateString', 'toLocaleString',\n",
      "      'toLocaleTimeString', 'toString',           'toTimeString',\n",
      "      'toUTCString',        'valueOf'\n",
      "    ]\n",
      "  },\n",
      "  {\n",
      "    className: 'Object',\n",
      "    props: [\n",
      "      '__defineGetter__',\n",
      "      '__defineSetter__',\n",
      "      '__lookupGetter__',\n",
      "      '__lookupSetter__',\n",
      "      '__proto__',\n",
      "      'constructor',\n",
      "      'hasOwnProperty',\n",
      "      'isPrototypeOf',\n",
      "      'propertyIsEnumerable',\n",
      "      'toLocaleString',\n",
      "      'toString',\n",
      "      'valueOf'\n",
      "    ]\n",
      "  }\n",
      "]\n",
      "Own custom obj props [ { className: 'Object', props: [ 'a', 'b' ] } ]\n"
     ]
    }
   ],
   "source": [
    "function getAllProperties(obj, options = {}){\n",
    "    const {\n",
    "        withInherited = true, \n",
    "        withBaseObjectProperties = false\n",
    "    } = options;\n",
    "\n",
    "    var allProps = [], curr = obj;\n",
    "\n",
    "    do {\n",
    "        var className = 'unknown';\n",
    "        try {\n",
    "            className = curr.constructor.name;\n",
    "        } catch (e) {}\n",
    "\n",
    "        var props = Object.getOwnPropertyNames(curr);\n",
    "\n",
    "        if (withBaseObjectProperties ||\n",
    "            className !== 'Object' || \n",
    "            !props.includes('hasOwnProperty')\n",
    "        ) {\n",
    "            props.sort();\n",
    "            allProps.push({className, props});\n",
    "        }\n",
    "\n",
    "        if (!withInherited) {\n",
    "            break;\n",
    "        }\n",
    "    } while (curr = Object.getPrototypeOf(curr));\n",
    "\n",
    "    return allProps;\n",
    "}\n",
    "\n",
    "console.log('All String props:', getAllProperties(''));\n",
    "console.log('All Date props with base object properties', getAllProperties(new Date(), {withBaseObjectProperties: true}));\n",
    "    console.log('Own custom obj props', getAllProperties({a: 1, b: 'two'}, {withInherited: false}));"
   ]
  },
  {
   "cell_type": "markdown",
   "id": "d8332ad3-4fce-47fb-a939-1dc84ae05d61",
   "metadata": {},
   "source": [
    "## Uneval\n",
    "\n",
    "Gets source code from variable/function. Is deprecated. Use `JSON.stringify()` and `toString()` instead."
   ]
  },
  {
   "cell_type": "code",
   "execution_count": 3,
   "id": "3d1ac0dc-417d-4544-8384-cbd53fdb7cec",
   "metadata": {},
   "outputs": [
    {
     "data": {
      "text/plain": [
       "'function sum(a, b) { return a + b; }'"
      ]
     },
     "execution_count": 3,
     "metadata": {},
     "output_type": "execute_result"
    }
   ],
   "source": [
    "function sum(a, b) { return a + b; }\n",
    "sum.toString()\n"
   ]
  },
  {
   "cell_type": "code",
   "execution_count": 6,
   "id": "2924ed8d-9205-4d15-9372-ad2611946642",
   "metadata": {},
   "outputs": [
    {
     "data": {
      "text/plain": [
       "'[1,2,\"b\"]'"
      ]
     },
     "execution_count": 6,
     "metadata": {},
     "output_type": "execute_result"
    }
   ],
   "source": [
    "JSON.stringify([1, 2, 'b']);"
   ]
  },
  {
   "cell_type": "markdown",
   "id": "6a36b17d-cda0-4bb2-8cd8-655eafdca46e",
   "metadata": {},
   "source": [
    "## GetOwnPropertyDescriptors\n",
    "\n",
    "- https://github.com/sudheerj/javascript-interview-questions#what-are-the-attributes-provided-by-a-property-descriptor\n",
    "- https://developer.mozilla.org/en-US/docs/Web/JavaScript/Reference/Global_Objects/Object/getOwnPropertyDescriptors"
   ]
  },
  {
   "cell_type": "code",
   "execution_count": 1,
   "id": "faf7cc25-2c44-4652-9116-f13b827921d2",
   "metadata": {},
   "outputs": [
    {
     "name": "stdout",
     "output_type": "stream",
     "text": [
      "My name is Gabin. I work at Valve.\n",
      "After create: {\n",
      "  name: {\n",
      "    value: 'Gabin',\n",
      "    writable: true,\n",
      "    enumerable: true,\n",
      "    configurable: true\n",
      "  },\n",
      "  company: {\n",
      "    value: 'Valve',\n",
      "    writable: true,\n",
      "    enumerable: true,\n",
      "    configurable: true\n",
      "  }\n",
      "}\n",
      "After freeze: {\n",
      "  name: {\n",
      "    value: 'Gabin',\n",
      "    writable: false,\n",
      "    enumerable: true,\n",
      "    configurable: false\n",
      "  },\n",
      "  company: {\n",
      "    value: 'Valve',\n",
      "    writable: false,\n",
      "    enumerable: true,\n",
      "    configurable: false\n",
      "  }\n",
      "}\n"
     ]
    }
   ],
   "source": [
    "class Person {\n",
    "    constructor (name) {\n",
    "        this.name = name;\n",
    "    }\n",
    "\n",
    "    getIntroduction() {\n",
    "        return 'My name is ' + this.name + '.';\n",
    "    }\n",
    "}\n",
    "\n",
    "class Employee extends Person {\n",
    "    constructor (name, company) {\n",
    "        super(name)\n",
    "        this.company = company\n",
    "    }\n",
    "\n",
    "    getIntroduction() {\n",
    "        return super.getIntroduction() + ' I work at ' + this.company + '.';\n",
    "    }\n",
    "}\n",
    "\n",
    "var employeeGabin = new Employee('Gabin', 'Valve');\n",
    "\n",
    "console.log(employeeGabin.getIntroduction());\n",
    "\n",
    "console.log('After create:', Object.getOwnPropertyDescriptors(employeeGabin));\n",
    "\n",
    "Object.freeze(employeeGabin);\n",
    "\n",
    "console.log('After freeze:', Object.getOwnPropertyDescriptors(employeeGabin));"
   ]
  },
  {
   "cell_type": "markdown",
   "id": "8e95f5c3-2cf0-4a72-8b9a-a111ee7d42e0",
   "metadata": {},
   "source": [
    "## Getting symbols"
   ]
  },
  {
   "cell_type": "code",
   "execution_count": 11,
   "id": "759f30be-2757-441b-a6b1-07721ecd6ce7",
   "metadata": {},
   "outputs": [
    {
     "name": "stdout",
     "output_type": "stream",
     "text": [
      "{\n",
      "  clement: 'Clement',\n",
      "  dexter: 'Dexter',\n",
      "  [Symbol(alice)]: 'Alice',\n",
      "  [Symbol(bob)]: 'Bob'\n",
      "}\n"
     ]
    }
   ],
   "source": [
    "var obj = {};\n",
    "\n",
    "obj[Symbol('alice')] = 'Alice';\n",
    "obj[Symbol.for('bob')] = 'Bob';\n",
    "obj['clement'] = 'Clement';\n",
    "obj.dexter = \"Dexter\";\n",
    "\n",
    "// Spread\n",
    "console.log({...obj})"
   ]
  },
  {
   "cell_type": "code",
   "execution_count": 8,
   "id": "45bdcaf8-7a2c-4900-8ce0-d11ec50e163a",
   "metadata": {},
   "outputs": [
    {
     "name": "stdout",
     "output_type": "stream",
     "text": [
      "clement\n",
      "dexter\n"
     ]
    }
   ],
   "source": [
    "for (var i in obj) {\n",
    "  console.log(i);\n",
    "}"
   ]
  },
  {
   "cell_type": "code",
   "execution_count": 12,
   "id": "145fcc1a-499e-49ac-9c1b-b656f20fa88d",
   "metadata": {},
   "outputs": [
    {
     "name": "stdout",
     "output_type": "stream",
     "text": [
      "[ 'clement', 'Clement' ]\n",
      "[ 'dexter', 'Dexter' ]\n"
     ]
    }
   ],
   "source": [
    "for (var i of Object.entries(obj)) {\n",
    "  console.log(i);\n",
    "}"
   ]
  },
  {
   "cell_type": "code",
   "execution_count": 13,
   "id": "d349876d-d244-4e4d-b74b-db82da8a0e37",
   "metadata": {},
   "outputs": [
    {
     "name": "stdout",
     "output_type": "stream",
     "text": [
      "[ 'clement', 'dexter' ]\n"
     ]
    }
   ],
   "source": [
    "console.log(Object.getOwnPropertyNames(obj))"
   ]
  },
  {
   "cell_type": "code",
   "execution_count": 14,
   "id": "3917321e-cb04-4bdc-894b-d24d83eb8d73",
   "metadata": {},
   "outputs": [
    {
     "name": "stdout",
     "output_type": "stream",
     "text": [
      "[ Symbol(alice), Symbol(bob) ]\n"
     ]
    }
   ],
   "source": [
    "console.log(Object.getOwnPropertySymbols(obj))"
   ]
  }
 ],
 "metadata": {
  "kernelspec": {
   "display_name": "JavaScript (Node.js)",
   "language": "javascript",
   "name": "javascript"
  },
  "language_info": {
   "file_extension": ".js",
   "mimetype": "application/javascript",
   "name": "javascript",
   "version": "14.16.1"
  }
 },
 "nbformat": 4,
 "nbformat_minor": 5
}
