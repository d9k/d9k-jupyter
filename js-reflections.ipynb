{
 "cells": [
  {
   "cell_type": "code",
   "execution_count": null,
   "id": "d1425ffb-2b95-4889-b0bd-ccef8bcde1eb",
   "metadata": {},
   "outputs": [],
   "source": [
    "# JS: reflections"
   ]
  },
  {
   "cell_type": "markdown",
   "id": "fc4abf40-ecfc-4e97-8f3a-4d89f7bb5220",
   "metadata": {},
   "source": [
    "## Get the number of parameters expected by a function"
   ]
  },
  {
   "cell_type": "code",
   "execution_count": 1,
   "id": "742b1d99-ad4b-42dc-8ca7-668ecacdf05a",
   "metadata": {},
   "outputs": [
    {
     "data": {
      "text/plain": [
       "4"
      ]
     },
     "execution_count": 1,
     "metadata": {},
     "output_type": "execute_result"
    }
   ],
   "source": [
    "function sum4(num1, num2, num3, num4) {\n",
    "  return num1 + num2 + num3 + num4;\n",
    "}\n",
    "sum4.length"
   ]
  }
 ],
 "metadata": {
  "kernelspec": {
   "display_name": "JavaScript (Node.js)",
   "language": "javascript",
   "name": "javascript"
  },
  "language_info": {
   "file_extension": ".js",
   "mimetype": "application/javascript",
   "name": "javascript",
   "version": "14.16.1"
  }
 },
 "nbformat": 4,
 "nbformat_minor": 5
}
